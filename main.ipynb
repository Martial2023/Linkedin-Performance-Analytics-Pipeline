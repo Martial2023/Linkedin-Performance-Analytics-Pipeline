{
 "cells": [
  {
   "cell_type": "markdown",
   "id": "e6b50f2d",
   "metadata": {},
   "source": [
    "## SocialPulse\n",
    "\n",
    "Ce projet vise à analyser les performances des publications sur différents réseaux sociaux (LinkedIn) pour optimiser les stratégies de contenu. \n",
    "Les questions clés sont :\n",
    "\n",
    "- Quel type de publication faire, sur quel réseau, et quand ?\n",
    "    Cela implique d’identifier les formats (vidéo, image, texte, carrousel, etc.), les thèmes (éducatif, divertissant, promotionnel, etc.) et les moments de publication (jour, heure) qui maximisent l’engagement.\n",
    "- Analyser les styles de posts et l’influence des publicateurs pour déterminer le moment idéal et les pics de résultats (vues, réactions, commentaires).\n",
    "    Cela nécessite une segmentation des styles de contenu, une analyse des profils d’influenceurs, et une corrélation avec les métriques d’engagement.\n",
    "\n",
    "Objectifs:\n",
    "\n",
    "- Construire un pipeline de collecte, traitement et analyse des données sociales.\n",
    "- Créer un dashboard interactif pour visualiser les tendances et fournir des recommandations exploitables (ex. : \"Publie une vidéo éducative sur LinkedIn le mardi à 9h pour maximiser les vues\").\n",
    "- Identifier les facteurs (style, horaire, réseau, influenceur) qui influencent les métriques clés (vues, réactions, commentaires)."
   ]
  },
  {
   "cell_type": "markdown",
   "id": "1c42fe03",
   "metadata": {},
   "source": [
    "### 1- Scraper les publications depuis LinkedIn\n",
    "- <span style=\"color: red;\">Réglementez le nombre de requêtes sur les pages linkedin pour ne pas être suspendu</span>"
   ]
  },
  {
   "cell_type": "code",
   "execution_count": null,
   "id": "e2237ee3",
   "metadata": {},
   "outputs": [],
   "source": [
    "import sys\n",
    "import os\n",
    "import re\n",
    "from loguru import logger\n",
    "import time\n",
    "import random\n",
    "import pandas as pd\n",
    "from selenium import webdriver\n",
    "from selenium.webdriver.chrome.service import Service\n",
    "from selenium.webdriver.chrome.options import Options\n",
    "from selenium.webdriver.common.by import By\n",
    "from webdriver_manager.chrome import ChromeDriverManager\n",
    "from bs4 import BeautifulSoup\n",
    "from selenium.webdriver.support.ui import WebDriverWait\n",
    "from selenium.webdriver.support import expected_conditions as EC\n",
    "from selenium.common.exceptions import TimeoutException\n",
    "from datetime import datetime, timedelta\n",
    "from config import LINKEDIN_USER_NAME, LINKEDIN_PWD, DATABASE_URL"
   ]
  },
  {
   "cell_type": "markdown",
   "id": "3a00e9c1",
   "metadata": {},
   "source": [
    "Initialisation du logger"
   ]
  },
  {
   "cell_type": "code",
   "execution_count": null,
   "id": "2a0e2e25",
   "metadata": {},
   "outputs": [
    {
     "data": {
      "text/plain": [
       "2"
      ]
     },
     "execution_count": 2,
     "metadata": {},
     "output_type": "execute_result"
    }
   ],
   "source": [
    "logger.remove()\n",
    "logger.add(\"linkedin\", rotation=\"500kb\", level=\"WARNING\")\n",
    "logger.add(sys.stderr, level=\"INFO\")"
   ]
  },
  {
   "cell_type": "code",
   "execution_count": 3,
   "id": "b7fbf631",
   "metadata": {},
   "outputs": [],
   "source": [
    "def setup_driver():\n",
    "    logger.info(\"Configuration du driver Selenium\")\n",
    "    chrome_options = Options()\n",
    "    chrome_options.add_argument(\"--disable-gpu\")\n",
    "    chrome_options.add_argument(\n",
    "        \"user-agent=Mozilla/5.0 (Windows NT 10.0; Win64; x64) AppleWebKit/537.36 (KHTML, like Gecko) Chrome/91.0.4472.124 Safari/537.36\"\n",
    "    )\n",
    "    # chrome_options.add_argument(\"--headless\")\n",
    "    driver = webdriver.Chrome(\n",
    "        service=Service(ChromeDriverManager().install()),\n",
    "        options=chrome_options\n",
    "    )\n",
    "    return driver"
   ]
  },
  {
   "cell_type": "code",
   "execution_count": 4,
   "id": "56f97eab",
   "metadata": {},
   "outputs": [],
   "source": [
    "def login_to_linkedin(driver, username, password):\n",
    "    logger.info(\"Tentative de connexion à LinkedIn\")\n",
    "    try:\n",
    "        driver.get(\"https://www.linkedin.com/login\")\n",
    "        WebDriverWait(driver, 15).until(\n",
    "            EC.presence_of_element_located((By.ID, \"username\"))\n",
    "        )\n",
    "        time.sleep(random.uniform(2, 5))\n",
    "\n",
    "        email_field = driver.find_element(By.ID, \"username\")\n",
    "        email_field.send_keys(username)\n",
    "        logger.info(\"Email saisi\")\n",
    "\n",
    "        password_field = driver.find_element(By.ID, \"password\")\n",
    "        password_field.send_keys(password)\n",
    "        logger.info(\"Mot de passe saisi\")\n",
    "\n",
    "        submit_button = driver.find_element(By.XPATH, \"//button[@type='submit']\")\n",
    "        submit_button.click()\n",
    "        logger.info(\"Bouton de connexion cliqué\")\n",
    "\n",
    "        WebDriverWait(driver, 15).until(\n",
    "            EC.presence_of_element_located((By.ID, \"global-nav\"))\n",
    "        )\n",
    "        logger.info(\"Connexion réussie\")\n",
    "        time.sleep(random.uniform(3, 6))\n",
    "    except TimeoutException:\n",
    "        logger.error(\"Timeout lors de la connexion à LinkedIn. Possible CAPTCHA ou erreur réseau.\")\n",
    "        raise\n",
    "    except Exception as e:\n",
    "        logger.error(f\"Erreur lors de la connexion : {str(e)}\")\n",
    "        raise"
   ]
  },
  {
   "cell_type": "code",
   "execution_count": 5,
   "id": "a217b2ae",
   "metadata": {},
   "outputs": [],
   "source": [
    "def parse_relative_date(relative_date, scrape_time):\n",
    "    \"\"\"Convertir une date relative en date estimée.\"\"\"\n",
    "    if \"N/A\" in relative_date:\n",
    "        return \"N/A\"\n",
    "    try:\n",
    "        if \"min\" in relative_date.lower():\n",
    "            minutes = int(relative_date.split()[0])\n",
    "            return (scrape_time - timedelta(minutes=minutes)).strftime(\"%Y-%m-%d %H:%M:%S\")\n",
    "        if \"h\" in relative_date.lower():\n",
    "            hours = int(relative_date.split()[0])\n",
    "            return (scrape_time - timedelta(hours=hours)).strftime(\"%Y-%m-%d %H:%M:%S\")\n",
    "        elif \"d\" in relative_date.lower():\n",
    "            days = int(relative_date.split()[0])\n",
    "            return (scrape_time - timedelta(days=days)).strftime(\"%Y-%m-%d 12:00:00\")\n",
    "        elif \"w\" in relative_date.lower():\n",
    "            weeks = int(relative_date.split()[0])\n",
    "            return (scrape_time - timedelta(weeks=weeks)).strftime(\"%Y-%m-%d 12:00:00\")\n",
    "        elif \"mois\" in relative_date.lower():\n",
    "            mois = int(relative_date.split()[0])\n",
    "            return (scrape_time - timedelta(days=30 * mois)).strftime(\"%Y-%m-%d 12:00:00\")\n",
    "        else:\n",
    "            return relative_date\n",
    "    except Exception as e:\n",
    "        logger.warning(f\"Erreur lors du parsing de la date {relative_date} : {str(e)}\")\n",
    "        return relative_date"
   ]
  },
  {
   "cell_type": "code",
   "execution_count": 6,
   "id": "f561dfc6",
   "metadata": {},
   "outputs": [],
   "source": [
    "def scrape_posts(driver, search_url, theme=\"feed\", max_scrolls=5, posts_per_theme=100):\n",
    "    logger.info(f\"Scraping des posts pour l'URL : {search_url}\")\n",
    "    post_data = []\n",
    "    scrape_time = datetime.now()\n",
    "    try:\n",
    "        driver.get(search_url)\n",
    "        WebDriverWait(driver, 15).until(\n",
    "            EC.presence_of_element_located((By.CLASS_NAME, \"feed-shared-update-v2\"))\n",
    "        )\n",
    "        time.sleep(random.uniform(2, 5))\n",
    "\n",
    "        # Faire défiler pour charger plus de posts\n",
    "        for _ in range(max_scrolls):\n",
    "            driver.execute_script(\"window.scrollTo(0, document.body.scrollHeight);\")\n",
    "            time.sleep(1)\n",
    "            try:\n",
    "                more_button = driver.find_element(By.CLASS_NAME, 'scaffold-finite-scroll__load-button')\n",
    "                more_button.click()\n",
    "            except:\n",
    "                pass\n",
    "            time.sleep(random.uniform(3, 6))\n",
    "            \n",
    "\n",
    "        # Parser la page pour collecter les URLs\n",
    "        soup = BeautifulSoup(driver.page_source, \"html.parser\")\n",
    "        posts = soup.find_all(\"div\", class_=\"feed-shared-update-v2\")\n",
    "        \n",
    "        # Scraper chaque post individuel\n",
    "        for i, post in enumerate(posts[:posts_per_theme]):\n",
    "            try:\n",
    "                # Extraire les données\n",
    "                description_elem = post.find(\"span\", class_=\"break-words\")\n",
    "                description = description_elem.text.strip() if description_elem else \"N/A\"\n",
    "\n",
    "                # Extraire la date\n",
    "                date_elem = post.find(\"span\", class_=\"update-components-actor__sub-description\")\n",
    "                date_text = date_elem.text.strip() if date_elem else \"N/A\"\n",
    "                date_text = date_text.split('•')[0]\n",
    "                date = parse_relative_date(date_text, scrape_time)\n",
    "\n",
    "                likes_elem = post.find(\"span\", class_=\"social-details-social-counts__reactions-count\")\n",
    "                likes = likes_elem.text.strip() if likes_elem else \"0\"\n",
    "                \n",
    "                comments = \"0\"\n",
    "                shares = \"0\"\n",
    "                shares_comments_elems = post.select(\"button.social-details-social-counts__btn > span\")\n",
    "                for elem in shares_comments_elems:\n",
    "                    text = elem.text.strip().lower()\n",
    "                    if \"comment\" in text:\n",
    "                        comments = text.split()[0].strip() or \"0\"\n",
    "                    elif \"republication\" in text or \"share\" in text:\n",
    "                        shares = text.split()[0].strip() or \"0\"\n",
    "                \n",
    "                author_elem = post.find(\"a\", class_=\"update-components-actor__meta-link\")\n",
    "                if author_elem:\n",
    "                    author_link = author_elem[\"href\"]\n",
    "                    sub_span = author_elem.find(\"span\", dir=\"ltr\")\n",
    "                    if sub_span:\n",
    "                        name_span = sub_span.find(\"span\", {\"aria-hidden\": \"true\"})\n",
    "                        author = name_span.text.strip() if name_span else sub_span.text.strip()\n",
    "                    else:\n",
    "                        author = author_elem.text.strip()\n",
    "                else:\n",
    "                    author = \"N/A\"\n",
    "                logger.debug(f\"Auteur extrait : {author}: {author_link}\")\n",
    "\n",
    "                post_data.append({\n",
    "                    \"author\": author,\n",
    "                    \"author_link\": author_link,\n",
    "                    \"text\": description,\n",
    "                    \"date\": date,\n",
    "                    \"likes\": likes,\n",
    "                    \"comments\": comments,\n",
    "                    \"shares\": shares,\n",
    "                    \"theme\": theme,\n",
    "                })\n",
    "                logger.info(f\"Post scrapé : - Auteur : {author}\")\n",
    "                time.sleep(random.uniform(1, 2))\n",
    "            except Exception as e:\n",
    "                logger.warning(f\"Erreur lors du scraping du post : {str(e)}\")\n",
    "                continue\n",
    "\n",
    "        return post_data\n",
    "    except TimeoutException:\n",
    "        logger.error(\"Timeout lors du chargement des posts.\")\n",
    "        return post_data\n",
    "    except Exception as e:\n",
    "        logger.error(f\"Erreur lors du scraping des posts : {str(e)}\")\n",
    "        return post_data"
   ]
  },
  {
   "cell_type": "code",
   "execution_count": 13,
   "id": "fade8beb",
   "metadata": {},
   "outputs": [],
   "source": [
    "def main(driver, themes, target_total_posts, path, sub_path):\n",
    "    posts_per_theme = target_total_posts // len(themes)\n",
    "    all_posts = []\n",
    "    os.makedirs(path, exist_ok=True)\n",
    "    os.makedirs(sub_path, exist_ok=True)\n",
    "\n",
    "    try:\n",
    "        for theme in themes:\n",
    "            logger.info(f\"Début du scraping pour la thématique : {theme}\")\n",
    "            search_url = f\"https://www.linkedin.com/search/results/content/?keywords={theme.replace(' ', '%20')}\"\n",
    "            posts = scrape_posts(driver, search_url, theme=theme, max_scrolls=5, posts_per_theme=posts_per_theme)\n",
    "            sub_df = pd.DataFrame(posts)\n",
    "            sub_df.to_csv(f\"{sub_path}/{theme}_{datetime.now().strftime(\"%H_%M_%d_%m_%Y\")}.csv\")\n",
    "            all_posts.extend(posts)\n",
    "            logger.info(f\"Posts scrapés pour {theme} : {len(posts)}\")\n",
    "            time.sleep(random.uniform(5, 10))\n",
    "\n",
    "        if all_posts:\n",
    "            df = pd.DataFrame(all_posts)\n",
    "            filename = f\"{path}/linkedin_posts_{datetime.now().strftime(\"%H_%M_%d_%m_%Y\")}.csv\"\n",
    "            df.to_csv(filename, index=False, encoding=\"utf-8\")\n",
    "            logger.info(f\"Données sauvegardées dans {filename} ({len(all_posts)} posts)\")\n",
    "        else:\n",
    "            logger.warning(\"Aucune donnée scrapée\")\n",
    "\n",
    "    except Exception as e:\n",
    "        logger.error(f\"Erreur dans le programme principal : {str(e)}\")\n",
    "    "
   ]
  },
  {
   "cell_type": "code",
   "execution_count": null,
   "id": "caa46046",
   "metadata": {},
   "outputs": [],
   "source": [
    "def get_subscribers(driver, link):\n",
    "    \"\"\"\n",
    "        Extrait le nombre d'abonnés d'un profil LinkedIn à partir de son URL.\n",
    "        \n",
    "        Args:\n",
    "            driver: Instance du WebDriver Selenium.\n",
    "            link (str): URL du profil LinkedIn (author_link).\n",
    "            \n",
    "        Returns:\n",
    "            int: Nombre d'abonnés (ex. : 9517) ou 0 si échec.\n",
    "    \"\"\"\n",
    "    try:\n",
    "        driver.get(link)\n",
    "        \n",
    "        WebDriverWait(driver, 15).until(\n",
    "            EC.presence_of_element_located((By.CLASS_NAME, \"pvs-entity__caption-wrapper\"))\n",
    "        )\n",
    "        time.sleep(random.uniform(2, 4))\n",
    "        \n",
    "        soup = BeautifulSoup(driver.page_source, \"html.parser\")\n",
    "        subscribers_element = soup.find('span', class_=\"pvs-entity__caption-wrapper\")\n",
    "        \n",
    "        if subscribers_element:\n",
    "            text = subscribers_element.text.strip()\n",
    "            \n",
    "            # Nettoyer et extraire le nombre\n",
    "            # Remplacer l'espace insécable et normaliser\n",
    "            text = text.replace('\\u202f', '').replace('\\u00a0', '')\n",
    "            \n",
    "            # Extraire le nombre avec regex\n",
    "            match = re.search(r'(\\d[\\d\\s,]*\\d|\\d+)(?=\\s*(abonné|abonnés|follower|followers))', text)\n",
    "            if match:\n",
    "                number_str = match.group(1).replace(' ', '').replace(',', '')\n",
    "                subscribers = int(number_str)\n",
    "                logger.info(f\"Nombre d'abonnés extrait : {subscribers}\")\n",
    "                return subscribers\n",
    "            else:\n",
    "                return text\n",
    "        else:\n",
    "            return 0\n",
    "            \n",
    "    except TimeoutException:\n",
    "        logger.error(f\"Timeout lors du chargement du profil {link}\")\n",
    "        return 0\n",
    "    except Exception as e:\n",
    "        logger.error(f\"Erreur lors de la récupération des abonnés pour {link} : {str(e)}\")\n",
    "        return 0"
   ]
  },
  {
   "cell_type": "code",
   "execution_count": 9,
   "id": "ee00d318",
   "metadata": {},
   "outputs": [
    {
     "name": "stderr",
     "output_type": "stream",
     "text": [
      "\u001b[32m2025-04-25 23:20:29.899\u001b[0m | \u001b[1mINFO    \u001b[0m | \u001b[36m__main__\u001b[0m:\u001b[36msetup_driver\u001b[0m:\u001b[36m2\u001b[0m - \u001b[1mConfiguration du driver Selenium\u001b[0m\n"
     ]
    }
   ],
   "source": [
    "driver = setup_driver()"
   ]
  },
  {
   "cell_type": "code",
   "execution_count": 11,
   "id": "3e1a7e56",
   "metadata": {},
   "outputs": [
    {
     "name": "stderr",
     "output_type": "stream",
     "text": [
      "\u001b[32m2025-04-25 23:26:35.820\u001b[0m | \u001b[1mINFO    \u001b[0m | \u001b[36m__main__\u001b[0m:\u001b[36mlogin_to_linkedin\u001b[0m:\u001b[36m2\u001b[0m - \u001b[1mTentative de connexion à LinkedIn\u001b[0m\n",
      "\u001b[32m2025-04-25 23:26:44.880\u001b[0m | \u001b[1mINFO    \u001b[0m | \u001b[36m__main__\u001b[0m:\u001b[36mlogin_to_linkedin\u001b[0m:\u001b[36m12\u001b[0m - \u001b[1mEmail saisi\u001b[0m\n",
      "\u001b[32m2025-04-25 23:26:45.353\u001b[0m | \u001b[1mINFO    \u001b[0m | \u001b[36m__main__\u001b[0m:\u001b[36mlogin_to_linkedin\u001b[0m:\u001b[36m16\u001b[0m - \u001b[1mMot de passe saisi\u001b[0m\n",
      "\u001b[32m2025-04-25 23:27:23.891\u001b[0m | \u001b[1mINFO    \u001b[0m | \u001b[36m__main__\u001b[0m:\u001b[36mlogin_to_linkedin\u001b[0m:\u001b[36m20\u001b[0m - \u001b[1mBouton de connexion cliqué\u001b[0m\n",
      "\u001b[32m2025-04-25 23:27:24.107\u001b[0m | \u001b[1mINFO    \u001b[0m | \u001b[36m__main__\u001b[0m:\u001b[36mlogin_to_linkedin\u001b[0m:\u001b[36m25\u001b[0m - \u001b[1mConnexion réussie\u001b[0m\n"
     ]
    }
   ],
   "source": [
    "login_to_linkedin(driver, LINKEDIN_USER_NAME, LINKEDIN_PWD+\".\")"
   ]
  },
  {
   "cell_type": "code",
   "execution_count": null,
   "id": "4b31437f",
   "metadata": {},
   "outputs": [
    {
     "name": "stderr",
     "output_type": "stream",
     "text": [
      "\u001b[32m2025-04-25 23:29:51.062\u001b[0m | \u001b[1mINFO    \u001b[0m | \u001b[36m__main__\u001b[0m:\u001b[36mmain\u001b[0m:\u001b[36m9\u001b[0m - \u001b[1mDébut du scraping pour la thématique : IA\u001b[0m\n",
      "\u001b[32m2025-04-25 23:29:51.064\u001b[0m | \u001b[1mINFO    \u001b[0m | \u001b[36m__main__\u001b[0m:\u001b[36mscrape_posts\u001b[0m:\u001b[36m2\u001b[0m - \u001b[1mScraping des posts pour l'URL : https://www.linkedin.com/search/results/content/?keywords=IA\u001b[0m\n",
      "\u001b[32m2025-04-25 23:30:43.259\u001b[0m | \u001b[1mINFO    \u001b[0m | \u001b[36m__main__\u001b[0m:\u001b[36mscrape_posts\u001b[0m:\u001b[36m77\u001b[0m - \u001b[1mPost scrapé : - Auteur : WENDKUNI ROLAND SAWADOGO\u001b[0m\n",
      "\u001b[32m2025-04-25 23:30:44.522\u001b[0m | \u001b[1mINFO    \u001b[0m | \u001b[36m__main__\u001b[0m:\u001b[36mscrape_posts\u001b[0m:\u001b[36m77\u001b[0m - \u001b[1mPost scrapé : - Auteur : Philippe Gautier\u001b[0m\n",
      "\u001b[32m2025-04-25 23:30:46.144\u001b[0m | \u001b[1mINFO    \u001b[0m | \u001b[36m__main__\u001b[0m:\u001b[36mscrape_posts\u001b[0m:\u001b[36m77\u001b[0m - \u001b[1mPost scrapé : - Auteur : Dr Souad Najoua Lagmiri\u001b[0m\n",
      "\u001b[32m2025-04-25 23:30:48.055\u001b[0m | \u001b[1mINFO    \u001b[0m | \u001b[36m__main__\u001b[0m:\u001b[36mscrape_posts\u001b[0m:\u001b[36m77\u001b[0m - \u001b[1mPost scrapé : - Auteur : Cristi PITNER\u001b[0m\n",
      "\u001b[32m2025-04-25 23:30:49.232\u001b[0m | \u001b[1mINFO    \u001b[0m | \u001b[36m__main__\u001b[0m:\u001b[36mscrape_posts\u001b[0m:\u001b[36m77\u001b[0m - \u001b[1mPost scrapé : - Auteur : ISMAGI Rabat\u001b[0m\n",
      "\u001b[32m2025-04-25 23:30:50.906\u001b[0m | \u001b[1mINFO    \u001b[0m | \u001b[36m__main__\u001b[0m:\u001b[36mscrape_posts\u001b[0m:\u001b[36m77\u001b[0m - \u001b[1mPost scrapé : - Auteur : Douglas Consultor Online\u001b[0m\n",
      "\u001b[32m2025-04-25 23:30:52.314\u001b[0m | \u001b[1mINFO    \u001b[0m | \u001b[36m__main__\u001b[0m:\u001b[36mscrape_posts\u001b[0m:\u001b[36m77\u001b[0m - \u001b[1mPost scrapé : - Auteur : Philippe Gautier\u001b[0m\n",
      "\u001b[32m2025-04-25 23:30:53.571\u001b[0m | \u001b[1mINFO    \u001b[0m | \u001b[36m__main__\u001b[0m:\u001b[36mscrape_posts\u001b[0m:\u001b[36m77\u001b[0m - \u001b[1mPost scrapé : - Auteur : BDigit 24 France\u001b[0m\n",
      "\u001b[32m2025-04-25 23:30:55.595\u001b[0m | \u001b[1mINFO    \u001b[0m | \u001b[36m__main__\u001b[0m:\u001b[36mscrape_posts\u001b[0m:\u001b[36m77\u001b[0m - \u001b[1mPost scrapé : - Auteur : Soufiane L.\u001b[0m\n",
      "\u001b[32m2025-04-25 23:30:56.861\u001b[0m | \u001b[1mINFO    \u001b[0m | \u001b[36m__main__\u001b[0m:\u001b[36mscrape_posts\u001b[0m:\u001b[36m77\u001b[0m - \u001b[1mPost scrapé : - Auteur : Bruegel SONOUNAMETO\u001b[0m\n",
      "\u001b[32m2025-04-25 23:30:58.734\u001b[0m | \u001b[1mINFO    \u001b[0m | \u001b[36m__main__\u001b[0m:\u001b[36mscrape_posts\u001b[0m:\u001b[36m77\u001b[0m - \u001b[1mPost scrapé : - Auteur : Genaro Rebolledo, Ph.D.\u001b[0m\n",
      "\u001b[32m2025-04-25 23:31:00.212\u001b[0m | \u001b[1mINFO    \u001b[0m | \u001b[36m__main__\u001b[0m:\u001b[36mscrape_posts\u001b[0m:\u001b[36m77\u001b[0m - \u001b[1mPost scrapé : - Auteur : Marcel C S Gninkinme\u001b[0m\n",
      "\u001b[32m2025-04-25 23:31:01.981\u001b[0m | \u001b[1mINFO    \u001b[0m | \u001b[36m__main__\u001b[0m:\u001b[36mscrape_posts\u001b[0m:\u001b[36m77\u001b[0m - \u001b[1mPost scrapé : - Auteur : Ramdane Djezairi\u001b[0m\n",
      "\u001b[32m2025-04-25 23:31:03.877\u001b[0m | \u001b[1mINFO    \u001b[0m | \u001b[36m__main__\u001b[0m:\u001b[36mscrape_posts\u001b[0m:\u001b[36m77\u001b[0m - \u001b[1mPost scrapé : - Auteur : Cédric DEKOUN (DOAT) 👑\u001b[0m\n",
      "\u001b[32m2025-04-25 23:31:05.874\u001b[0m | \u001b[1mINFO    \u001b[0m | \u001b[36m__main__\u001b[0m:\u001b[36mscrape_posts\u001b[0m:\u001b[36m77\u001b[0m - \u001b[1mPost scrapé : - Auteur : Morad Attik\u001b[0m\n",
      "\u001b[32m2025-04-25 23:31:07.471\u001b[0m | \u001b[1mINFO    \u001b[0m | \u001b[36m__main__\u001b[0m:\u001b[36mscrape_posts\u001b[0m:\u001b[36m77\u001b[0m - \u001b[1mPost scrapé : - Auteur : Kevin Dufraisse🔭\u001b[0m\n",
      "\u001b[32m2025-04-25 23:31:09.668\u001b[0m | \u001b[1mINFO    \u001b[0m | \u001b[36m__main__\u001b[0m:\u001b[36mmain\u001b[0m:\u001b[36m15\u001b[0m - \u001b[1mPosts scrapés pour IA : 16\u001b[0m\n",
      "\u001b[32m2025-04-25 23:31:19.520\u001b[0m | \u001b[1mINFO    \u001b[0m | \u001b[36m__main__\u001b[0m:\u001b[36mmain\u001b[0m:\u001b[36m9\u001b[0m - \u001b[1mDébut du scraping pour la thématique : DataScience\u001b[0m\n",
      "\u001b[32m2025-04-25 23:31:19.524\u001b[0m | \u001b[1mINFO    \u001b[0m | \u001b[36m__main__\u001b[0m:\u001b[36mscrape_posts\u001b[0m:\u001b[36m2\u001b[0m - \u001b[1mScraping des posts pour l'URL : https://www.linkedin.com/search/results/content/?keywords=DataScience\u001b[0m\n",
      "\u001b[32m2025-04-25 23:32:08.498\u001b[0m | \u001b[1mINFO    \u001b[0m | \u001b[36m__main__\u001b[0m:\u001b[36mscrape_posts\u001b[0m:\u001b[36m77\u001b[0m - \u001b[1mPost scrapé : - Auteur : Ishan Malik\u001b[0m\n",
      "\u001b[32m2025-04-25 23:32:10.051\u001b[0m | \u001b[1mINFO    \u001b[0m | \u001b[36m__main__\u001b[0m:\u001b[36mscrape_posts\u001b[0m:\u001b[36m77\u001b[0m - \u001b[1mPost scrapé : - Auteur : SHIVASAI GUPTA CH\u001b[0m\n",
      "\u001b[32m2025-04-25 23:32:11.527\u001b[0m | \u001b[1mINFO    \u001b[0m | \u001b[36m__main__\u001b[0m:\u001b[36mscrape_posts\u001b[0m:\u001b[36m77\u001b[0m - \u001b[1mPost scrapé : - Auteur : Vishal Singh\u001b[0m\n",
      "\u001b[32m2025-04-25 23:32:13.301\u001b[0m | \u001b[1mINFO    \u001b[0m | \u001b[36m__main__\u001b[0m:\u001b[36mscrape_posts\u001b[0m:\u001b[36m77\u001b[0m - \u001b[1mPost scrapé : - Auteur : Pavithra H\u001b[0m\n",
      "\u001b[32m2025-04-25 23:32:14.812\u001b[0m | \u001b[1mINFO    \u001b[0m | \u001b[36m__main__\u001b[0m:\u001b[36mscrape_posts\u001b[0m:\u001b[36m77\u001b[0m - \u001b[1mPost scrapé : - Auteur : S4DS DYPCOE\u001b[0m\n",
      "\u001b[32m2025-04-25 23:32:16.449\u001b[0m | \u001b[1mINFO    \u001b[0m | \u001b[36m__main__\u001b[0m:\u001b[36mscrape_posts\u001b[0m:\u001b[36m77\u001b[0m - \u001b[1mPost scrapé : - Auteur : Sourav Garodia\u001b[0m\n",
      "\u001b[32m2025-04-25 23:32:18.121\u001b[0m | \u001b[1mINFO    \u001b[0m | \u001b[36m__main__\u001b[0m:\u001b[36mscrape_posts\u001b[0m:\u001b[36m77\u001b[0m - \u001b[1mPost scrapé : - Auteur : Irfadillah Afni Nurvita\u001b[0m\n",
      "\u001b[32m2025-04-25 23:32:19.246\u001b[0m | \u001b[1mINFO    \u001b[0m | \u001b[36m__main__\u001b[0m:\u001b[36mscrape_posts\u001b[0m:\u001b[36m77\u001b[0m - \u001b[1mPost scrapé : - Auteur : Sumit Yadav\u001b[0m\n",
      "\u001b[32m2025-04-25 23:32:20.948\u001b[0m | \u001b[1mINFO    \u001b[0m | \u001b[36m__main__\u001b[0m:\u001b[36mscrape_posts\u001b[0m:\u001b[36m77\u001b[0m - \u001b[1mPost scrapé : - Auteur : Wahyu Saputra Hasyim\u001b[0m\n",
      "\u001b[32m2025-04-25 23:32:22.807\u001b[0m | \u001b[1mINFO    \u001b[0m | \u001b[36m__main__\u001b[0m:\u001b[36mscrape_posts\u001b[0m:\u001b[36m77\u001b[0m - \u001b[1mPost scrapé : - Auteur : Aarti .\u001b[0m\n",
      "\u001b[32m2025-04-25 23:32:24.690\u001b[0m | \u001b[1mINFO    \u001b[0m | \u001b[36m__main__\u001b[0m:\u001b[36mscrape_posts\u001b[0m:\u001b[36m77\u001b[0m - \u001b[1mPost scrapé : - Auteur : Mureed Sajjad\u001b[0m\n",
      "\u001b[32m2025-04-25 23:32:25.739\u001b[0m | \u001b[1mINFO    \u001b[0m | \u001b[36m__main__\u001b[0m:\u001b[36mscrape_posts\u001b[0m:\u001b[36m77\u001b[0m - \u001b[1mPost scrapé : - Auteur : d quick learn\u001b[0m\n",
      "\u001b[32m2025-04-25 23:32:27.213\u001b[0m | \u001b[1mINFO    \u001b[0m | \u001b[36m__main__\u001b[0m:\u001b[36mscrape_posts\u001b[0m:\u001b[36m77\u001b[0m - \u001b[1mPost scrapé : - Auteur : SUNIL AMIN\u001b[0m\n",
      "\u001b[32m2025-04-25 23:32:28.656\u001b[0m | \u001b[1mINFO    \u001b[0m | \u001b[36m__main__\u001b[0m:\u001b[36mscrape_posts\u001b[0m:\u001b[36m77\u001b[0m - \u001b[1mPost scrapé : - Auteur : Sidra Fateh\u001b[0m\n",
      "\u001b[32m2025-04-25 23:32:29.810\u001b[0m | \u001b[1mINFO    \u001b[0m | \u001b[36m__main__\u001b[0m:\u001b[36mscrape_posts\u001b[0m:\u001b[36m77\u001b[0m - \u001b[1mPost scrapé : - Auteur : Raditya Erlang Arkananta\u001b[0m\n",
      "\u001b[32m2025-04-25 23:32:31.470\u001b[0m | \u001b[1mINFO    \u001b[0m | \u001b[36m__main__\u001b[0m:\u001b[36mscrape_posts\u001b[0m:\u001b[36m77\u001b[0m - \u001b[1mPost scrapé : - Auteur : Amit Verma\u001b[0m\n",
      "\u001b[32m2025-04-25 23:32:33.152\u001b[0m | \u001b[1mINFO    \u001b[0m | \u001b[36m__main__\u001b[0m:\u001b[36mmain\u001b[0m:\u001b[36m15\u001b[0m - \u001b[1mPosts scrapés pour DataScience : 16\u001b[0m\n",
      "\u001b[32m2025-04-25 23:32:39.361\u001b[0m | \u001b[1mINFO    \u001b[0m | \u001b[36m__main__\u001b[0m:\u001b[36mmain\u001b[0m:\u001b[36m9\u001b[0m - \u001b[1mDébut du scraping pour la thématique : Innovation\u001b[0m\n",
      "\u001b[32m2025-04-25 23:32:39.366\u001b[0m | \u001b[1mINFO    \u001b[0m | \u001b[36m__main__\u001b[0m:\u001b[36mscrape_posts\u001b[0m:\u001b[36m2\u001b[0m - \u001b[1mScraping des posts pour l'URL : https://www.linkedin.com/search/results/content/?keywords=Innovation\u001b[0m\n",
      "\u001b[32m2025-04-25 23:33:21.567\u001b[0m | \u001b[1mINFO    \u001b[0m | \u001b[36m__main__\u001b[0m:\u001b[36mscrape_posts\u001b[0m:\u001b[36m77\u001b[0m - \u001b[1mPost scrapé : - Auteur : Emanuela Ficetola\u001b[0m\n",
      "\u001b[32m2025-04-25 23:33:22.769\u001b[0m | \u001b[1mINFO    \u001b[0m | \u001b[36m__main__\u001b[0m:\u001b[36mscrape_posts\u001b[0m:\u001b[36m77\u001b[0m - \u001b[1mPost scrapé : - Auteur : Ankoor Agnihotri\u001b[0m\n",
      "\u001b[32m2025-04-25 23:33:24.410\u001b[0m | \u001b[1mINFO    \u001b[0m | \u001b[36m__main__\u001b[0m:\u001b[36mscrape_posts\u001b[0m:\u001b[36m77\u001b[0m - \u001b[1mPost scrapé : - Auteur : Holly Fletcher\u001b[0m\n",
      "\u001b[32m2025-04-25 23:33:25.600\u001b[0m | \u001b[1mINFO    \u001b[0m | \u001b[36m__main__\u001b[0m:\u001b[36mscrape_posts\u001b[0m:\u001b[36m77\u001b[0m - \u001b[1mPost scrapé : - Auteur : Dan Bentley\u001b[0m\n",
      "\u001b[32m2025-04-25 23:33:27.317\u001b[0m | \u001b[1mINFO    \u001b[0m | \u001b[36m__main__\u001b[0m:\u001b[36mscrape_posts\u001b[0m:\u001b[36m77\u001b[0m - \u001b[1mPost scrapé : - Auteur : Tracey Newman\u001b[0m\n",
      "\u001b[32m2025-04-25 23:33:29.112\u001b[0m | \u001b[1mINFO    \u001b[0m | \u001b[36m__main__\u001b[0m:\u001b[36mscrape_posts\u001b[0m:\u001b[36m77\u001b[0m - \u001b[1mPost scrapé : - Auteur : Bizmoni - All-in-ONE AI Super APP\u001b[0m\n",
      "\u001b[32m2025-04-25 23:33:30.265\u001b[0m | \u001b[1mINFO    \u001b[0m | \u001b[36m__main__\u001b[0m:\u001b[36mscrape_posts\u001b[0m:\u001b[36m77\u001b[0m - \u001b[1mPost scrapé : - Auteur : G.SHARMILI .\u001b[0m\n",
      "\u001b[32m2025-04-25 23:33:31.842\u001b[0m | \u001b[1mINFO    \u001b[0m | \u001b[36m__main__\u001b[0m:\u001b[36mscrape_posts\u001b[0m:\u001b[36m77\u001b[0m - \u001b[1mPost scrapé : - Auteur : Mohanad Abu Alhaija\u001b[0m\n",
      "\u001b[32m2025-04-25 23:33:32.984\u001b[0m | \u001b[1mINFO    \u001b[0m | \u001b[36m__main__\u001b[0m:\u001b[36mscrape_posts\u001b[0m:\u001b[36m77\u001b[0m - \u001b[1mPost scrapé : - Auteur : Mohamed Fayis\u001b[0m\n",
      "\u001b[32m2025-04-25 23:33:34.134\u001b[0m | \u001b[1mINFO    \u001b[0m | \u001b[36m__main__\u001b[0m:\u001b[36mscrape_posts\u001b[0m:\u001b[36m77\u001b[0m - \u001b[1mPost scrapé : - Auteur : Waleed AlRashidi\u001b[0m\n",
      "\u001b[32m2025-04-25 23:33:35.728\u001b[0m | \u001b[1mINFO    \u001b[0m | \u001b[36m__main__\u001b[0m:\u001b[36mscrape_posts\u001b[0m:\u001b[36m77\u001b[0m - \u001b[1mPost scrapé : - Auteur : Dr. Rupal S.\u001b[0m\n",
      "\u001b[32m2025-04-25 23:33:36.848\u001b[0m | \u001b[1mINFO    \u001b[0m | \u001b[36m__main__\u001b[0m:\u001b[36mscrape_posts\u001b[0m:\u001b[36m77\u001b[0m - \u001b[1mPost scrapé : - Auteur : Balwant Singh\u001b[0m\n",
      "\u001b[32m2025-04-25 23:33:38.644\u001b[0m | \u001b[1mINFO    \u001b[0m | \u001b[36m__main__\u001b[0m:\u001b[36mscrape_posts\u001b[0m:\u001b[36m77\u001b[0m - \u001b[1mPost scrapé : - Auteur : Suresh Yadav\u001b[0m\n",
      "\u001b[32m2025-04-25 23:33:40.561\u001b[0m | \u001b[1mINFO    \u001b[0m | \u001b[36m__main__\u001b[0m:\u001b[36mscrape_posts\u001b[0m:\u001b[36m77\u001b[0m - \u001b[1mPost scrapé : - Auteur : Félix Socorro, P.\u001b[0m\n",
      "\u001b[32m2025-04-25 23:33:42.474\u001b[0m | \u001b[1mINFO    \u001b[0m | \u001b[36m__main__\u001b[0m:\u001b[36mscrape_posts\u001b[0m:\u001b[36m77\u001b[0m - \u001b[1mPost scrapé : - Auteur : Balwant Singh\u001b[0m\n",
      "\u001b[32m2025-04-25 23:33:43.670\u001b[0m | \u001b[1mINFO    \u001b[0m | \u001b[36m__main__\u001b[0m:\u001b[36mscrape_posts\u001b[0m:\u001b[36m77\u001b[0m - \u001b[1mPost scrapé : - Auteur : naval kishor\u001b[0m\n",
      "\u001b[32m2025-04-25 23:33:44.798\u001b[0m | \u001b[1mINFO    \u001b[0m | \u001b[36m__main__\u001b[0m:\u001b[36mmain\u001b[0m:\u001b[36m15\u001b[0m - \u001b[1mPosts scrapés pour Innovation : 16\u001b[0m\n",
      "\u001b[32m2025-04-25 23:33:51.760\u001b[0m | \u001b[1mINFO    \u001b[0m | \u001b[36m__main__\u001b[0m:\u001b[36mmain\u001b[0m:\u001b[36m9\u001b[0m - \u001b[1mDébut du scraping pour la thématique : finance\u001b[0m\n",
      "\u001b[32m2025-04-25 23:33:51.763\u001b[0m | \u001b[1mINFO    \u001b[0m | \u001b[36m__main__\u001b[0m:\u001b[36mscrape_posts\u001b[0m:\u001b[36m2\u001b[0m - \u001b[1mScraping des posts pour l'URL : https://www.linkedin.com/search/results/content/?keywords=finance\u001b[0m\n",
      "\u001b[32m2025-04-25 23:34:39.830\u001b[0m | \u001b[1mINFO    \u001b[0m | \u001b[36m__main__\u001b[0m:\u001b[36mscrape_posts\u001b[0m:\u001b[36m77\u001b[0m - \u001b[1mPost scrapé : - Auteur : Hrishva Rangani\u001b[0m\n",
      "\u001b[32m2025-04-25 23:34:41.215\u001b[0m | \u001b[1mINFO    \u001b[0m | \u001b[36m__main__\u001b[0m:\u001b[36mscrape_posts\u001b[0m:\u001b[36m77\u001b[0m - \u001b[1mPost scrapé : - Auteur : Gaston BIYIGA\u001b[0m\n",
      "\u001b[32m2025-04-25 23:34:42.950\u001b[0m | \u001b[1mINFO    \u001b[0m | \u001b[36m__main__\u001b[0m:\u001b[36mscrape_posts\u001b[0m:\u001b[36m77\u001b[0m - \u001b[1mPost scrapé : - Auteur : INNOCENT TIGANO MASSINDE\u001b[0m\n",
      "\u001b[32m2025-04-25 23:34:44.867\u001b[0m | \u001b[1mINFO    \u001b[0m | \u001b[36m__main__\u001b[0m:\u001b[36mscrape_posts\u001b[0m:\u001b[36m77\u001b[0m - \u001b[1mPost scrapé : - Auteur : Dalia Buga\u001b[0m\n",
      "\u001b[32m2025-04-25 23:34:46.490\u001b[0m | \u001b[1mINFO    \u001b[0m | \u001b[36m__main__\u001b[0m:\u001b[36mscrape_posts\u001b[0m:\u001b[36m77\u001b[0m - \u001b[1mPost scrapé : - Auteur : Open Payments\u001b[0m\n",
      "\u001b[32m2025-04-25 23:34:47.583\u001b[0m | \u001b[1mINFO    \u001b[0m | \u001b[36m__main__\u001b[0m:\u001b[36mscrape_posts\u001b[0m:\u001b[36m77\u001b[0m - \u001b[1mPost scrapé : - Auteur : Ludvig Johansson\u001b[0m\n",
      "\u001b[32m2025-04-25 23:34:49.568\u001b[0m | \u001b[1mINFO    \u001b[0m | \u001b[36m__main__\u001b[0m:\u001b[36mscrape_posts\u001b[0m:\u001b[36m77\u001b[0m - \u001b[1mPost scrapé : - Auteur : AIT OUBELLA Marouane\u001b[0m\n",
      "\u001b[32m2025-04-25 23:34:51.383\u001b[0m | \u001b[1mINFO    \u001b[0m | \u001b[36m__main__\u001b[0m:\u001b[36mscrape_posts\u001b[0m:\u001b[36m77\u001b[0m - \u001b[1mPost scrapé : - Auteur : Cécile AZONHITODÉ 🇧🇯🇮🇹🇨🇦\u001b[0m\n",
      "\u001b[32m2025-04-25 23:34:52.953\u001b[0m | \u001b[1mINFO    \u001b[0m | \u001b[36m__main__\u001b[0m:\u001b[36mscrape_posts\u001b[0m:\u001b[36m77\u001b[0m - \u001b[1mPost scrapé : - Auteur : Rehnuma Tasnim Oishee\u001b[0m\n",
      "\u001b[32m2025-04-25 23:34:54.429\u001b[0m | \u001b[1mINFO    \u001b[0m | \u001b[36m__main__\u001b[0m:\u001b[36mscrape_posts\u001b[0m:\u001b[36m77\u001b[0m - \u001b[1mPost scrapé : - Auteur : Awa Bandia\u001b[0m\n",
      "\u001b[32m2025-04-25 23:34:56.089\u001b[0m | \u001b[1mINFO    \u001b[0m | \u001b[36m__main__\u001b[0m:\u001b[36mscrape_posts\u001b[0m:\u001b[36m77\u001b[0m - \u001b[1mPost scrapé : - Auteur : Solenn de la Croix\u001b[0m\n",
      "\u001b[32m2025-04-25 23:34:57.930\u001b[0m | \u001b[1mINFO    \u001b[0m | \u001b[36m__main__\u001b[0m:\u001b[36mscrape_posts\u001b[0m:\u001b[36m77\u001b[0m - \u001b[1mPost scrapé : - Auteur : Wuraola Lawal AAT, ACA\u001b[0m\n",
      "\u001b[32m2025-04-25 23:34:59.422\u001b[0m | \u001b[1mINFO    \u001b[0m | \u001b[36m__main__\u001b[0m:\u001b[36mscrape_posts\u001b[0m:\u001b[36m77\u001b[0m - \u001b[1mPost scrapé : - Auteur : Cécile Galli\u001b[0m\n",
      "\u001b[32m2025-04-25 23:35:00.909\u001b[0m | \u001b[1mINFO    \u001b[0m | \u001b[36m__main__\u001b[0m:\u001b[36mscrape_posts\u001b[0m:\u001b[36m77\u001b[0m - \u001b[1mPost scrapé : - Auteur : Daniel Foley Carter\u001b[0m\n",
      "\u001b[32m2025-04-25 23:35:02.345\u001b[0m | \u001b[1mINFO    \u001b[0m | \u001b[36m__main__\u001b[0m:\u001b[36mscrape_posts\u001b[0m:\u001b[36m77\u001b[0m - \u001b[1mPost scrapé : - Auteur : Osama Abbas\u001b[0m\n",
      "\u001b[32m2025-04-25 23:35:03.911\u001b[0m | \u001b[1mINFO    \u001b[0m | \u001b[36m__main__\u001b[0m:\u001b[36mscrape_posts\u001b[0m:\u001b[36m77\u001b[0m - \u001b[1mPost scrapé : - Auteur : Serge Sewa\u001b[0m\n",
      "\u001b[32m2025-04-25 23:35:05.324\u001b[0m | \u001b[1mINFO    \u001b[0m | \u001b[36m__main__\u001b[0m:\u001b[36mmain\u001b[0m:\u001b[36m15\u001b[0m - \u001b[1mPosts scrapés pour finance : 16\u001b[0m\n",
      "\u001b[32m2025-04-25 23:35:11.845\u001b[0m | \u001b[1mINFO    \u001b[0m | \u001b[36m__main__\u001b[0m:\u001b[36mmain\u001b[0m:\u001b[36m9\u001b[0m - \u001b[1mDébut du scraping pour la thématique : projet\u001b[0m\n",
      "\u001b[32m2025-04-25 23:35:11.864\u001b[0m | \u001b[1mINFO    \u001b[0m | \u001b[36m__main__\u001b[0m:\u001b[36mscrape_posts\u001b[0m:\u001b[36m2\u001b[0m - \u001b[1mScraping des posts pour l'URL : https://www.linkedin.com/search/results/content/?keywords=projet\u001b[0m\n",
      "\u001b[32m2025-04-25 23:35:56.114\u001b[0m | \u001b[1mINFO    \u001b[0m | \u001b[36m__main__\u001b[0m:\u001b[36mscrape_posts\u001b[0m:\u001b[36m77\u001b[0m - \u001b[1mPost scrapé : - Auteur : Marguerite EMIRKHANIAN\u001b[0m\n",
      "\u001b[32m2025-04-25 23:35:57.714\u001b[0m | \u001b[1mINFO    \u001b[0m | \u001b[36m__main__\u001b[0m:\u001b[36mscrape_posts\u001b[0m:\u001b[36m77\u001b[0m - \u001b[1mPost scrapé : - Auteur : dominique sonjon\u001b[0m\n",
      "\u001b[32m2025-04-25 23:35:59.174\u001b[0m | \u001b[1mINFO    \u001b[0m | \u001b[36m__main__\u001b[0m:\u001b[36mscrape_posts\u001b[0m:\u001b[36m77\u001b[0m - \u001b[1mPost scrapé : - Auteur : WENDKUNI ROLAND SAWADOGO\u001b[0m\n",
      "\u001b[32m2025-04-25 23:36:00.276\u001b[0m | \u001b[1mINFO    \u001b[0m | \u001b[36m__main__\u001b[0m:\u001b[36mscrape_posts\u001b[0m:\u001b[36m77\u001b[0m - \u001b[1mPost scrapé : - Auteur : Belinda TEMPIER\u001b[0m\n",
      "\u001b[32m2025-04-25 23:36:02.294\u001b[0m | \u001b[1mINFO    \u001b[0m | \u001b[36m__main__\u001b[0m:\u001b[36mscrape_posts\u001b[0m:\u001b[36m77\u001b[0m - \u001b[1mPost scrapé : - Auteur : Charles Cousseau 🏗🏗🏗\u001b[0m\n",
      "\u001b[32m2025-04-25 23:36:03.952\u001b[0m | \u001b[1mINFO    \u001b[0m | \u001b[36m__main__\u001b[0m:\u001b[36mscrape_posts\u001b[0m:\u001b[36m77\u001b[0m - \u001b[1mPost scrapé : - Auteur : Aminata Amadou Diallo\u001b[0m\n",
      "\u001b[32m2025-04-25 23:36:05.707\u001b[0m | \u001b[1mINFO    \u001b[0m | \u001b[36m__main__\u001b[0m:\u001b[36mscrape_posts\u001b[0m:\u001b[36m77\u001b[0m - \u001b[1mPost scrapé : - Auteur : Julien SAMMUT\u001b[0m\n",
      "\u001b[32m2025-04-25 23:36:07.059\u001b[0m | \u001b[1mINFO    \u001b[0m | \u001b[36m__main__\u001b[0m:\u001b[36mscrape_posts\u001b[0m:\u001b[36m77\u001b[0m - \u001b[1mPost scrapé : - Auteur : Sébastien Léonard\u001b[0m\n",
      "\u001b[32m2025-04-25 23:36:08.223\u001b[0m | \u001b[1mINFO    \u001b[0m | \u001b[36m__main__\u001b[0m:\u001b[36mscrape_posts\u001b[0m:\u001b[36m77\u001b[0m - \u001b[1mPost scrapé : - Auteur : Volt-Age\u001b[0m\n",
      "\u001b[32m2025-04-25 23:36:09.365\u001b[0m | \u001b[1mINFO    \u001b[0m | \u001b[36m__main__\u001b[0m:\u001b[36mscrape_posts\u001b[0m:\u001b[36m77\u001b[0m - \u001b[1mPost scrapé : - Auteur : Franck LAUGIER\u001b[0m\n",
      "\u001b[32m2025-04-25 23:36:10.902\u001b[0m | \u001b[1mINFO    \u001b[0m | \u001b[36m__main__\u001b[0m:\u001b[36mscrape_posts\u001b[0m:\u001b[36m77\u001b[0m - \u001b[1mPost scrapé : - Auteur : YB.Digital\u001b[0m\n",
      "\u001b[32m2025-04-25 23:36:12.860\u001b[0m | \u001b[1mINFO    \u001b[0m | \u001b[36m__main__\u001b[0m:\u001b[36mscrape_posts\u001b[0m:\u001b[36m77\u001b[0m - \u001b[1mPost scrapé : - Auteur : J360\u001b[0m\n",
      "\u001b[32m2025-04-25 23:36:14.588\u001b[0m | \u001b[1mINFO    \u001b[0m | \u001b[36m__main__\u001b[0m:\u001b[36mscrape_posts\u001b[0m:\u001b[36m77\u001b[0m - \u001b[1mPost scrapé : - Auteur : Developpeur-informatique.com\u001b[0m\n",
      "\u001b[32m2025-04-25 23:36:16.467\u001b[0m | \u001b[1mINFO    \u001b[0m | \u001b[36m__main__\u001b[0m:\u001b[36mscrape_posts\u001b[0m:\u001b[36m77\u001b[0m - \u001b[1mPost scrapé : - Auteur : NGV\u001b[0m\n",
      "\u001b[32m2025-04-25 23:36:17.981\u001b[0m | \u001b[1mINFO    \u001b[0m | \u001b[36m__main__\u001b[0m:\u001b[36mscrape_posts\u001b[0m:\u001b[36m77\u001b[0m - \u001b[1mPost scrapé : - Auteur : Samy Nasri\u001b[0m\n",
      "\u001b[32m2025-04-25 23:36:19.320\u001b[0m | \u001b[1mINFO    \u001b[0m | \u001b[36m__main__\u001b[0m:\u001b[36mscrape_posts\u001b[0m:\u001b[36m77\u001b[0m - \u001b[1mPost scrapé : - Auteur : Construction-Industry.jobs\u001b[0m\n",
      "\u001b[32m2025-04-25 23:36:21.101\u001b[0m | \u001b[1mINFO    \u001b[0m | \u001b[36m__main__\u001b[0m:\u001b[36mmain\u001b[0m:\u001b[36m15\u001b[0m - \u001b[1mPosts scrapés pour projet : 16\u001b[0m\n",
      "\u001b[32m2025-04-25 23:36:27.779\u001b[0m | \u001b[1mINFO    \u001b[0m | \u001b[36m__main__\u001b[0m:\u001b[36mmain\u001b[0m:\u001b[36m9\u001b[0m - \u001b[1mDébut du scraping pour la thématique : Technology\u001b[0m\n",
      "\u001b[32m2025-04-25 23:36:27.783\u001b[0m | \u001b[1mINFO    \u001b[0m | \u001b[36m__main__\u001b[0m:\u001b[36mscrape_posts\u001b[0m:\u001b[36m2\u001b[0m - \u001b[1mScraping des posts pour l'URL : https://www.linkedin.com/search/results/content/?keywords=Technology\u001b[0m\n",
      "\u001b[32m2025-04-25 23:37:11.852\u001b[0m | \u001b[1mINFO    \u001b[0m | \u001b[36m__main__\u001b[0m:\u001b[36mscrape_posts\u001b[0m:\u001b[36m77\u001b[0m - \u001b[1mPost scrapé : - Auteur : Doc Worley\u001b[0m\n",
      "\u001b[32m2025-04-25 23:37:13.028\u001b[0m | \u001b[1mINFO    \u001b[0m | \u001b[36m__main__\u001b[0m:\u001b[36mscrape_posts\u001b[0m:\u001b[36m77\u001b[0m - \u001b[1mPost scrapé : - Auteur : Local Equity\u001b[0m\n",
      "\u001b[32m2025-04-25 23:37:14.509\u001b[0m | \u001b[1mINFO    \u001b[0m | \u001b[36m__main__\u001b[0m:\u001b[36mscrape_posts\u001b[0m:\u001b[36m77\u001b[0m - \u001b[1mPost scrapé : - Auteur : Ifeoluwa Osho\u001b[0m\n",
      "\u001b[32m2025-04-25 23:37:15.658\u001b[0m | \u001b[1mINFO    \u001b[0m | \u001b[36m__main__\u001b[0m:\u001b[36mscrape_posts\u001b[0m:\u001b[36m77\u001b[0m - \u001b[1mPost scrapé : - Auteur : Balwant Singh\u001b[0m\n",
      "\u001b[32m2025-04-25 23:37:16.906\u001b[0m | \u001b[1mINFO    \u001b[0m | \u001b[36m__main__\u001b[0m:\u001b[36mscrape_posts\u001b[0m:\u001b[36m77\u001b[0m - \u001b[1mPost scrapé : - Auteur : Cantrex Nationwide\u001b[0m\n",
      "\u001b[32m2025-04-25 23:37:18.228\u001b[0m | \u001b[1mINFO    \u001b[0m | \u001b[36m__main__\u001b[0m:\u001b[36mscrape_posts\u001b[0m:\u001b[36m77\u001b[0m - \u001b[1mPost scrapé : - Auteur : Neringa Gaubienė, PhD\u001b[0m\n",
      "\u001b[32m2025-04-25 23:37:19.521\u001b[0m | \u001b[1mINFO    \u001b[0m | \u001b[36m__main__\u001b[0m:\u001b[36mscrape_posts\u001b[0m:\u001b[36m77\u001b[0m - \u001b[1mPost scrapé : - Auteur : Ultra Lighting Technology\u001b[0m\n",
      "\u001b[32m2025-04-25 23:37:20.955\u001b[0m | \u001b[1mINFO    \u001b[0m | \u001b[36m__main__\u001b[0m:\u001b[36mscrape_posts\u001b[0m:\u001b[36m77\u001b[0m - \u001b[1mPost scrapé : - Auteur : Reza Zahiri, PhD, MBA\u001b[0m\n",
      "\u001b[32m2025-04-25 23:37:22.722\u001b[0m | \u001b[1mINFO    \u001b[0m | \u001b[36m__main__\u001b[0m:\u001b[36mscrape_posts\u001b[0m:\u001b[36m77\u001b[0m - \u001b[1mPost scrapé : - Auteur : Luis L.\u001b[0m\n",
      "\u001b[32m2025-04-25 23:37:23.797\u001b[0m | \u001b[1mINFO    \u001b[0m | \u001b[36m__main__\u001b[0m:\u001b[36mscrape_posts\u001b[0m:\u001b[36m77\u001b[0m - \u001b[1mPost scrapé : - Auteur : Linas Beliūnas\u001b[0m\n",
      "\u001b[32m2025-04-25 23:37:25.504\u001b[0m | \u001b[1mINFO    \u001b[0m | \u001b[36m__main__\u001b[0m:\u001b[36mscrape_posts\u001b[0m:\u001b[36m77\u001b[0m - \u001b[1mPost scrapé : - Auteur : CJ McMahon\u001b[0m\n",
      "\u001b[32m2025-04-25 23:37:26.884\u001b[0m | \u001b[1mINFO    \u001b[0m | \u001b[36m__main__\u001b[0m:\u001b[36mscrape_posts\u001b[0m:\u001b[36m77\u001b[0m - \u001b[1mPost scrapé : - Auteur : MacKenzie Price\u001b[0m\n",
      "\u001b[32m2025-04-25 23:37:28.691\u001b[0m | \u001b[1mINFO    \u001b[0m | \u001b[36m__main__\u001b[0m:\u001b[36mscrape_posts\u001b[0m:\u001b[36m77\u001b[0m - \u001b[1mPost scrapé : - Auteur : Osama Abbas\u001b[0m\n",
      "\u001b[32m2025-04-25 23:37:30.501\u001b[0m | \u001b[1mINFO    \u001b[0m | \u001b[36m__main__\u001b[0m:\u001b[36mscrape_posts\u001b[0m:\u001b[36m77\u001b[0m - \u001b[1mPost scrapé : - Auteur : Vilas Dhar\u001b[0m\n",
      "\u001b[32m2025-04-25 23:37:32.482\u001b[0m | \u001b[1mINFO    \u001b[0m | \u001b[36m__main__\u001b[0m:\u001b[36mscrape_posts\u001b[0m:\u001b[36m77\u001b[0m - \u001b[1mPost scrapé : - Auteur : MOHAMMED ELBAGIR,Ph.D Certified Professional Engineer USA-Qatar-KSA-Oman\u001b[0m\n",
      "\u001b[32m2025-04-25 23:37:33.542\u001b[0m | \u001b[1mINFO    \u001b[0m | \u001b[36m__main__\u001b[0m:\u001b[36mscrape_posts\u001b[0m:\u001b[36m77\u001b[0m - \u001b[1mPost scrapé : - Auteur : Adam Goran\u001b[0m\n",
      "\u001b[32m2025-04-25 23:37:34.902\u001b[0m | \u001b[1mINFO    \u001b[0m | \u001b[36m__main__\u001b[0m:\u001b[36mmain\u001b[0m:\u001b[36m15\u001b[0m - \u001b[1mPosts scrapés pour Technology : 16\u001b[0m\n",
      "\u001b[32m2025-04-25 23:37:39.972\u001b[0m | \u001b[1mINFO    \u001b[0m | \u001b[36m__main__\u001b[0m:\u001b[36mmain\u001b[0m:\u001b[36m22\u001b[0m - \u001b[1mDonnées sauvegardées dans data3Fre/linkedin/linkedin_posts_23_37_25_04_2025.csv (96 posts)\u001b[0m\n"
     ]
    }
   ],
   "source": [
    "themes = [\n",
    "    \"IA\",\n",
    "    \"DataScience\",\n",
    "    \"Innovation\",\n",
    "    \"finance\",\n",
    "    \"projet\",\n",
    "    \"Technology\",\n",
    "    \"hackathon\",\n",
    "    \"sport\",\n",
    "    \"Leadership\",\n",
    "    \"HumanResources\",\n",
    "    \"DigitalTransformation\",\n",
    "    \"tutoriel\",\n",
    "    \"education\"\n",
    "]\n",
    "\n",
    "target_total_posts = 100\n",
    "path = \"data3Fre/linkedin\"\n",
    "sub_path = \"subthemeFre\"\n",
    "\n",
    "main(driver, themes, target_total_posts, path, sub_path)"
   ]
  },
  {
   "cell_type": "code",
   "execution_count": 19,
   "id": "7b1787af",
   "metadata": {},
   "outputs": [],
   "source": [
    "filename = \"data3Fre/linkedin/linkedin_posts_23_37_25_04_2025.csv\"\n",
    "dfp = pd.read_csv(filename)"
   ]
  },
  {
   "cell_type": "code",
   "execution_count": null,
   "id": "a58e0873",
   "metadata": {},
   "outputs": [],
   "source": [
    "followers_dict = {}\n",
    "\n",
    "for i, link in enumerate(dfp[\"author_link\"].unique()):\n",
    "    time.sleep(5)\n",
    "    if pd.notna(link) and link != \"N/A\":\n",
    "        followers = get_subscribers(driver, link)\n",
    "        followers_dict[link] = followers\n",
    "\n",
    "    else:\n",
    "        followers_dict[link] = 0\n",
    "    \n",
    "    if i % 5 == 0:\n",
    "        time.sleep(10)\n",
    "    else:\n",
    "        time.sleep(random.uniform(3, 6))\n",
    "    \n",
    "# Ajouter la colonne followers\n",
    "dfp[\"followers\"] = dfp[\"author_link\"].map(followers_dict).fillna(0).astype(int)"
   ]
  },
  {
   "cell_type": "code",
   "execution_count": 34,
   "metadata": {},
   "outputs": [
    {
     "data": {
      "text/html": [
       "<div>\n",
       "<style scoped>\n",
       "    .dataframe tbody tr th:only-of-type {\n",
       "        vertical-align: middle;\n",
       "    }\n",
       "\n",
       "    .dataframe tbody tr th {\n",
       "        vertical-align: top;\n",
       "    }\n",
       "\n",
       "    .dataframe thead th {\n",
       "        text-align: right;\n",
       "    }\n",
       "</style>\n",
       "<table border=\"1\" class=\"dataframe\">\n",
       "  <thead>\n",
       "    <tr style=\"text-align: right;\">\n",
       "      <th></th>\n",
       "      <th>count</th>\n",
       "      <th>unique</th>\n",
       "      <th>top</th>\n",
       "      <th>freq</th>\n",
       "      <th>mean</th>\n",
       "      <th>std</th>\n",
       "      <th>min</th>\n",
       "      <th>25%</th>\n",
       "      <th>50%</th>\n",
       "      <th>75%</th>\n",
       "      <th>max</th>\n",
       "    </tr>\n",
       "  </thead>\n",
       "  <tbody>\n",
       "    <tr>\n",
       "      <th>author</th>\n",
       "      <td>1210</td>\n",
       "      <td>1092</td>\n",
       "      <td>Benjamin Ejzenberg</td>\n",
       "      <td>10</td>\n",
       "      <td>NaN</td>\n",
       "      <td>NaN</td>\n",
       "      <td>NaN</td>\n",
       "      <td>NaN</td>\n",
       "      <td>NaN</td>\n",
       "      <td>NaN</td>\n",
       "      <td>NaN</td>\n",
       "    </tr>\n",
       "    <tr>\n",
       "      <th>author_link</th>\n",
       "      <td>1210</td>\n",
       "      <td>1092</td>\n",
       "      <td>https://www.linkedin.com/in/benjaminejzenberg?...</td>\n",
       "      <td>10</td>\n",
       "      <td>NaN</td>\n",
       "      <td>NaN</td>\n",
       "      <td>NaN</td>\n",
       "      <td>NaN</td>\n",
       "      <td>NaN</td>\n",
       "      <td>NaN</td>\n",
       "      <td>NaN</td>\n",
       "    </tr>\n",
       "    <tr>\n",
       "      <th>text</th>\n",
       "      <td>1180</td>\n",
       "      <td>1146</td>\n",
       "      <td>Infosys Job Openings March 2025Salary: Rs. 8-3...</td>\n",
       "      <td>7</td>\n",
       "      <td>NaN</td>\n",
       "      <td>NaN</td>\n",
       "      <td>NaN</td>\n",
       "      <td>NaN</td>\n",
       "      <td>NaN</td>\n",
       "      <td>NaN</td>\n",
       "      <td>NaN</td>\n",
       "    </tr>\n",
       "    <tr>\n",
       "      <th>date</th>\n",
       "      <td>1210</td>\n",
       "      <td>132</td>\n",
       "      <td>2025-04-25 11:04:58</td>\n",
       "      <td>68</td>\n",
       "      <td>NaN</td>\n",
       "      <td>NaN</td>\n",
       "      <td>NaN</td>\n",
       "      <td>NaN</td>\n",
       "      <td>NaN</td>\n",
       "      <td>NaN</td>\n",
       "      <td>NaN</td>\n",
       "    </tr>\n",
       "    <tr>\n",
       "      <th>likes</th>\n",
       "      <td>1210</td>\n",
       "      <td>198</td>\n",
       "      <td>0</td>\n",
       "      <td>109</td>\n",
       "      <td>NaN</td>\n",
       "      <td>NaN</td>\n",
       "      <td>NaN</td>\n",
       "      <td>NaN</td>\n",
       "      <td>NaN</td>\n",
       "      <td>NaN</td>\n",
       "      <td>NaN</td>\n",
       "    </tr>\n",
       "    <tr>\n",
       "      <th>comments</th>\n",
       "      <td>1210.0</td>\n",
       "      <td>NaN</td>\n",
       "      <td>NaN</td>\n",
       "      <td>NaN</td>\n",
       "      <td>11.369421</td>\n",
       "      <td>22.826129</td>\n",
       "      <td>0.0</td>\n",
       "      <td>0.0</td>\n",
       "      <td>2.0</td>\n",
       "      <td>14.0</td>\n",
       "      <td>289.0</td>\n",
       "    </tr>\n",
       "    <tr>\n",
       "      <th>shares</th>\n",
       "      <td>1210.0</td>\n",
       "      <td>NaN</td>\n",
       "      <td>NaN</td>\n",
       "      <td>NaN</td>\n",
       "      <td>2.040496</td>\n",
       "      <td>5.746291</td>\n",
       "      <td>0.0</td>\n",
       "      <td>0.0</td>\n",
       "      <td>0.0</td>\n",
       "      <td>2.0</td>\n",
       "      <td>83.0</td>\n",
       "    </tr>\n",
       "    <tr>\n",
       "      <th>theme</th>\n",
       "      <td>1210</td>\n",
       "      <td>8</td>\n",
       "      <td>IA</td>\n",
       "      <td>174</td>\n",
       "      <td>NaN</td>\n",
       "      <td>NaN</td>\n",
       "      <td>NaN</td>\n",
       "      <td>NaN</td>\n",
       "      <td>NaN</td>\n",
       "      <td>NaN</td>\n",
       "      <td>NaN</td>\n",
       "    </tr>\n",
       "    <tr>\n",
       "      <th>followers</th>\n",
       "      <td>1210.0</td>\n",
       "      <td>NaN</td>\n",
       "      <td>NaN</td>\n",
       "      <td>NaN</td>\n",
       "      <td>1277.209917</td>\n",
       "      <td>10755.489499</td>\n",
       "      <td>0.0</td>\n",
       "      <td>0.0</td>\n",
       "      <td>0.0</td>\n",
       "      <td>0.0</td>\n",
       "      <td>295634.0</td>\n",
       "    </tr>\n",
       "  </tbody>\n",
       "</table>\n",
       "</div>"
      ],
      "text/plain": [
       "              count unique                                                top  \\\n",
       "author         1210   1092                                 Benjamin Ejzenberg   \n",
       "author_link    1210   1092  https://www.linkedin.com/in/benjaminejzenberg?...   \n",
       "text           1180   1146  Infosys Job Openings March 2025Salary: Rs. 8-3...   \n",
       "date           1210    132                                2025-04-25 11:04:58   \n",
       "likes          1210    198                                                  0   \n",
       "comments     1210.0    NaN                                                NaN   \n",
       "shares       1210.0    NaN                                                NaN   \n",
       "theme          1210      8                                                 IA   \n",
       "followers    1210.0    NaN                                                NaN   \n",
       "\n",
       "            freq         mean           std  min  25%  50%   75%       max  \n",
       "author        10          NaN           NaN  NaN  NaN  NaN   NaN       NaN  \n",
       "author_link   10          NaN           NaN  NaN  NaN  NaN   NaN       NaN  \n",
       "text           7          NaN           NaN  NaN  NaN  NaN   NaN       NaN  \n",
       "date          68          NaN           NaN  NaN  NaN  NaN   NaN       NaN  \n",
       "likes        109          NaN           NaN  NaN  NaN  NaN   NaN       NaN  \n",
       "comments     NaN    11.369421     22.826129  0.0  0.0  2.0  14.0     289.0  \n",
       "shares       NaN     2.040496      5.746291  0.0  0.0  0.0   2.0      83.0  \n",
       "theme        174          NaN           NaN  NaN  NaN  NaN   NaN       NaN  \n",
       "followers    NaN  1277.209917  10755.489499  0.0  0.0  0.0   0.0  295634.0  "
      ]
     },
     "execution_count": 34,
     "metadata": {},
     "output_type": "execute_result"
    }
   ],
   "source": [
    "dfp.describe(include='all').transpose()"
   ]
  },
  {
   "cell_type": "code",
   "execution_count": null,
   "id": "51d6ec95",
   "metadata": {},
   "outputs": [],
   "source": []
  },
  {
   "cell_type": "markdown",
   "id": "5532a044",
   "metadata": {},
   "source": [
    "### 2- Chargement des données scrappées dans une base de données POSTGRESQL sur Neon"
   ]
  },
  {
   "cell_type": "code",
   "execution_count": 3,
   "id": "7d43fa35",
   "metadata": {},
   "outputs": [],
   "source": [
    "import pandas as pd\n",
    "from sqlalchemy import create_engine\n",
    "from loguru import logger\n",
    "from config import DATABASE_URL\n",
    "import sys"
   ]
  },
  {
   "cell_type": "code",
   "execution_count": 5,
   "id": "f6a19832",
   "metadata": {},
   "outputs": [
    {
     "data": {
      "text/plain": [
       "5"
      ]
     },
     "execution_count": 5,
     "metadata": {},
     "output_type": "execute_result"
    }
   ],
   "source": [
    "logger.remove()\n",
    "logger.add(\"logger/dataload\", rotation=\"500kb\", level=\"WARNING\")\n",
    "logger.add(sys.stderr, level=\"INFO\")"
   ]
  },
  {
   "cell_type": "code",
   "execution_count": 6,
   "id": "6f5647fd",
   "metadata": {},
   "outputs": [],
   "source": [
    "TABLE_NAME = \"linkedin_posts\""
   ]
  },
  {
   "cell_type": "code",
   "execution_count": 7,
   "id": "144c9a23",
   "metadata": {},
   "outputs": [
    {
     "data": {
      "text/html": [
       "<div>\n",
       "<style scoped>\n",
       "    .dataframe tbody tr th:only-of-type {\n",
       "        vertical-align: middle;\n",
       "    }\n",
       "\n",
       "    .dataframe tbody tr th {\n",
       "        vertical-align: top;\n",
       "    }\n",
       "\n",
       "    .dataframe thead th {\n",
       "        text-align: right;\n",
       "    }\n",
       "</style>\n",
       "<table border=\"1\" class=\"dataframe\">\n",
       "  <thead>\n",
       "    <tr style=\"text-align: right;\">\n",
       "      <th></th>\n",
       "      <th>author</th>\n",
       "      <th>text</th>\n",
       "      <th>date</th>\n",
       "      <th>likes</th>\n",
       "      <th>comments</th>\n",
       "      <th>shares</th>\n",
       "      <th>theme</th>\n",
       "      <th>followers</th>\n",
       "    </tr>\n",
       "  </thead>\n",
       "  <tbody>\n",
       "    <tr>\n",
       "      <th>0</th>\n",
       "      <td>David TIFFENEAU-GAUTIER</td>\n",
       "      <td>𝐈𝐨𝐓 𝐒𝐭𝐫𝐞𝐚𝐦𝐢𝐧𝐠 + 𝐑𝐞𝐚𝐥-𝐓𝐢𝐦𝐞 𝐀𝐧𝐚𝐥𝐲𝐭𝐢𝐜𝐬 𝐬𝐮𝐫 𝐀𝐳𝐮𝐫𝐞 ...</td>\n",
       "      <td>2025-04-25 10:37:08</td>\n",
       "      <td>2</td>\n",
       "      <td>0</td>\n",
       "      <td>0</td>\n",
       "      <td>IA</td>\n",
       "      <td>9522</td>\n",
       "    </tr>\n",
       "    <tr>\n",
       "      <th>1</th>\n",
       "      <td>Diana Bragă</td>\n",
       "      <td>No, vedeți voi - it's a funny time to be woman...</td>\n",
       "      <td>2025-04-24 19:37:08</td>\n",
       "      <td>25</td>\n",
       "      <td>21</td>\n",
       "      <td>0</td>\n",
       "      <td>IA</td>\n",
       "      <td>15414</td>\n",
       "    </tr>\n",
       "    <tr>\n",
       "      <th>2</th>\n",
       "      <td>Mélanie VILLANOVA</td>\n",
       "      <td>➡️ L’IA, l’alliée incontournable pour affiner ...</td>\n",
       "      <td>2025-04-24 21:37:08</td>\n",
       "      <td>5</td>\n",
       "      <td>0</td>\n",
       "      <td>0</td>\n",
       "      <td>IA</td>\n",
       "      <td>471</td>\n",
       "    </tr>\n",
       "    <tr>\n",
       "      <th>3</th>\n",
       "      <td>Bejaoui Sabrine</td>\n",
       "      <td>💥 Dites adieu à la saisie manuelle ! La révolu...</td>\n",
       "      <td>2025-04-24 18:37:08</td>\n",
       "      <td>6</td>\n",
       "      <td>0</td>\n",
       "      <td>0</td>\n",
       "      <td>IA</td>\n",
       "      <td>780</td>\n",
       "    </tr>\n",
       "    <tr>\n",
       "      <th>4</th>\n",
       "      <td>Felipe Carpio</td>\n",
       "      <td>RECEPCIONISTA IA PARA CLÍNICAS DENTALES😱</td>\n",
       "      <td>2025-04-24 23:37:08</td>\n",
       "      <td>1</td>\n",
       "      <td>1</td>\n",
       "      <td>0</td>\n",
       "      <td>IA</td>\n",
       "      <td>311</td>\n",
       "    </tr>\n",
       "  </tbody>\n",
       "</table>\n",
       "</div>"
      ],
      "text/plain": [
       "                    author                                               text  \\\n",
       "0  David TIFFENEAU-GAUTIER  𝐈𝐨𝐓 𝐒𝐭𝐫𝐞𝐚𝐦𝐢𝐧𝐠 + 𝐑𝐞𝐚𝐥-𝐓𝐢𝐦𝐞 𝐀𝐧𝐚𝐥𝐲𝐭𝐢𝐜𝐬 𝐬𝐮𝐫 𝐀𝐳𝐮𝐫𝐞 ...   \n",
       "1              Diana Bragă  No, vedeți voi - it's a funny time to be woman...   \n",
       "2        Mélanie VILLANOVA  ➡️ L’IA, l’alliée incontournable pour affiner ...   \n",
       "3          Bejaoui Sabrine  💥 Dites adieu à la saisie manuelle ! La révolu...   \n",
       "4            Felipe Carpio           RECEPCIONISTA IA PARA CLÍNICAS DENTALES😱   \n",
       "\n",
       "                  date likes  comments  shares theme followers  \n",
       "0  2025-04-25 10:37:08     2         0       0    IA      9522  \n",
       "1  2025-04-24 19:37:08    25        21       0    IA     15414  \n",
       "2  2025-04-24 21:37:08     5         0       0    IA       471  \n",
       "3  2025-04-24 18:37:08     6         0       0    IA       780  \n",
       "4  2025-04-24 23:37:08     1         1       0    IA       311  "
      ]
     },
     "execution_count": 7,
     "metadata": {},
     "output_type": "execute_result"
    }
   ],
   "source": [
    "data = pd.read_csv(\"linkedin_post.csv\", sep=\";\")\n",
    "df = data.copy()\n",
    "df.head()"
   ]
  },
  {
   "cell_type": "markdown",
   "id": "e9756c0a",
   "metadata": {},
   "source": [
    "##### Convertir les données 'comments', 'shares', 'likes', 'followers' en type numeric"
   ]
  },
  {
   "cell_type": "code",
   "execution_count": null,
   "id": "5fd888c7",
   "metadata": {},
   "outputs": [],
   "source": [
    "for col in ['comments', 'shares', 'likes', 'followers']:\n",
    "    df[col] = pd.to_numeric(df[col], errors=\"coerce\").fillna(0).astype(int)\n",
    "\n",
    "df[\"date\"] = pd.to_datetime(df[\"date\"], errors=\"coerce\")\n",
    "df[\"text\"] = df[\"text\"].fillna(\"N/A\")"
   ]
  },
  {
   "cell_type": "code",
   "execution_count": 37,
   "id": "4f29ae65",
   "metadata": {},
   "outputs": [],
   "source": [
    "engine = create_engine(DATABASE_URL)"
   ]
  },
  {
   "cell_type": "code",
   "execution_count": 9,
   "id": "aae55b83",
   "metadata": {},
   "outputs": [
    {
     "name": "stderr",
     "output_type": "stream",
     "text": [
      "\u001b[32m2025-04-27 00:11:06.231\u001b[0m | \u001b[1mINFO    \u001b[0m | \u001b[36m__main__\u001b[0m:\u001b[36m<module>\u001b[0m:\u001b[36m2\u001b[0m - \u001b[1mConnexion à la data base\u001b[0m\n",
      "\u001b[32m2025-04-27 00:11:06.864\u001b[0m | \u001b[1mINFO    \u001b[0m | \u001b[36m__main__\u001b[0m:\u001b[36m<module>\u001b[0m:\u001b[36m4\u001b[0m - \u001b[1mSauvegarde des info dans la table 'linkedin_posts'\u001b[0m\n",
      "\u001b[32m2025-04-27 00:11:18.703\u001b[0m | \u001b[1mINFO    \u001b[0m | \u001b[36m__main__\u001b[0m:\u001b[36m<module>\u001b[0m:\u001b[36m6\u001b[0m - \u001b[1mSauvegarde terminé avec succèss\u001b[0m\n"
     ]
    }
   ],
   "source": [
    "try:\n",
    "    logger.info(\"Connexion à la data base\")\n",
    "    engine = create_engine(DATABASE_URL)\n",
    "    logger.info(f\"Sauvegarde des info dans la table '{TABLE_NAME}'\")\n",
    "    df.to_sql(TABLE_NAME, engine, if_exists=\"append\", index=False)\n",
    "    logger.info(\"Sauvegarde terminé avec succèss\")\n",
    "except Exception as e:\n",
    "    logger.error(f\"Erreur lors du sauvegarde des info dans la db: {e}\")"
   ]
  },
  {
   "cell_type": "code",
   "execution_count": null,
   "metadata": {},
   "outputs": [],
   "source": []
  },
  {
   "cell_type": "markdown",
   "id": "17cfa52d",
   "metadata": {},
   "source": [
    "## 3- Extraction des données depuis la database\n",
    "- Sauvegarde au format parquet avec Polars"
   ]
  },
  {
   "cell_type": "code",
   "execution_count": 2,
   "id": "6ddc745e",
   "metadata": {},
   "outputs": [],
   "source": [
    "import polars as pl\n",
    "from sqlalchemy import create_engine\n",
    "from loguru import logger\n",
    "import sys\n",
    "from config import DATABASE_URL\n",
    "pl.Config.set_tbl_rows(-1);"
   ]
  },
  {
   "cell_type": "code",
   "execution_count": null,
   "id": "1ef25b15",
   "metadata": {},
   "outputs": [],
   "source": [
    "logger.remove()\n",
    "logger.add(\"logger/extrac_data\", rotation=\"500kb\", level=\"WARNING\")\n",
    "logger.add(sys.stderr, level=\"INFO\")\n",
    "TABLE_NAME = 'linkedin_posts'"
   ]
  },
  {
   "cell_type": "code",
   "execution_count": 15,
   "id": "17333d25",
   "metadata": {},
   "outputs": [
    {
     "name": "stderr",
     "output_type": "stream",
     "text": [
      "\u001b[32m2025-04-27 00:20:11.793\u001b[0m | \u001b[1mINFO    \u001b[0m | \u001b[36m__main__\u001b[0m:\u001b[36m<module>\u001b[0m:\u001b[36m1\u001b[0m - \u001b[1mConnection à la base de données distant\u001b[0m\n"
     ]
    }
   ],
   "source": [
    "logger.info(\"Connection à la base de données distant\")\n",
    "engine = create_engine(DATABASE_URL)"
   ]
  },
  {
   "cell_type": "code",
   "execution_count": 18,
   "id": "e8c6cb0a",
   "metadata": {},
   "outputs": [],
   "source": [
    "query = f\"SELECT * FROM {TABLE_NAME}\"\n",
    "df = pl.read_database(query=query, connection=engine)\n",
    "df.write_parquet(\"data/linkedin_posts.parquet\")"
   ]
  },
  {
   "cell_type": "markdown",
   "id": "b59d42bb",
   "metadata": {},
   "source": [
    "### 4- Transformation des données extraites\n",
    "- Calcul des KPIs avec Polars "
   ]
  },
  {
   "cell_type": "code",
   "execution_count": 84,
   "id": "df472154",
   "metadata": {},
   "outputs": [],
   "source": [
    "def selection(df):\n",
    "    df = df.with_columns(\n",
    "        pl.when(pl.col(\"theme\").is_in([\"DataScience\", \"DataScienceInnovation\"]))\n",
    "        .then(pl.lit(\"IA\"))\n",
    "        .when(pl.col(\"theme\").is_in([\"Innovation\", \"Devoloppement\"]))\n",
    "        .then(pl.lit(\"Technology\"))\n",
    "        .otherwise(pl.col(\"theme\"))\n",
    "        .alias(\"theme\")\n",
    "    )\n",
    "\n",
    "    # Conserons aléatoirement 220 posts IA et laissons les autres pour ne pas tirer les stats dans le sens de 'IA'\n",
    "    df_ia = df.filter(pl.col(\"theme\") == \"IA\")\n",
    "    num_to_keep = min(220, df_ia.height)\n",
    "    df_ia_sampled = df_ia.sample(n=num_to_keep, with_replacement=False)\n",
    "    df_other = df.filter(pl.col(\"theme\") != \"IA\")\n",
    "\n",
    "    # 4. Fusionner les posts restants et ceux sélectionnés aléatoirement pour \"IA\"\n",
    "    df = pl.concat([df_ia_sampled, df_other])\n",
    "\n",
    "\n",
    "    df = df.filter(\n",
    "        pl.col(\"theme\") != \"hackathonsport\"\n",
    "    )\n",
    "    return df"
   ]
  },
  {
   "cell_type": "code",
   "execution_count": 140,
   "id": "3ce6554c",
   "metadata": {},
   "outputs": [],
   "source": [
    "import re\n",
    "import pandas as pd"
   ]
  },
  {
   "cell_type": "code",
   "execution_count": 167,
   "id": "ceae8228",
   "metadata": {},
   "outputs": [],
   "source": [
    "df = pl.read_parquet(\"data/linkedin_posts.parquet\")"
   ]
  },
  {
   "cell_type": "code",
   "execution_count": 153,
   "id": "b22f8c40",
   "metadata": {},
   "outputs": [
    {
     "data": {
      "text/plain": [
       "(Schema([('id', Int64),\n",
       "         ('author', String),\n",
       "         ('text', String),\n",
       "         ('date', Datetime(time_unit='us', time_zone=None)),\n",
       "         ('likes', Int64),\n",
       "         ('comments', Int64),\n",
       "         ('shares', Int64),\n",
       "         ('theme', String),\n",
       "         ('followers', Int64)]),\n",
       " (1842, 9))"
      ]
     },
     "execution_count": 153,
     "metadata": {},
     "output_type": "execute_result"
    }
   ],
   "source": [
    "df.schema, df.shape"
   ]
  },
  {
   "cell_type": "code",
   "execution_count": 116,
   "id": "08cfb503",
   "metadata": {},
   "outputs": [],
   "source": [
    "# Conversion\n",
    "df = df.with_columns(\n",
    "    pl.col(\"likes\").cast(pl.Int64, strict=False).fill_null(0),\n",
    "    pl.col(\"comments\").cast(pl.Int64, strict=False).fill_null(0),\n",
    "    pl.col(\"shares\").cast(pl.Int64, strict=False).fill_null(0),\n",
    "    pl.col(\"followers\").cast(pl.Int64, strict=False).fill_null(0)\n",
    ")"
   ]
  },
  {
   "cell_type": "code",
   "execution_count": 164,
   "id": "d9fcdf9a",
   "metadata": {},
   "outputs": [],
   "source": [
    "def clean_feature(df):\n",
    "    try:\n",
    "        df = df.with_columns(\n",
    "            pl.when(pl.col(\"theme\").is_in([\"DataScience\", \"DataScienceInnovation\"]))\n",
    "            .then(pl.lit(\"IA\"))\n",
    "            .when(pl.col(\"theme\").is_in([\"Innovation\", \"Devoloppement\"]))\n",
    "            .then(pl.lit(\"Technology\"))\n",
    "            .otherwise(pl.col(\"theme\"))\n",
    "            .alias(\"theme\")\n",
    "        )\n",
    "\n",
    "        # Conserons aléatoirement 220 posts IA et laissons les autres pour ne pas tirer les stats dans le sens de 'IA'\n",
    "        logger.info(\"# Conserons aléatoirement 220 posts IA et laissons les autres pour ne pas tirer les stats dans le sens de 'IA'\")\n",
    "        df_ia = df.filter(pl.col(\"theme\") == \"IA\")\n",
    "        num_to_keep = min(220, df_ia.height)\n",
    "        df_ia_sampled = df_ia.sample(n=num_to_keep, with_replacement=False)\n",
    "        df_other = df.filter(pl.col(\"theme\") != \"IA\")\n",
    "\n",
    "        # 4. Fusionner les posts restants et ceux sélectionnés aléatoirement pour \"IA\"\n",
    "        df = pl.concat([df_ia_sampled, df_other])\n",
    "\n",
    "\n",
    "        df = df.filter(\n",
    "            pl.col(\"theme\") != \"hackathonsport\"\n",
    "        )\n",
    "        \n",
    "        df = df.sort(\"id\")\n",
    "    except Exception as e:\n",
    "        logger.error(f\"Erreur lors de l'exécution de 'clean_feature()': {e}\")\n",
    "    \n",
    "    return df"
   ]
  },
  {
   "cell_type": "code",
   "execution_count": 165,
   "id": "4ca43f49",
   "metadata": {},
   "outputs": [],
   "source": [
    "def extract_hashtags(text):\n",
    "    return \" \".join(re.findall(r\"#\\w+\", text))\n",
    "\n",
    "def nbr_hashtags(text):\n",
    "    return sum([1 for mot in \" \".join(re.findall(r\"#\\w+\", text)) if \"#\" in mot])\n",
    "\n",
    "def feature_calculate(df):\n",
    "    try:\n",
    "        #a. Calculer l'engagement\n",
    "        logger.info(\"a. Calculer l'engagement\")\n",
    "        df = df.with_columns(\n",
    "            (pl.col(\"likes\") + pl.col(\"comments\") + pl.col(\"shares\")).alias(\"engagement_total\"),\n",
    "        )\n",
    "        \n",
    "        #b. Longueur du texte\n",
    "        logger.info(\"b. Longueur du texte\")\n",
    "        df = df.with_columns(\n",
    "            pl.col(\"text\").str.split(\" \").list.len().alias(\"text_length\")\n",
    "        )\n",
    "        \n",
    "        #c. Analyse temporelle\n",
    "        logger.info(\"c. Analyse temporelle\")\n",
    "        df = df.with_columns(\n",
    "            pl.col(\"date\").dt.weekday().alias(\"day_of_week\"),\n",
    "            pl.col(\"date\").dt.hour().alias(\"hour\")\n",
    "        )\n",
    "        \n",
    "        #d. Sentiments annalysis\n",
    "        \n",
    "        #e. Hashtags\n",
    "        logger.info(\"e. Hashtags\")\n",
    "        df = df.with_columns(\n",
    "            pl.col(\"text\").map_elements(extract_hashtags, return_dtype=pl.String).alias(\"hashtags\"),\n",
    "            pl.col(\"text\").map_elements(nbr_hashtags, return_dtype=pl.Int64).alias(\"nbr_hashtags\")\n",
    "        )\n",
    "    \n",
    "        #f. Post viraux\n",
    "        logger.info(\"f. Post viraux\")\n",
    "        viral_threshold = df[\"shares\"].quantile(0.9)\n",
    "        df = df.with_columns(\n",
    "            (pl.col(\"shares\") >= viral_threshold).alias(\"is_viral\")\n",
    "        )\n",
    "        \n",
    "        #g. Fort/Faible engagement\n",
    "        logger.info(\"g. Fort/Faible engagement\")\n",
    "        engagement_threshold = df[\"engagement_total\"].quantile(0.90)\n",
    "        df = df.with_columns(\n",
    "            pl.when(\n",
    "                pl.col(\"engagement_total\") >= engagement_threshold\n",
    "            ).then(pl.lit(\"Fort\")\n",
    "            ).otherwise(pl.lit(\"Faible\")\n",
    "            ).alias(\"engagement_category\")\n",
    "        )\n",
    "        \n",
    "        df = df.sort(\"id\")\n",
    "    except Exception as e:\n",
    "        logger.error(f\"Erreur lors de l'exécution de 'feature_calculate()': {e}\")\n",
    "    \n",
    "    return df\n",
    "    "
   ]
  },
  {
   "cell_type": "code",
   "execution_count": 166,
   "id": "fcda4bf4",
   "metadata": {},
   "outputs": [
    {
     "data": {
      "text/html": [
       "<div><style>\n",
       ".dataframe > thead > tr,\n",
       ".dataframe > tbody > tr {\n",
       "  text-align: right;\n",
       "  white-space: pre-wrap;\n",
       "}\n",
       "</style>\n",
       "<small>shape: (10, 2)</small><table border=\"1\" class=\"dataframe\"><thead><tr><th>theme</th><th>count</th></tr><tr><td>str</td><td>u32</td></tr></thead><tbody><tr><td>&quot;Leadership&quot;</td><td>299</td></tr><tr><td>&quot;Technology&quot;</td><td>232</td></tr><tr><td>&quot;IA&quot;</td><td>220</td></tr><tr><td>&quot;projet&quot;</td><td>190</td></tr><tr><td>&quot;finance&quot;</td><td>189</td></tr><tr><td>&quot;education&quot;</td><td>174</td></tr><tr><td>&quot;tutoriel&quot;</td><td>173</td></tr><tr><td>&quot;WorkplaceCulture&quot;</td><td>126</td></tr><tr><td>&quot;HumanResources&quot;</td><td>120</td></tr><tr><td>&quot;DigitalTransformation&quot;</td><td>119</td></tr></tbody></table></div>"
      ],
      "text/plain": [
       "shape: (10, 2)\n",
       "┌───────────────────────┬───────┐\n",
       "│ theme                 ┆ count │\n",
       "│ ---                   ┆ ---   │\n",
       "│ str                   ┆ u32   │\n",
       "╞═══════════════════════╪═══════╡\n",
       "│ Leadership            ┆ 299   │\n",
       "│ Technology            ┆ 232   │\n",
       "│ IA                    ┆ 220   │\n",
       "│ projet                ┆ 190   │\n",
       "│ finance               ┆ 189   │\n",
       "│ education             ┆ 174   │\n",
       "│ tutoriel              ┆ 173   │\n",
       "│ WorkplaceCulture      ┆ 126   │\n",
       "│ HumanResources        ┆ 120   │\n",
       "│ DigitalTransformation ┆ 119   │\n",
       "└───────────────────────┴───────┘"
      ]
     },
     "execution_count": 166,
     "metadata": {},
     "output_type": "execute_result"
    }
   ],
   "source": [
    "df[\"theme\"].value_counts().sort(by=\"count\", descending=True)"
   ]
  },
  {
   "cell_type": "markdown",
   "id": "7ae18ffc",
   "metadata": {},
   "source": [
    "a. Calculer l'engagement"
   ]
  },
  {
   "cell_type": "code",
   "execution_count": 89,
   "id": "ff1ad07c",
   "metadata": {},
   "outputs": [],
   "source": [
    "df = df.with_columns(\n",
    "    (pl.col(\"likes\") + pl.col(\"comments\") + pl.col(\"shares\")).alias(\"engagement_total\"),\n",
    ")"
   ]
  },
  {
   "cell_type": "markdown",
   "id": "d0477f4b",
   "metadata": {},
   "source": [
    "b. Longueur du texte"
   ]
  },
  {
   "cell_type": "code",
   "execution_count": 7,
   "id": "b8bf4551",
   "metadata": {},
   "outputs": [],
   "source": [
    "df = df.with_columns(\n",
    "    pl.col(\"text\").str.split(\" \").list.len().alias(\"text_length\")\n",
    ")"
   ]
  },
  {
   "cell_type": "markdown",
   "id": "072567f9",
   "metadata": {},
   "source": [
    "c. Analyse temporelle"
   ]
  },
  {
   "cell_type": "code",
   "execution_count": 8,
   "id": "3558afb8",
   "metadata": {},
   "outputs": [],
   "source": [
    "df = df.with_columns(\n",
    "    pl.col(\"date\").dt.weekday().alias(\"day_of_week\"),\n",
    "    pl.col(\"date\").dt.hour().alias(\"hour\")\n",
    ")"
   ]
  },
  {
   "cell_type": "markdown",
   "id": "57ed1a45",
   "metadata": {},
   "source": [
    "d. Sentiment"
   ]
  },
  {
   "cell_type": "code",
   "execution_count": 88,
   "id": "05b4f710",
   "metadata": {},
   "outputs": [],
   "source": [
    "def get_sentiment(text):\n",
    "    return TextBlob(text).sentiment.polarity"
   ]
  },
  {
   "cell_type": "code",
   "execution_count": null,
   "id": "8c8ad991",
   "metadata": {},
   "outputs": [],
   "source": [
    "df = df.with_columns(\n",
    "    pl.col(\"text\").map_elements(get_sentiment).alias(\"sentiment\")\n",
    ")"
   ]
  },
  {
   "cell_type": "markdown",
   "id": "7a53f715",
   "metadata": {},
   "source": [
    "e. Hashtags"
   ]
  },
  {
   "cell_type": "code",
   "execution_count": 9,
   "id": "98fc24aa",
   "metadata": {},
   "outputs": [],
   "source": [
    "def extract_hashtags(text):\n",
    "    return \" \".join(re.findall(r\"#\\w+\", text))\n",
    "\n",
    "def nbr_hashtags(text):\n",
    "    return sum([1 for mot in \" \".join(re.findall(r\"#\\w+\", text)) if \"#\" in mot])"
   ]
  },
  {
   "cell_type": "code",
   "execution_count": 10,
   "id": "39149df2",
   "metadata": {},
   "outputs": [],
   "source": [
    "df = df.with_columns(\n",
    "    pl.col(\"text\").map_elements(extract_hashtags, return_dtype=pl.String).alias(\"hashtags\"),\n",
    "    pl.col(\"text\").map_elements(nbr_hashtags, return_dtype=pl.Int64).alias(\"nbr_hashtags\")\n",
    ")"
   ]
  },
  {
   "cell_type": "markdown",
   "id": "ef9da133",
   "metadata": {},
   "source": [
    "f. Posts viraux"
   ]
  },
  {
   "cell_type": "code",
   "execution_count": 11,
   "id": "2002383c",
   "metadata": {},
   "outputs": [],
   "source": [
    "viral_threshold = df[\"shares\"].quantile(0.9)\n",
    "df = df.with_columns(\n",
    "    (pl.col(\"shares\") >= viral_threshold).alias(\"is_viral\")\n",
    ")"
   ]
  },
  {
   "cell_type": "code",
   "execution_count": 168,
   "id": "7322a6ae",
   "metadata": {},
   "outputs": [
    {
     "name": "stderr",
     "output_type": "stream",
     "text": [
      "\u001b[32m2025-04-28 18:52:39.921\u001b[0m | \u001b[1mINFO    \u001b[0m | \u001b[36m__main__\u001b[0m:\u001b[36mclean_feature\u001b[0m:\u001b[36m13\u001b[0m - \u001b[1m# Conserons aléatoirement 220 posts IA et laissons les autres pour ne pas tirer les stats dans le sens de 'IA'\u001b[0m\n",
      "\u001b[32m2025-04-28 18:52:40.381\u001b[0m | \u001b[1mINFO    \u001b[0m | \u001b[36m__main__\u001b[0m:\u001b[36mfeature_calculate\u001b[0m:\u001b[36m10\u001b[0m - \u001b[1ma. Calculer l'engagement\u001b[0m\n",
      "\u001b[32m2025-04-28 18:52:40.389\u001b[0m | \u001b[1mINFO    \u001b[0m | \u001b[36m__main__\u001b[0m:\u001b[36mfeature_calculate\u001b[0m:\u001b[36m16\u001b[0m - \u001b[1mb. Longueur du texte\u001b[0m\n",
      "\u001b[32m2025-04-28 18:52:40.443\u001b[0m | \u001b[1mINFO    \u001b[0m | \u001b[36m__main__\u001b[0m:\u001b[36mfeature_calculate\u001b[0m:\u001b[36m22\u001b[0m - \u001b[1mc. Analyse temporelle\u001b[0m\n",
      "\u001b[32m2025-04-28 18:52:40.647\u001b[0m | \u001b[1mINFO    \u001b[0m | \u001b[36m__main__\u001b[0m:\u001b[36mfeature_calculate\u001b[0m:\u001b[36m31\u001b[0m - \u001b[1me. Hashtags\u001b[0m\n",
      "\u001b[32m2025-04-28 18:52:40.845\u001b[0m | \u001b[1mINFO    \u001b[0m | \u001b[36m__main__\u001b[0m:\u001b[36mfeature_calculate\u001b[0m:\u001b[36m38\u001b[0m - \u001b[1mf. Post viraux\u001b[0m\n",
      "\u001b[32m2025-04-28 18:52:40.874\u001b[0m | \u001b[1mINFO    \u001b[0m | \u001b[36m__main__\u001b[0m:\u001b[36mfeature_calculate\u001b[0m:\u001b[36m45\u001b[0m - \u001b[1mg. Fort/Faible engagement\u001b[0m\n"
     ]
    }
   ],
   "source": [
    "df = clean_feature(df)\n",
    "df = feature_calculate(df)\n",
    "df.write_parquet(\"data/transformed_date.parquet\")"
   ]
  },
  {
   "cell_type": "markdown",
   "id": "37199385",
   "metadata": {},
   "source": [
    "# Analyse"
   ]
  },
  {
   "cell_type": "markdown",
   "id": "252c02f1",
   "metadata": {},
   "source": [
    "- Comparer la longueur du texte (text_length) des posts à fort engagement(engagement_total élevé ou is_viral=True) versus ceux à faible engagement"
   ]
  },
  {
   "cell_type": "code",
   "execution_count": 180,
   "id": "e3c21e94",
   "metadata": {},
   "outputs": [],
   "source": [
    "kpi_folder = \"Kpis\""
   ]
  },
  {
   "cell_type": "code",
   "execution_count": 169,
   "id": "1026cae3",
   "metadata": {},
   "outputs": [],
   "source": [
    "df = pl.read_parquet(\"data/transformed_date.parquet\")"
   ]
  },
  {
   "cell_type": "code",
   "execution_count": 171,
   "id": "aef85091",
   "metadata": {},
   "outputs": [
    {
     "data": {
      "text/plain": [
       "(Schema([('id', Int64),\n",
       "         ('author', String),\n",
       "         ('text', String),\n",
       "         ('date', Datetime(time_unit='us', time_zone=None)),\n",
       "         ('likes', Int64),\n",
       "         ('comments', Int64),\n",
       "         ('shares', Int64),\n",
       "         ('theme', String),\n",
       "         ('followers', Int64),\n",
       "         ('engagement_total', Int64),\n",
       "         ('text_length', UInt32),\n",
       "         ('day_of_week', Int8),\n",
       "         ('hour', Int8),\n",
       "         ('hashtags', String),\n",
       "         ('nbr_hashtags', Int64),\n",
       "         ('is_viral', Boolean),\n",
       "         ('engagement_category', String)]),\n",
       " (1842, 17))"
      ]
     },
     "execution_count": 171,
     "metadata": {},
     "output_type": "execute_result"
    }
   ],
   "source": [
    "df.schema, df.shape"
   ]
  },
  {
   "cell_type": "code",
   "execution_count": 174,
   "id": "f1be3448",
   "metadata": {},
   "outputs": [
    {
     "data": {
      "text/html": [
       "<div><style>\n",
       ".dataframe > thead > tr,\n",
       ".dataframe > tbody > tr {\n",
       "  text-align: right;\n",
       "  white-space: pre-wrap;\n",
       "}\n",
       "</style>\n",
       "<small>shape: (5, 17)</small><table border=\"1\" class=\"dataframe\"><thead><tr><th>id</th><th>author</th><th>text</th><th>date</th><th>likes</th><th>comments</th><th>shares</th><th>theme</th><th>followers</th><th>engagement_total</th><th>text_length</th><th>day_of_week</th><th>hour</th><th>hashtags</th><th>nbr_hashtags</th><th>is_viral</th><th>engagement_category</th></tr><tr><td>i64</td><td>str</td><td>str</td><td>datetime[μs]</td><td>i64</td><td>i64</td><td>i64</td><td>str</td><td>i64</td><td>i64</td><td>u32</td><td>i8</td><td>i8</td><td>str</td><td>i64</td><td>bool</td><td>str</td></tr></thead><tbody><tr><td>2</td><td>&quot;Diana Bragă&quot;</td><td>&quot;No, vedeți voi - it&#x27;s a funny …</td><td>2025-04-24 19:37:08</td><td>25</td><td>21</td><td>0</td><td>&quot;IA&quot;</td><td>15414</td><td>46</td><td>318</td><td>4</td><td>19</td><td>&quot;#nufitiFlavius #Strabag&quot;</td><td>2</td><td>false</td><td>&quot;Faible&quot;</td></tr><tr><td>3</td><td>&quot;Mélanie VILLANOVA&quot;</td><td>&quot;➡️ L’IA, l’alliée incontournab…</td><td>2025-04-24 21:37:08</td><td>5</td><td>0</td><td>0</td><td>&quot;IA&quot;</td><td>471</td><td>5</td><td>43</td><td>4</td><td>21</td><td>&quot;#SantéIntégrative #SantéParLaV…</td><td>15</td><td>false</td><td>&quot;Faible&quot;</td></tr><tr><td>6</td><td>&quot;Cafenea&quot;</td><td>&quot;hashtag#sănătate hashtag#sanat…</td><td>2025-04-25 04:37:08</td><td>0</td><td>0</td><td>0</td><td>&quot;IA&quot;</td><td>0</td><td>0</td><td>6</td><td>5</td><td>4</td><td>&quot;#sănătate #sanatate #biodispon…</td><td>5</td><td>false</td><td>&quot;Faible&quot;</td></tr><tr><td>9</td><td>&quot;Andréia Vital&quot;</td><td>&quot;Solinftechttps://lnkd.in/d4nJj…</td><td>2025-04-25 03:37:08</td><td>0</td><td>0</td><td>0</td><td>&quot;IA&quot;</td><td>15929</td><td>0</td><td>1</td><td>5</td><td>3</td><td>&quot;&quot;</td><td>0</td><td>false</td><td>&quot;Faible&quot;</td></tr><tr><td>10</td><td>&quot;24auto.ro&quot;</td><td>&quot;Clasicul volan și direcția mec…</td><td>2025-04-25 08:37:08</td><td>0</td><td>0</td><td>0</td><td>&quot;IA&quot;</td><td>0</td><td>0</td><td>17</td><td>5</td><td>8</td><td>&quot;#steerbywire #directie #Merced…</td><td>4</td><td>false</td><td>&quot;Faible&quot;</td></tr></tbody></table></div>"
      ],
      "text/plain": [
       "shape: (5, 17)\n",
       "┌─────┬────────────┬────────────┬────────────┬───┬────────────┬────────────┬──────────┬────────────┐\n",
       "│ id  ┆ author     ┆ text       ┆ date       ┆ … ┆ hashtags   ┆ nbr_hashta ┆ is_viral ┆ engagement │\n",
       "│ --- ┆ ---        ┆ ---        ┆ ---        ┆   ┆ ---        ┆ gs         ┆ ---      ┆ _category  │\n",
       "│ i64 ┆ str        ┆ str        ┆ datetime[μ ┆   ┆ str        ┆ ---        ┆ bool     ┆ ---        │\n",
       "│     ┆            ┆            ┆ s]         ┆   ┆            ┆ i64        ┆          ┆ str        │\n",
       "╞═════╪════════════╪════════════╪════════════╪═══╪════════════╪════════════╪══════════╪════════════╡\n",
       "│ 2   ┆ Diana      ┆ No, vedeți ┆ 2025-04-24 ┆ … ┆ #nufitiFla ┆ 2          ┆ false    ┆ Faible     │\n",
       "│     ┆ Bragă      ┆ voi - it's ┆ 19:37:08   ┆   ┆ vius       ┆            ┆          ┆            │\n",
       "│     ┆            ┆ a funny …  ┆            ┆   ┆ #Strabag   ┆            ┆          ┆            │\n",
       "│ 3   ┆ Mélanie    ┆ ➡️ L’IA,   ┆ 2025-04-24 ┆ … ┆ #SantéInté ┆ 15         ┆ false    ┆ Faible     │\n",
       "│     ┆ VILLANOVA  ┆ l’alliée   ┆ 21:37:08   ┆   ┆ grative    ┆            ┆          ┆            │\n",
       "│     ┆            ┆ incontourn ┆            ┆   ┆ #SantéParL ┆            ┆          ┆            │\n",
       "│     ┆            ┆ ab…        ┆            ┆   ┆ aV…        ┆            ┆          ┆            │\n",
       "│ 6   ┆ Cafenea    ┆ hashtag#să ┆ 2025-04-25 ┆ … ┆ #sănătate  ┆ 5          ┆ false    ┆ Faible     │\n",
       "│     ┆            ┆ nătate has ┆ 04:37:08   ┆   ┆ #sanatate  ┆            ┆          ┆            │\n",
       "│     ┆            ┆ htag#sanat ┆            ┆   ┆ #biodispon ┆            ┆          ┆            │\n",
       "│     ┆            ┆ …          ┆            ┆   ┆ …          ┆            ┆          ┆            │\n",
       "│ 9   ┆ Andréia    ┆ Solinftech ┆ 2025-04-25 ┆ … ┆            ┆ 0          ┆ false    ┆ Faible     │\n",
       "│     ┆ Vital      ┆ ttps://lnk ┆ 03:37:08   ┆   ┆            ┆            ┆          ┆            │\n",
       "│     ┆            ┆ d.in/d4nJj ┆            ┆   ┆            ┆            ┆          ┆            │\n",
       "│     ┆            ┆ …          ┆            ┆   ┆            ┆            ┆          ┆            │\n",
       "│ 10  ┆ 24auto.ro  ┆ Clasicul   ┆ 2025-04-25 ┆ … ┆ #steerbywi ┆ 4          ┆ false    ┆ Faible     │\n",
       "│     ┆            ┆ volan și   ┆ 08:37:08   ┆   ┆ re         ┆            ┆          ┆            │\n",
       "│     ┆            ┆ direcția   ┆            ┆   ┆ #directie  ┆            ┆          ┆            │\n",
       "│     ┆            ┆ mec…       ┆            ┆   ┆ #Merced…   ┆            ┆          ┆            │\n",
       "└─────┴────────────┴────────────┴────────────┴───┴────────────┴────────────┴──────────┴────────────┘"
      ]
     },
     "execution_count": 174,
     "metadata": {},
     "output_type": "execute_result"
    }
   ],
   "source": [
    "df.head()"
   ]
  },
  {
   "cell_type": "code",
   "execution_count": 175,
   "id": "3111c485",
   "metadata": {},
   "outputs": [
    {
     "data": {
      "text/html": [
       "<div><style>\n",
       ".dataframe > thead > tr,\n",
       ".dataframe > tbody > tr {\n",
       "  text-align: right;\n",
       "  white-space: pre-wrap;\n",
       "}\n",
       "</style>\n",
       "<small>shape: (9, 18)</small><table border=\"1\" class=\"dataframe\"><thead><tr><th>statistic</th><th>id</th><th>author</th><th>text</th><th>date</th><th>likes</th><th>comments</th><th>shares</th><th>theme</th><th>followers</th><th>engagement_total</th><th>text_length</th><th>day_of_week</th><th>hour</th><th>hashtags</th><th>nbr_hashtags</th><th>is_viral</th><th>engagement_category</th></tr><tr><td>str</td><td>f64</td><td>str</td><td>str</td><td>str</td><td>f64</td><td>f64</td><td>f64</td><td>str</td><td>f64</td><td>f64</td><td>f64</td><td>f64</td><td>f64</td><td>str</td><td>f64</td><td>f64</td><td>str</td></tr></thead><tbody><tr><td>&quot;count&quot;</td><td>1842.0</td><td>&quot;1842&quot;</td><td>&quot;1842&quot;</td><td>&quot;1750&quot;</td><td>1842.0</td><td>1842.0</td><td>1842.0</td><td>&quot;1842&quot;</td><td>1842.0</td><td>1842.0</td><td>1842.0</td><td>1750.0</td><td>1750.0</td><td>&quot;1842&quot;</td><td>1842.0</td><td>1842.0</td><td>&quot;1842&quot;</td></tr><tr><td>&quot;null_count&quot;</td><td>0.0</td><td>&quot;0&quot;</td><td>&quot;0&quot;</td><td>&quot;92&quot;</td><td>0.0</td><td>0.0</td><td>0.0</td><td>&quot;0&quot;</td><td>0.0</td><td>0.0</td><td>0.0</td><td>92.0</td><td>92.0</td><td>&quot;0&quot;</td><td>0.0</td><td>0.0</td><td>&quot;0&quot;</td></tr><tr><td>&quot;mean&quot;</td><td>1134.421824</td><td>null</td><td>null</td><td>&quot;2025-04-04 13:42:37.584571&quot;</td><td>38.34962</td><td>12.48317</td><td>7.798046</td><td>null</td><td>1026.053203</td><td>58.630836</td><td>169.39848</td><td>4.321143</td><td>12.600571</td><td>null</td><td>7.172096</td><td>0.103692</td><td>null</td></tr><tr><td>&quot;std&quot;</td><td>572.978898</td><td>null</td><td>null</td><td>null</td><td>70.717072</td><td>22.681269</td><td>22.114374</td><td>null</td><td>14802.41989</td><td>96.756932</td><td>109.168253</td><td>1.084618</td><td>3.995981</td><td>null</td><td>13.653436</td><td>null</td><td>null</td></tr><tr><td>&quot;min&quot;</td><td>2.0</td><td>&quot;10000 CODEURS&quot;</td><td>&quot;&quot;A salary increase makes you h…</td><td>&quot;2024-05-29 12:00:00&quot;</td><td>0.0</td><td>0.0</td><td>0.0</td><td>&quot;DigitalTransformation&quot;</td><td>0.0</td><td>0.0</td><td>1.0</td><td>1.0</td><td>0.0</td><td>&quot;&quot;</td><td>0.0</td><td>0.0</td><td>&quot;Faible&quot;</td></tr><tr><td>&quot;25%&quot;</td><td>652.0</td><td>null</td><td>null</td><td>&quot;2025-04-24 11:12:52&quot;</td><td>3.0</td><td>0.0</td><td>0.0</td><td>null</td><td>0.0</td><td>5.0</td><td>89.0</td><td>4.0</td><td>10.0</td><td>null</td><td>0.0</td><td>null</td><td>null</td></tr><tr><td>&quot;50%&quot;</td><td>1114.0</td><td>null</td><td>null</td><td>&quot;2025-04-24 18:10:57&quot;</td><td>16.0</td><td>4.0</td><td>1.0</td><td>null</td><td>0.0</td><td>25.0</td><td>157.0</td><td>4.0</td><td>12.0</td><td>null</td><td>4.0</td><td>null</td><td>null</td></tr><tr><td>&quot;75%&quot;</td><td>1638.0</td><td>null</td><td>null</td><td>&quot;2025-04-25 10:17:51&quot;</td><td>43.0</td><td>16.0</td><td>6.0</td><td>null</td><td>52.0</td><td>71.0</td><td>234.0</td><td>5.0</td><td>16.0</td><td>null</td><td>8.0</td><td>null</td><td>null</td></tr><tr><td>&quot;max&quot;</td><td>2115.0</td><td>&quot;🧩 Amanda A. Russo&quot;</td><td>&quot;🪄 Vous souhaitez impressionner…</td><td>&quot;2025-04-25 23:20:51&quot;</td><td>834.0</td><td>261.0</td><td>346.0</td><td>&quot;tutoriel&quot;</td><td>586005.0</td><td>879.0</td><td>524.0</td><td>7.0</td><td>23.0</td><td>&quot;#𝑩𝒖𝒔𝒊𝒏𝒆𝒔𝒔𝑺𝒑𝒊𝒓𝒊𝒕 #pleinelune #n…</td><td>173.0</td><td>1.0</td><td>&quot;Fort&quot;</td></tr></tbody></table></div>"
      ],
      "text/plain": [
       "shape: (9, 18)\n",
       "┌───────────┬───────────┬───────────┬───────────┬───┬───────────┬───────────┬──────────┬───────────┐\n",
       "│ statistic ┆ id        ┆ author    ┆ text      ┆ … ┆ hashtags  ┆ nbr_hasht ┆ is_viral ┆ engagemen │\n",
       "│ ---       ┆ ---       ┆ ---       ┆ ---       ┆   ┆ ---       ┆ ags       ┆ ---      ┆ t_categor │\n",
       "│ str       ┆ f64       ┆ str       ┆ str       ┆   ┆ str       ┆ ---       ┆ f64      ┆ y         │\n",
       "│           ┆           ┆           ┆           ┆   ┆           ┆ f64       ┆          ┆ ---       │\n",
       "│           ┆           ┆           ┆           ┆   ┆           ┆           ┆          ┆ str       │\n",
       "╞═══════════╪═══════════╪═══════════╪═══════════╪═══╪═══════════╪═══════════╪══════════╪═══════════╡\n",
       "│ count     ┆ 1842.0    ┆ 1842      ┆ 1842      ┆ … ┆ 1842      ┆ 1842.0    ┆ 1842.0   ┆ 1842      │\n",
       "│ null_coun ┆ 0.0       ┆ 0         ┆ 0         ┆ … ┆ 0         ┆ 0.0       ┆ 0.0      ┆ 0         │\n",
       "│ t         ┆           ┆           ┆           ┆   ┆           ┆           ┆          ┆           │\n",
       "│ mean      ┆ 1134.4218 ┆ null      ┆ null      ┆ … ┆ null      ┆ 7.172096  ┆ 0.103692 ┆ null      │\n",
       "│           ┆ 24        ┆           ┆           ┆   ┆           ┆           ┆          ┆           │\n",
       "│ std       ┆ 572.97889 ┆ null      ┆ null      ┆ … ┆ null      ┆ 13.653436 ┆ null     ┆ null      │\n",
       "│           ┆ 8         ┆           ┆           ┆   ┆           ┆           ┆          ┆           │\n",
       "│ min       ┆ 2.0       ┆ 10000     ┆ \"A salary ┆ … ┆           ┆ 0.0       ┆ 0.0      ┆ Faible    │\n",
       "│           ┆           ┆ CODEURS   ┆ increase  ┆   ┆           ┆           ┆          ┆           │\n",
       "│           ┆           ┆           ┆ makes you ┆   ┆           ┆           ┆          ┆           │\n",
       "│           ┆           ┆           ┆ h…        ┆   ┆           ┆           ┆          ┆           │\n",
       "│ 25%       ┆ 652.0     ┆ null      ┆ null      ┆ … ┆ null      ┆ 0.0       ┆ null     ┆ null      │\n",
       "│ 50%       ┆ 1114.0    ┆ null      ┆ null      ┆ … ┆ null      ┆ 4.0       ┆ null     ┆ null      │\n",
       "│ 75%       ┆ 1638.0    ┆ null      ┆ null      ┆ … ┆ null      ┆ 8.0       ┆ null     ┆ null      │\n",
       "│ max       ┆ 2115.0    ┆ 🧩 Amanda ┆ 🪄 Vous   ┆ … ┆ #𝑩𝒖𝒔𝒊𝒏𝒆𝒔𝒔 ┆ 173.0     ┆ 1.0      ┆ Fort      │\n",
       "│           ┆           ┆ A. Russo  ┆ souhaitez ┆   ┆ 𝑺𝒑𝒊𝒓𝒊𝒕    ┆           ┆          ┆           │\n",
       "│           ┆           ┆           ┆ impressio ┆   ┆ #pleinelu ┆           ┆          ┆           │\n",
       "│           ┆           ┆           ┆ nner…     ┆   ┆ ne #n…    ┆           ┆          ┆           │\n",
       "└───────────┴───────────┴───────────┴───────────┴───┴───────────┴───────────┴──────────┴───────────┘"
      ]
     },
     "execution_count": 175,
     "metadata": {},
     "output_type": "execute_result"
    }
   ],
   "source": [
    "df.describe()"
   ]
  },
  {
   "cell_type": "code",
   "execution_count": 176,
   "id": "f344f2c5",
   "metadata": {},
   "outputs": [],
   "source": [
    "import plotly.express as px\n",
    "import plotly.graph_objects as go"
   ]
  },
  {
   "cell_type": "code",
   "execution_count": 177,
   "id": "b68c85e2",
   "metadata": {},
   "outputs": [
    {
     "data": {
      "text/html": [
       "<div><style>\n",
       ".dataframe > thead > tr,\n",
       ".dataframe > tbody > tr {\n",
       "  text-align: right;\n",
       "  white-space: pre-wrap;\n",
       "}\n",
       "</style>\n",
       "<small>shape: (2, 5)</small><table border=\"1\" class=\"dataframe\"><thead><tr><th>engagement_category</th><th>mean_text_length</th><th>median_text_length</th><th>std_text_length</th><th>count</th></tr><tr><td>str</td><td>f64</td><td>f64</td><td>f64</td><td>u32</td></tr></thead><tbody><tr><td>&quot;Faible&quot;</td><td>164.054348</td><td>149.0</td><td>107.93967</td><td>1656</td></tr><tr><td>&quot;Fort&quot;</td><td>216.978495</td><td>204.0</td><td>108.796063</td><td>186</td></tr></tbody></table></div>"
      ],
      "text/plain": [
       "shape: (2, 5)\n",
       "┌─────────────────────┬──────────────────┬────────────────────┬─────────────────┬───────┐\n",
       "│ engagement_category ┆ mean_text_length ┆ median_text_length ┆ std_text_length ┆ count │\n",
       "│ ---                 ┆ ---              ┆ ---                ┆ ---             ┆ ---   │\n",
       "│ str                 ┆ f64              ┆ f64                ┆ f64             ┆ u32   │\n",
       "╞═════════════════════╪══════════════════╪════════════════════╪═════════════════╪═══════╡\n",
       "│ Faible              ┆ 164.054348       ┆ 149.0              ┆ 107.93967       ┆ 1656  │\n",
       "│ Fort                ┆ 216.978495       ┆ 204.0              ┆ 108.796063      ┆ 186   │\n",
       "└─────────────────────┴──────────────────┴────────────────────┴─────────────────┴───────┘"
      ]
     },
     "execution_count": 177,
     "metadata": {},
     "output_type": "execute_result"
    }
   ],
   "source": [
    "engagement_threshold = df[\"engagement_total\"].quantile(0.90)\n",
    "df_engagement = df.with_columns(\n",
    "    pl.when(\n",
    "        pl.col(\"engagement_total\") >= engagement_threshold\n",
    "    ).then(pl.lit(\"Fort\")\n",
    "    ).otherwise(pl.lit(\"Faible\")\n",
    "    ).alias(\"engagement_category\")\n",
    ")\n",
    "\n",
    "# Statistiques pour text_length par catégorie\n",
    "stats = df_engagement.group_by(\"engagement_category\").agg(\n",
    "    mean_text_length=pl.col(\"text_length\").mean(),\n",
    "    median_text_length=pl.col(\"text_length\").median(),\n",
    "    std_text_length=pl.col(\"text_length\").std(),\n",
    "    count=pl.col(\"text_length\").count()\n",
    ")\n",
    "stats"
   ]
  },
  {
   "cell_type": "code",
   "execution_count": 181,
   "id": "f779c8a6",
   "metadata": {},
   "outputs": [],
   "source": [
    "engagement_category_proportion = stats\n",
    "engagement_category_proportion[[\"engagement_category\", \"mean_text_length\"]].write_parquet(f\"{kpi_folder}/engagement_category_proportion.parquet\")"
   ]
  },
  {
   "cell_type": "markdown",
   "id": "7bfc1ae7",
   "metadata": {},
   "source": [
    "- Les posts plus longs (environ 217 mots) génèrent significativement plus d’engagement que les posts plus courts (environ 164 mots). Cela suggère que les contenus plus substantiels, comme des posts éducatifs, narratifs ou détaillés, captent mieux l’attention sur LinkedIn.\n",
    "- La différence de ~60 mots (217 vs 164) indique que les utilisateurs LinkedIn valorisent les posts qui offrent plus de contexte ou de valeur (ex. : explications techniques sur l’IA, storytelling).\n",
    "- L’écart-type élevé dans les deux cas (~100 mots) montre que la longueur seule ne garantit pas l’engagement ; d’autres facteurs jouent un rôle."
   ]
  },
  {
   "cell_type": "code",
   "execution_count": 17,
   "id": "b75f36ca",
   "metadata": {},
   "outputs": [
    {
     "data": {
      "text/html": [
       "<div><style>\n",
       ".dataframe > thead > tr,\n",
       ".dataframe > tbody > tr {\n",
       "  text-align: right;\n",
       "  white-space: pre-wrap;\n",
       "}\n",
       "</style>\n",
       "<small>shape: (2, 6)</small><table border=\"1\" class=\"dataframe\"><thead><tr><th>is_viral</th><th>mean_text_length</th><th>median_text_length</th><th>std_text_length</th><th>count</th><th>mean_followers</th></tr><tr><td>bool</td><td>f64</td><td>f64</td><td>f64</td><td>u32</td><td>f64</td></tr></thead><tbody><tr><td>false</td><td>163.471331</td><td>149.0</td><td>110.186243</td><td>1901</td><td>1107.384534</td></tr><tr><td>true</td><td>198.257009</td><td>182.0</td><td>103.552415</td><td>214</td><td>4154.621495</td></tr></tbody></table></div>"
      ],
      "text/plain": [
       "shape: (2, 6)\n",
       "┌──────────┬──────────────────┬────────────────────┬─────────────────┬───────┬────────────────┐\n",
       "│ is_viral ┆ mean_text_length ┆ median_text_length ┆ std_text_length ┆ count ┆ mean_followers │\n",
       "│ ---      ┆ ---              ┆ ---                ┆ ---             ┆ ---   ┆ ---            │\n",
       "│ bool     ┆ f64              ┆ f64                ┆ f64             ┆ u32   ┆ f64            │\n",
       "╞══════════╪══════════════════╪════════════════════╪═════════════════╪═══════╪════════════════╡\n",
       "│ false    ┆ 163.471331       ┆ 149.0              ┆ 110.186243      ┆ 1901  ┆ 1107.384534    │\n",
       "│ true     ┆ 198.257009       ┆ 182.0              ┆ 103.552415      ┆ 214   ┆ 4154.621495    │\n",
       "└──────────┴──────────────────┴────────────────────┴─────────────────┴───────┴────────────────┘"
      ]
     },
     "execution_count": 17,
     "metadata": {},
     "output_type": "execute_result"
    }
   ],
   "source": [
    "# Statistiques pour text_length pour les posts viraux\n",
    "viral_stats = df.group_by(\"is_viral\").agg(\n",
    "    mean_text_length=pl.col(\"text_length\").mean(),\n",
    "    median_text_length=pl.col(\"text_length\").median(),\n",
    "    std_text_length=pl.col(\"text_length\").std(),\n",
    "    count=pl.col(\"text_length\").count(),\n",
    "    mean_followers=pl.col(\"followers\").mean()\n",
    ")\n",
    "viral_stats"
   ]
  },
  {
   "cell_type": "code",
   "execution_count": 183,
   "id": "2408bb39",
   "metadata": {},
   "outputs": [],
   "source": [
    "viral_stats[[\"is_viral\", \"mean_text_length\"]].write_parquet(f\"{kpi_folder}/viral_categoy_proportion.parquet\")"
   ]
  },
  {
   "cell_type": "markdown",
   "id": "fcf2800a",
   "metadata": {},
   "source": [
    "- Insight LinkedIn : “Les posts viraux (très partagés) ont en moyenne 198 mots, soit 20% plus longs que les posts non viraux. Vise ~200 mots pour augmenter tes chances de viralité.”\n",
    "\n",
    "- Comparée à la médiane pour l’engagement général (210 pour Fort vs 147 pour Faible), la médiane des posts viraux (182) est légèrement plus basse, suggérant que la viralité privilégie des posts un peu plus concis que ceux maximisant l’engagement total.\n",
    "\n",
    "- Les auteurs des posts viraux ont en moyenne ~3,7 fois plus de followers (4154 vs 1107) que ceux des posts non viraux. Cela suggère que la taille du réseau joue un rôle clé dans la viralité, car un plus grand nombre de followers augmente la portée initiale, favorisant les partages.\n",
    "\n",
    "- Cependant, des posts non viraux peuvent venir d’auteurs avec peu de followers, indiquant que la qualité du contenu peut compenser un petit réseau.\n",
    "- La différence importante (~3000 followers) montre que la viralité est souvent amplifiée par des comptes influents, mais pas exclusivement."
   ]
  },
  {
   "cell_type": "code",
   "execution_count": 184,
   "id": "3faf4b7f",
   "metadata": {},
   "outputs": [
    {
     "data": {
      "application/vnd.plotly.v1+json": {
       "config": {
        "plotlyServerURL": "https://plot.ly"
       },
       "data": [
        {
         "alignmentgroup": "True",
         "boxpoints": "outliers",
         "hovertemplate": "Catégorie d'engagement=%{x}<br>Longueur du texte (mots)=%{y}<extra></extra>",
         "legendgroup": "Faible",
         "marker": {
          "color": "#636efa"
         },
         "name": "Faible",
         "notched": false,
         "offsetgroup": "Faible",
         "orientation": "v",
         "showlegend": true,
         "type": "box",
         "x": [
          "Faible",
          "Faible",
          "Faible",
          "Faible",
          "Faible",
          "Faible",
          "Faible",
          "Faible",
          "Faible",
          "Faible",
          "Faible",
          "Faible",
          "Faible",
          "Faible",
          "Faible",
          "Faible",
          "Faible",
          "Faible",
          "Faible",
          "Faible",
          "Faible",
          "Faible",
          "Faible",
          "Faible",
          "Faible",
          "Faible",
          "Faible",
          "Faible",
          "Faible",
          "Faible",
          "Faible",
          "Faible",
          "Faible",
          "Faible",
          "Faible",
          "Faible",
          "Faible",
          "Faible",
          "Faible",
          "Faible",
          "Faible",
          "Faible",
          "Faible",
          "Faible",
          "Faible",
          "Faible",
          "Faible",
          "Faible",
          "Faible",
          "Faible",
          "Faible",
          "Faible",
          "Faible",
          "Faible",
          "Faible",
          "Faible",
          "Faible",
          "Faible",
          "Faible",
          "Faible",
          "Faible",
          "Faible",
          "Faible",
          "Faible",
          "Faible",
          "Faible",
          "Faible",
          "Faible",
          "Faible",
          "Faible",
          "Faible",
          "Faible",
          "Faible",
          "Faible",
          "Faible",
          "Faible",
          "Faible",
          "Faible",
          "Faible",
          "Faible",
          "Faible",
          "Faible",
          "Faible",
          "Faible",
          "Faible",
          "Faible",
          "Faible",
          "Faible",
          "Faible",
          "Faible",
          "Faible",
          "Faible",
          "Faible",
          "Faible",
          "Faible",
          "Faible",
          "Faible",
          "Faible",
          "Faible",
          "Faible",
          "Faible",
          "Faible",
          "Faible",
          "Faible",
          "Faible",
          "Faible",
          "Faible",
          "Faible",
          "Faible",
          "Faible",
          "Faible",
          "Faible",
          "Faible",
          "Faible",
          "Faible",
          "Faible",
          "Faible",
          "Faible",
          "Faible",
          "Faible",
          "Faible",
          "Faible",
          "Faible",
          "Faible",
          "Faible",
          "Faible",
          "Faible",
          "Faible",
          "Faible",
          "Faible",
          "Faible",
          "Faible",
          "Faible",
          "Faible",
          "Faible",
          "Faible",
          "Faible",
          "Faible",
          "Faible",
          "Faible",
          "Faible",
          "Faible",
          "Faible",
          "Faible",
          "Faible",
          "Faible",
          "Faible",
          "Faible",
          "Faible",
          "Faible",
          "Faible",
          "Faible",
          "Faible",
          "Faible",
          "Faible",
          "Faible",
          "Faible",
          "Faible",
          "Faible",
          "Faible",
          "Faible",
          "Faible",
          "Faible",
          "Faible",
          "Faible",
          "Faible",
          "Faible",
          "Faible",
          "Faible",
          "Faible",
          "Faible",
          "Faible",
          "Faible",
          "Faible",
          "Faible",
          "Faible",
          "Faible",
          "Faible",
          "Faible",
          "Faible",
          "Faible",
          "Faible",
          "Faible",
          "Faible",
          "Faible",
          "Faible",
          "Faible",
          "Faible",
          "Faible",
          "Faible",
          "Faible",
          "Faible",
          "Faible",
          "Faible",
          "Faible",
          "Faible",
          "Faible",
          "Faible",
          "Faible",
          "Faible",
          "Faible",
          "Faible",
          "Faible",
          "Faible",
          "Faible",
          "Faible",
          "Faible",
          "Faible",
          "Faible",
          "Faible",
          "Faible",
          "Faible",
          "Faible",
          "Faible",
          "Faible",
          "Faible",
          "Faible",
          "Faible",
          "Faible",
          "Faible",
          "Faible",
          "Faible",
          "Faible",
          "Faible",
          "Faible",
          "Faible",
          "Faible",
          "Faible",
          "Faible",
          "Faible",
          "Faible",
          "Faible",
          "Faible",
          "Faible",
          "Faible",
          "Faible",
          "Faible",
          "Faible",
          "Faible",
          "Faible",
          "Faible",
          "Faible",
          "Faible",
          "Faible",
          "Faible",
          "Faible",
          "Faible",
          "Faible",
          "Faible",
          "Faible",
          "Faible",
          "Faible",
          "Faible",
          "Faible",
          "Faible",
          "Faible",
          "Faible",
          "Faible",
          "Faible",
          "Faible",
          "Faible",
          "Faible",
          "Faible",
          "Faible",
          "Faible",
          "Faible",
          "Faible",
          "Faible",
          "Faible",
          "Faible",
          "Faible",
          "Faible",
          "Faible",
          "Faible",
          "Faible",
          "Faible",
          "Faible",
          "Faible",
          "Faible",
          "Faible",
          "Faible",
          "Faible",
          "Faible",
          "Faible",
          "Faible",
          "Faible",
          "Faible",
          "Faible",
          "Faible",
          "Faible",
          "Faible",
          "Faible",
          "Faible",
          "Faible",
          "Faible",
          "Faible",
          "Faible",
          "Faible",
          "Faible",
          "Faible",
          "Faible",
          "Faible",
          "Faible",
          "Faible",
          "Faible",
          "Faible",
          "Faible",
          "Faible",
          "Faible",
          "Faible",
          "Faible",
          "Faible",
          "Faible",
          "Faible",
          "Faible",
          "Faible",
          "Faible",
          "Faible",
          "Faible",
          "Faible",
          "Faible",
          "Faible",
          "Faible",
          "Faible",
          "Faible",
          "Faible",
          "Faible",
          "Faible",
          "Faible",
          "Faible",
          "Faible",
          "Faible",
          "Faible",
          "Faible",
          "Faible",
          "Faible",
          "Faible",
          "Faible",
          "Faible",
          "Faible",
          "Faible",
          "Faible",
          "Faible",
          "Faible",
          "Faible",
          "Faible",
          "Faible",
          "Faible",
          "Faible",
          "Faible",
          "Faible",
          "Faible",
          "Faible",
          "Faible",
          "Faible",
          "Faible",
          "Faible",
          "Faible",
          "Faible",
          "Faible",
          "Faible",
          "Faible",
          "Faible",
          "Faible",
          "Faible",
          "Faible",
          "Faible",
          "Faible",
          "Faible",
          "Faible",
          "Faible",
          "Faible",
          "Faible",
          "Faible",
          "Faible",
          "Faible",
          "Faible",
          "Faible",
          "Faible",
          "Faible",
          "Faible",
          "Faible",
          "Faible",
          "Faible",
          "Faible",
          "Faible",
          "Faible",
          "Faible",
          "Faible",
          "Faible",
          "Faible",
          "Faible",
          "Faible",
          "Faible",
          "Faible",
          "Faible",
          "Faible",
          "Faible",
          "Faible",
          "Faible",
          "Faible",
          "Faible",
          "Faible",
          "Faible",
          "Faible",
          "Faible",
          "Faible",
          "Faible",
          "Faible",
          "Faible",
          "Faible",
          "Faible",
          "Faible",
          "Faible",
          "Faible",
          "Faible",
          "Faible",
          "Faible",
          "Faible",
          "Faible",
          "Faible",
          "Faible",
          "Faible",
          "Faible",
          "Faible",
          "Faible",
          "Faible",
          "Faible",
          "Faible",
          "Faible",
          "Faible",
          "Faible",
          "Faible",
          "Faible",
          "Faible",
          "Faible",
          "Faible",
          "Faible",
          "Faible",
          "Faible",
          "Faible",
          "Faible",
          "Faible",
          "Faible",
          "Faible",
          "Faible",
          "Faible",
          "Faible",
          "Faible",
          "Faible",
          "Faible",
          "Faible",
          "Faible",
          "Faible",
          "Faible",
          "Faible",
          "Faible",
          "Faible",
          "Faible",
          "Faible",
          "Faible",
          "Faible",
          "Faible",
          "Faible",
          "Faible",
          "Faible",
          "Faible",
          "Faible",
          "Faible",
          "Faible",
          "Faible",
          "Faible",
          "Faible",
          "Faible",
          "Faible",
          "Faible",
          "Faible",
          "Faible",
          "Faible",
          "Faible",
          "Faible",
          "Faible",
          "Faible",
          "Faible",
          "Faible",
          "Faible",
          "Faible",
          "Faible",
          "Faible",
          "Faible",
          "Faible",
          "Faible",
          "Faible",
          "Faible",
          "Faible",
          "Faible",
          "Faible",
          "Faible",
          "Faible",
          "Faible",
          "Faible",
          "Faible",
          "Faible",
          "Faible",
          "Faible",
          "Faible",
          "Faible",
          "Faible",
          "Faible",
          "Faible",
          "Faible",
          "Faible",
          "Faible",
          "Faible",
          "Faible",
          "Faible",
          "Faible",
          "Faible",
          "Faible",
          "Faible",
          "Faible",
          "Faible",
          "Faible",
          "Faible",
          "Faible",
          "Faible",
          "Faible",
          "Faible",
          "Faible",
          "Faible",
          "Faible",
          "Faible",
          "Faible",
          "Faible",
          "Faible",
          "Faible",
          "Faible",
          "Faible",
          "Faible",
          "Faible",
          "Faible",
          "Faible",
          "Faible",
          "Faible",
          "Faible",
          "Faible",
          "Faible",
          "Faible",
          "Faible",
          "Faible",
          "Faible",
          "Faible",
          "Faible",
          "Faible",
          "Faible",
          "Faible",
          "Faible",
          "Faible",
          "Faible",
          "Faible",
          "Faible",
          "Faible",
          "Faible",
          "Faible",
          "Faible",
          "Faible",
          "Faible",
          "Faible",
          "Faible",
          "Faible",
          "Faible",
          "Faible",
          "Faible",
          "Faible",
          "Faible",
          "Faible",
          "Faible",
          "Faible",
          "Faible",
          "Faible",
          "Faible",
          "Faible",
          "Faible",
          "Faible",
          "Faible",
          "Faible",
          "Faible",
          "Faible",
          "Faible",
          "Faible",
          "Faible",
          "Faible",
          "Faible",
          "Faible",
          "Faible",
          "Faible",
          "Faible",
          "Faible",
          "Faible",
          "Faible",
          "Faible",
          "Faible",
          "Faible",
          "Faible",
          "Faible",
          "Faible",
          "Faible",
          "Faible",
          "Faible",
          "Faible",
          "Faible",
          "Faible",
          "Faible",
          "Faible",
          "Faible",
          "Faible",
          "Faible",
          "Faible",
          "Faible",
          "Faible",
          "Faible",
          "Faible",
          "Faible",
          "Faible",
          "Faible",
          "Faible",
          "Faible",
          "Faible",
          "Faible",
          "Faible",
          "Faible",
          "Faible",
          "Faible",
          "Faible",
          "Faible",
          "Faible",
          "Faible",
          "Faible",
          "Faible",
          "Faible",
          "Faible",
          "Faible",
          "Faible",
          "Faible",
          "Faible",
          "Faible",
          "Faible",
          "Faible",
          "Faible",
          "Faible",
          "Faible",
          "Faible",
          "Faible",
          "Faible",
          "Faible",
          "Faible",
          "Faible",
          "Faible",
          "Faible",
          "Faible",
          "Faible",
          "Faible",
          "Faible",
          "Faible",
          "Faible",
          "Faible",
          "Faible",
          "Faible",
          "Faible",
          "Faible",
          "Faible",
          "Faible",
          "Faible",
          "Faible",
          "Faible",
          "Faible",
          "Faible",
          "Faible",
          "Faible",
          "Faible",
          "Faible",
          "Faible",
          "Faible",
          "Faible",
          "Faible",
          "Faible",
          "Faible",
          "Faible",
          "Faible",
          "Faible",
          "Faible",
          "Faible",
          "Faible",
          "Faible",
          "Faible",
          "Faible",
          "Faible",
          "Faible",
          "Faible",
          "Faible",
          "Faible",
          "Faible",
          "Faible",
          "Faible",
          "Faible",
          "Faible",
          "Faible",
          "Faible",
          "Faible",
          "Faible",
          "Faible",
          "Faible",
          "Faible",
          "Faible",
          "Faible",
          "Faible",
          "Faible",
          "Faible",
          "Faible",
          "Faible",
          "Faible",
          "Faible",
          "Faible",
          "Faible",
          "Faible",
          "Faible",
          "Faible",
          "Faible",
          "Faible",
          "Faible",
          "Faible",
          "Faible",
          "Faible",
          "Faible",
          "Faible",
          "Faible",
          "Faible",
          "Faible",
          "Faible",
          "Faible",
          "Faible",
          "Faible",
          "Faible",
          "Faible",
          "Faible",
          "Faible",
          "Faible",
          "Faible",
          "Faible",
          "Faible",
          "Faible",
          "Faible",
          "Faible",
          "Faible",
          "Faible",
          "Faible",
          "Faible",
          "Faible",
          "Faible",
          "Faible",
          "Faible",
          "Faible",
          "Faible",
          "Faible",
          "Faible",
          "Faible",
          "Faible",
          "Faible",
          "Faible",
          "Faible",
          "Faible",
          "Faible",
          "Faible",
          "Faible",
          "Faible",
          "Faible",
          "Faible",
          "Faible",
          "Faible",
          "Faible",
          "Faible",
          "Faible",
          "Faible",
          "Faible",
          "Faible",
          "Faible",
          "Faible",
          "Faible",
          "Faible",
          "Faible",
          "Faible",
          "Faible",
          "Faible",
          "Faible",
          "Faible",
          "Faible",
          "Faible",
          "Faible",
          "Faible",
          "Faible",
          "Faible",
          "Faible",
          "Faible",
          "Faible",
          "Faible",
          "Faible",
          "Faible",
          "Faible",
          "Faible",
          "Faible",
          "Faible",
          "Faible",
          "Faible",
          "Faible",
          "Faible",
          "Faible",
          "Faible",
          "Faible",
          "Faible",
          "Faible",
          "Faible",
          "Faible",
          "Faible",
          "Faible",
          "Faible",
          "Faible",
          "Faible",
          "Faible",
          "Faible",
          "Faible",
          "Faible",
          "Faible",
          "Faible",
          "Faible",
          "Faible",
          "Faible",
          "Faible",
          "Faible",
          "Faible",
          "Faible",
          "Faible",
          "Faible",
          "Faible",
          "Faible",
          "Faible",
          "Faible",
          "Faible",
          "Faible",
          "Faible",
          "Faible",
          "Faible",
          "Faible",
          "Faible",
          "Faible",
          "Faible",
          "Faible",
          "Faible",
          "Faible",
          "Faible",
          "Faible",
          "Faible",
          "Faible",
          "Faible",
          "Faible",
          "Faible",
          "Faible",
          "Faible",
          "Faible",
          "Faible",
          "Faible",
          "Faible",
          "Faible",
          "Faible",
          "Faible",
          "Faible",
          "Faible",
          "Faible",
          "Faible",
          "Faible",
          "Faible",
          "Faible",
          "Faible",
          "Faible",
          "Faible",
          "Faible",
          "Faible",
          "Faible",
          "Faible",
          "Faible",
          "Faible",
          "Faible",
          "Faible",
          "Faible",
          "Faible",
          "Faible",
          "Faible",
          "Faible",
          "Faible",
          "Faible",
          "Faible",
          "Faible",
          "Faible",
          "Faible",
          "Faible",
          "Faible",
          "Faible",
          "Faible",
          "Faible",
          "Faible",
          "Faible",
          "Faible",
          "Faible",
          "Faible",
          "Faible",
          "Faible",
          "Faible",
          "Faible",
          "Faible",
          "Faible",
          "Faible",
          "Faible",
          "Faible",
          "Faible",
          "Faible",
          "Faible",
          "Faible",
          "Faible",
          "Faible",
          "Faible",
          "Faible",
          "Faible",
          "Faible",
          "Faible",
          "Faible",
          "Faible",
          "Faible",
          "Faible",
          "Faible",
          "Faible",
          "Faible",
          "Faible",
          "Faible",
          "Faible",
          "Faible",
          "Faible",
          "Faible",
          "Faible",
          "Faible",
          "Faible",
          "Faible",
          "Faible",
          "Faible",
          "Faible",
          "Faible",
          "Faible",
          "Faible",
          "Faible",
          "Faible",
          "Faible",
          "Faible",
          "Faible",
          "Faible",
          "Faible",
          "Faible",
          "Faible",
          "Faible",
          "Faible",
          "Faible",
          "Faible",
          "Faible",
          "Faible",
          "Faible",
          "Faible",
          "Faible",
          "Faible",
          "Faible",
          "Faible",
          "Faible",
          "Faible",
          "Faible",
          "Faible",
          "Faible",
          "Faible",
          "Faible",
          "Faible",
          "Faible",
          "Faible",
          "Faible",
          "Faible",
          "Faible",
          "Faible",
          "Faible",
          "Faible",
          "Faible",
          "Faible",
          "Faible",
          "Faible",
          "Faible",
          "Faible",
          "Faible",
          "Faible",
          "Faible",
          "Faible",
          "Faible",
          "Faible",
          "Faible",
          "Faible",
          "Faible",
          "Faible",
          "Faible",
          "Faible",
          "Faible",
          "Faible",
          "Faible",
          "Faible",
          "Faible",
          "Faible",
          "Faible",
          "Faible",
          "Faible",
          "Faible",
          "Faible",
          "Faible",
          "Faible",
          "Faible",
          "Faible",
          "Faible",
          "Faible",
          "Faible",
          "Faible",
          "Faible",
          "Faible",
          "Faible",
          "Faible",
          "Faible",
          "Faible",
          "Faible",
          "Faible",
          "Faible",
          "Faible",
          "Faible",
          "Faible",
          "Faible",
          "Faible",
          "Faible",
          "Faible",
          "Faible",
          "Faible",
          "Faible",
          "Faible",
          "Faible",
          "Faible",
          "Faible",
          "Faible",
          "Faible",
          "Faible",
          "Faible",
          "Faible",
          "Faible",
          "Faible",
          "Faible",
          "Faible",
          "Faible",
          "Faible",
          "Faible",
          "Faible",
          "Faible",
          "Faible",
          "Faible",
          "Faible",
          "Faible",
          "Faible",
          "Faible",
          "Faible",
          "Faible",
          "Faible",
          "Faible",
          "Faible",
          "Faible",
          "Faible",
          "Faible",
          "Faible",
          "Faible",
          "Faible",
          "Faible",
          "Faible",
          "Faible",
          "Faible",
          "Faible",
          "Faible",
          "Faible",
          "Faible",
          "Faible",
          "Faible",
          "Faible",
          "Faible",
          "Faible",
          "Faible",
          "Faible",
          "Faible",
          "Faible",
          "Faible",
          "Faible",
          "Faible",
          "Faible",
          "Faible",
          "Faible",
          "Faible",
          "Faible",
          "Faible",
          "Faible",
          "Faible",
          "Faible",
          "Faible",
          "Faible",
          "Faible",
          "Faible",
          "Faible",
          "Faible",
          "Faible",
          "Faible",
          "Faible",
          "Faible",
          "Faible",
          "Faible",
          "Faible",
          "Faible",
          "Faible",
          "Faible",
          "Faible",
          "Faible",
          "Faible",
          "Faible",
          "Faible",
          "Faible",
          "Faible",
          "Faible",
          "Faible",
          "Faible",
          "Faible",
          "Faible",
          "Faible",
          "Faible",
          "Faible",
          "Faible",
          "Faible",
          "Faible",
          "Faible",
          "Faible",
          "Faible",
          "Faible",
          "Faible",
          "Faible",
          "Faible",
          "Faible",
          "Faible",
          "Faible",
          "Faible",
          "Faible",
          "Faible",
          "Faible",
          "Faible",
          "Faible",
          "Faible",
          "Faible",
          "Faible",
          "Faible",
          "Faible",
          "Faible",
          "Faible",
          "Faible",
          "Faible",
          "Faible",
          "Faible",
          "Faible",
          "Faible",
          "Faible",
          "Faible",
          "Faible",
          "Faible",
          "Faible",
          "Faible",
          "Faible",
          "Faible",
          "Faible",
          "Faible",
          "Faible",
          "Faible",
          "Faible",
          "Faible",
          "Faible",
          "Faible",
          "Faible",
          "Faible",
          "Faible",
          "Faible",
          "Faible",
          "Faible",
          "Faible",
          "Faible",
          "Faible",
          "Faible",
          "Faible",
          "Faible",
          "Faible",
          "Faible",
          "Faible",
          "Faible",
          "Faible",
          "Faible",
          "Faible",
          "Faible",
          "Faible",
          "Faible",
          "Faible",
          "Faible",
          "Faible",
          "Faible",
          "Faible",
          "Faible",
          "Faible",
          "Faible",
          "Faible",
          "Faible",
          "Faible",
          "Faible",
          "Faible",
          "Faible",
          "Faible",
          "Faible",
          "Faible",
          "Faible",
          "Faible",
          "Faible",
          "Faible",
          "Faible",
          "Faible",
          "Faible",
          "Faible",
          "Faible",
          "Faible",
          "Faible",
          "Faible",
          "Faible",
          "Faible",
          "Faible",
          "Faible",
          "Faible",
          "Faible",
          "Faible",
          "Faible",
          "Faible",
          "Faible",
          "Faible",
          "Faible",
          "Faible",
          "Faible",
          "Faible",
          "Faible",
          "Faible",
          "Faible",
          "Faible",
          "Faible",
          "Faible",
          "Faible",
          "Faible",
          "Faible",
          "Faible",
          "Faible",
          "Faible",
          "Faible",
          "Faible",
          "Faible",
          "Faible",
          "Faible",
          "Faible",
          "Faible",
          "Faible",
          "Faible",
          "Faible",
          "Faible",
          "Faible",
          "Faible",
          "Faible",
          "Faible",
          "Faible",
          "Faible",
          "Faible",
          "Faible",
          "Faible",
          "Faible",
          "Faible",
          "Faible",
          "Faible",
          "Faible",
          "Faible",
          "Faible",
          "Faible",
          "Faible",
          "Faible",
          "Faible",
          "Faible",
          "Faible",
          "Faible",
          "Faible",
          "Faible",
          "Faible",
          "Faible",
          "Faible",
          "Faible",
          "Faible",
          "Faible",
          "Faible",
          "Faible",
          "Faible",
          "Faible",
          "Faible",
          "Faible",
          "Faible",
          "Faible",
          "Faible",
          "Faible",
          "Faible",
          "Faible",
          "Faible",
          "Faible",
          "Faible",
          "Faible",
          "Faible",
          "Faible",
          "Faible",
          "Faible",
          "Faible",
          "Faible",
          "Faible",
          "Faible",
          "Faible",
          "Faible",
          "Faible",
          "Faible",
          "Faible",
          "Faible",
          "Faible",
          "Faible",
          "Faible",
          "Faible",
          "Faible",
          "Faible",
          "Faible",
          "Faible",
          "Faible",
          "Faible",
          "Faible",
          "Faible",
          "Faible",
          "Faible",
          "Faible",
          "Faible",
          "Faible",
          "Faible",
          "Faible",
          "Faible",
          "Faible",
          "Faible",
          "Faible",
          "Faible",
          "Faible",
          "Faible",
          "Faible",
          "Faible",
          "Faible",
          "Faible",
          "Faible",
          "Faible",
          "Faible",
          "Faible",
          "Faible",
          "Faible",
          "Faible",
          "Faible",
          "Faible",
          "Faible",
          "Faible",
          "Faible",
          "Faible",
          "Faible",
          "Faible",
          "Faible",
          "Faible",
          "Faible",
          "Faible",
          "Faible",
          "Faible",
          "Faible",
          "Faible",
          "Faible",
          "Faible",
          "Faible",
          "Faible",
          "Faible",
          "Faible",
          "Faible",
          "Faible",
          "Faible",
          "Faible",
          "Faible",
          "Faible",
          "Faible",
          "Faible",
          "Faible",
          "Faible",
          "Faible",
          "Faible",
          "Faible",
          "Faible",
          "Faible",
          "Faible",
          "Faible",
          "Faible",
          "Faible",
          "Faible",
          "Faible",
          "Faible",
          "Faible",
          "Faible",
          "Faible",
          "Faible",
          "Faible",
          "Faible",
          "Faible",
          "Faible",
          "Faible",
          "Faible",
          "Faible",
          "Faible",
          "Faible",
          "Faible",
          "Faible",
          "Faible",
          "Faible",
          "Faible",
          "Faible",
          "Faible",
          "Faible",
          "Faible",
          "Faible",
          "Faible",
          "Faible",
          "Faible",
          "Faible",
          "Faible",
          "Faible",
          "Faible",
          "Faible",
          "Faible",
          "Faible",
          "Faible",
          "Faible",
          "Faible",
          "Faible",
          "Faible",
          "Faible",
          "Faible",
          "Faible",
          "Faible",
          "Faible",
          "Faible",
          "Faible",
          "Faible",
          "Faible",
          "Faible",
          "Faible",
          "Faible",
          "Faible",
          "Faible",
          "Faible",
          "Faible",
          "Faible",
          "Faible",
          "Faible",
          "Faible",
          "Faible",
          "Faible",
          "Faible",
          "Faible",
          "Faible",
          "Faible",
          "Faible",
          "Faible",
          "Faible",
          "Faible",
          "Faible",
          "Faible",
          "Faible",
          "Faible",
          "Faible",
          "Faible",
          "Faible",
          "Faible",
          "Faible",
          "Faible",
          "Faible",
          "Faible",
          "Faible",
          "Faible",
          "Faible",
          "Faible",
          "Faible",
          "Faible",
          "Faible",
          "Faible",
          "Faible",
          "Faible",
          "Faible",
          "Faible",
          "Faible",
          "Faible",
          "Faible",
          "Faible",
          "Faible",
          "Faible",
          "Faible",
          "Faible",
          "Faible",
          "Faible",
          "Faible",
          "Faible",
          "Faible",
          "Faible",
          "Faible",
          "Faible",
          "Faible",
          "Faible",
          "Faible",
          "Faible",
          "Faible",
          "Faible",
          "Faible",
          "Faible",
          "Faible",
          "Faible",
          "Faible",
          "Faible",
          "Faible",
          "Faible",
          "Faible",
          "Faible",
          "Faible",
          "Faible",
          "Faible",
          "Faible",
          "Faible",
          "Faible",
          "Faible",
          "Faible",
          "Faible",
          "Faible",
          "Faible",
          "Faible",
          "Faible",
          "Faible",
          "Faible",
          "Faible",
          "Faible",
          "Faible",
          "Faible",
          "Faible",
          "Faible",
          "Faible",
          "Faible",
          "Faible",
          "Faible",
          "Faible",
          "Faible",
          "Faible",
          "Faible",
          "Faible",
          "Faible",
          "Faible",
          "Faible",
          "Faible",
          "Faible",
          "Faible",
          "Faible",
          "Faible",
          "Faible",
          "Faible",
          "Faible",
          "Faible",
          "Faible",
          "Faible",
          "Faible",
          "Faible",
          "Faible",
          "Faible",
          "Faible",
          "Faible",
          "Faible",
          "Faible",
          "Faible",
          "Faible",
          "Faible",
          "Faible",
          "Faible",
          "Faible",
          "Faible",
          "Faible",
          "Faible",
          "Faible",
          "Faible",
          "Faible",
          "Faible",
          "Faible",
          "Faible",
          "Faible",
          "Faible",
          "Faible",
          "Faible",
          "Faible",
          "Faible",
          "Faible",
          "Faible",
          "Faible",
          "Faible",
          "Faible",
          "Faible",
          "Faible",
          "Faible",
          "Faible",
          "Faible",
          "Faible",
          "Faible",
          "Faible",
          "Faible",
          "Faible",
          "Faible",
          "Faible",
          "Faible",
          "Faible",
          "Faible",
          "Faible",
          "Faible",
          "Faible",
          "Faible",
          "Faible",
          "Faible",
          "Faible",
          "Faible",
          "Faible",
          "Faible",
          "Faible",
          "Faible",
          "Faible",
          "Faible",
          "Faible",
          "Faible"
         ],
         "x0": " ",
         "xaxis": "x",
         "y": {
          "bdata": "PgEAACsAAAAGAAAAAQAAABEAAAAKAAAABwAAAAEAAAA3AQAAJAEAADEBAADcAAAA0QAAACoBAAAoAQAABgEAAM8AAAC2AAAA1AAAAOIAAADRAAAAxQAAABUBAACRAAAAzwAAADUBAAAWAAAApgAAAIUAAACkAAAAVAAAACIAAABmAAAADwAAAEMAAAAFAQAAAQAAAAwAAAALAAAAHAAAAAEAAAABAAAAAQAAAAEAAAABAAAAAQAAAAEAAAABAAAAAQAAAJgBAAB1AQAA4QAAAO8AAAC9AAAAVQEAAGYAAAAUAQAAaQEAAP8AAAC6AAAA1AAAAHkAAACoAAAA0AAAABMAAAASAAAAHgAAABIAAAATAAAAXgAAAFwAAAAeAAAAZwAAAHIAAABkAAAAuAAAAHMAAACEAAAAIAAAANoAAAA+AAAA3QAAAIsAAADTAAAAQwAAAC0AAABIAAAAPQAAAE0AAABnAAAArwEAAC0BAAAQAAAAlwEAAF0AAABXAAAArAAAACEAAACZAAAAsAEAAA4AAABmAAAA6gAAAEgBAAAmAAAAVAAAACABAAA0AQAAIAEAANMAAABGAQAAHgAAAJQAAABrAAAA0AAAAHQAAADKAAAAfQAAACIAAAAaAAAAoAAAADIAAAAtAAAAFgAAACkAAAAcAQAACwEAAKUAAABbAQAACQEAAI8AAADSAAAAFgEAADkAAADFAAAApQAAAB4BAACmAAAATgAAACABAADpAAAAgAAAABsAAAAoAAAAPAAAAGAAAAAlAQAAGQAAALIAAAAYAAAAVAAAAAkAAAAbAAAAFgAAACsAAAAMAAAAHAAAANQAAACKAQAAsQEAAMABAABMAQAAzwEAAMIAAAA7AQAAAAIAAMoAAAAYAQAAgAEAAH0AAADZAAAAiQAAAFIBAAASAQAAzAAAAA0BAAA7AQAAZwEAAMgAAAASAQAAIQEAALwBAAB0AAAARAEAAPkAAADJAQAA6QAAAAwBAADPAAAAIQEAAEEBAACaAAAAZwAAAMIAAADGAAAAKAEAAJIAAADyAAAAFAAAAGoAAAAXAQAAIQEAAA4AAAAUAQAA4AAAABUBAAANAQAA5gAAAIkAAACwAAAAfQAAAMoAAACnAAAAyAAAAHUAAACBAAAAjAAAAHEAAACyAAAAQgAAAJgAAADLAAAAbgAAAL8AAAClAAAApQAAAJIAAADaAAAA0AAAAB4BAAB0AAAAlwAAAHEAAACAAAAAeAAAALgAAABxAAAAcQAAAFcAAADiAAAATQAAAHEAAABxAAAAFwEAAIsAAADhAAAArgAAADYAAABxAAAAngAAAHEAAACwAAAAEgAAAHEAAAAbAAAAZwAAAE8AAACjAAAAIQAAAL8AAACvAAAAcwAAAFsAAAC1AAAAsAAAAGkAAAD9AAAA6QAAALIAAADCAAAAsAAAALoAAABfAAAAiQAAAGYAAAARAQAAXgAAAEgAAACBAAAAfQAAAHYAAADQAAAAcQAAAJIAAACHAAAAlAAAAIEAAAA/AQAAigEAABgAAAAYAAAAOAAAAJcAAAALAAAAfAAAAEIAAAAcAAAARgAAAAkAAACyAAAArwAAABEAAAAXAAAAMgAAAAEAAAA0AAAAMAAAALcBAABAAQAAoAEAAIoBAACQAQAAnQEAAJAAAAAjAQAAxgAAACUBAACGAQAA2QEAAC4BAACpAQAANQEAAIoBAABvAQAAggEAANsAAAAhAQAADgEAAFYBAAAkAQAACQEAADQBAAA1AQAA5wAAABgBAAAHAQAA4AAAAEsBAAAZAQAAjwAAAM8AAADuAAAAfgAAAGkBAABCAQAASQEAAOIAAADOAAAAYAEAAGYAAABXAQAAKgEAAMEAAAB9AQAAUAEAAAUBAAA1AQAAdAEAAOoAAAARAQAA0AAAAGEAAABNAQAA2gAAAEMAAAAlAQAAxQAAAJQBAACtAAAALQEAAFkAAADWAAAAMwAAAK8AAAC2AAAAVQEAANwAAABHAQAAFgEAAFkAAADxAAAAbAEAAEUBAAC7AAAA5QAAAO8AAAC9AAAAKwEAANcAAADyAAAAAQEAABsBAABAAQAAewAAAMIAAAB8AAAAmgAAAOQAAAAmAQAAyAAAAOMAAABwAQAAGQEAACoBAACZAAAA7AAAAMAAAAARAQAA/QAAANQAAAB2AAAAzgAAAAABAACZAAAArgAAAFQAAAC4AAAAwQAAAGMAAAD0AAAAzQAAAOEAAACdAAAAwgAAAIQAAACQAAAAFQEAAAIBAADGAAAAIQEAAD8AAAB3AAAADwAAAFUAAAB8AAAAZgAAANMAAAAaAAAAfAAAAFQAAACfAAAATQAAAGUBAABTAQAAJgEAAMcAAABRAQAArAEAAEQBAABEAQAAkQEAALkBAACnAQAAtwEAAGwBAADHAAAAqgAAAIMBAAAUAQAACwEAACgBAADnAAAABwAAABABAADbAAAASwEAAIYAAAA+AQAAvAAAAPoAAADPAAAAOgEAALwAAAAIAQAAsgAAAP8AAADiAAAA+QAAAFwBAACoAAAAwwAAAAkBAACQAAAAyQAAAB4BAADKAAAAzgAAAJUAAABOAQAA+QAAAE8BAAC9AAAAvQAAALgAAACwAAAAkQAAALkAAAA4AQAAjAAAAKUAAACsAAAA+gAAANkAAAB6AAAAwgAAAJoAAAB7AAAAiwAAAJgAAAC3AAAA0gAAAMIAAACVAAAAzwAAAKMAAADKAAAAtgAAAJIAAABwAAAAswAAAJUAAAB8AQAA1gAAAJwAAACOAAAAhgAAAM8AAADeAAAAQgAAAAwBAACoAAAA1QAAADABAACSAAAAWwAAAI4AAACJAAAAJAEAAH4AAAB5AAAAZwAAAGoAAAAZAQAAdwAAANEAAADKAAAAgAAAAKAAAABiAAAA+QAAAJEAAAAEAQAA2AAAAMUAAAC7AAAABAAAADEAAABbAAAAFAEAALIAAADSAAAAagAAAKAAAAAbAAAAdQAAAJYAAAAVAQAALwAAAL8AAACpAAAAigAAAHMAAABkAAAAhQAAAM8AAACVAAAAZQAAAGgAAACxAAAAdQAAAGUAAADnAAAAZAAAABIBAACMAAAAfwAAAIcAAADcAAAADAAAAAcAAAAgAAAARQAAAOAAAAAhAAAADgAAADAAAAAoAQAADgAAAA4AAAAQAAAAVAAAAA4AAADhAAAApgAAABYAAAAHAQAAEgAAAIwAAABNAAAAvQAAAA8AAABFAAAAIAEAAJwAAAA2AQAADwAAAHAAAADnAAAAzwAAABAAAABSAAAAKgAAAJkAAACLAAAAFwAAAGsBAAA4AAAAzgAAABEAAABCAAAAggAAACUAAABEAAAAlQAAACgBAABfAAAACAAAAHIAAAA/AAAAKQAAAGgAAABFAAAA9wAAAG8AAAByAAAACwEAAF0AAACRAAAAFQAAAMkAAAChAAAAYwEAAHUAAAA+AAAAIwAAAF8AAABaAAAAUgAAAEABAAC+AAAARQAAAEYBAAC2AAAAIgAAAMEAAABTAAAA/gAAAJ0AAADWAAAAIgAAAAEAAACFAAAAkQAAALEAAACKAAAAHwAAAEgAAACBAAAAJAEAADMAAADfAAAASwAAAMIAAABXAQAA7QAAAAEAAAC5AAAAXgAAAFcAAACXAAAAYAAAAGwAAAAyAQAAVgAAAEkAAAA6AQAAgQAAACQAAABAAAAABAAAAD4AAABgAAAAzgAAAIsAAAAVAAAAPgAAAI4AAADhAAAAjQAAABoAAACoAQAABwAAAD8AAAByAAAAfgAAABwAAAAQAAAATwEAAJwBAACmAAAA8wAAAKcAAACaAAAAggAAAM4AAAASAQAAKgAAACYAAAAoAQAA8QAAAKgBAAAPAAAAtQEAAIEAAADgAAAAbgEAAOcAAACrAQAABgEAACYAAAB9AAAAAQAAAOUBAAAzAQAAHQEAAGQBAAC8AAAAygAAAKoAAAB8AAAAgwEAAHgBAACnAQAA3QEAAPgAAAByAQAAJAEAAO0AAAAWAQAAogEAANUAAADcAAAAAAEAAGwBAAAPAQAAGwEAAEsBAACyAAAAdwEAAL8AAABWAQAA6wAAALEBAACTAAAAUwAAAHwAAADAAAAAUgEAAKUAAAC3AAAAVgEAANcAAACXAAAA4gAAAKUAAAApAAAA1wAAANoAAADwAAAACAEAAH4BAADCAAAAbQAAAMcAAADWAAAA4wAAANgAAACCAAAAsAAAANYAAABoAAAApwAAAOMAAAB3AAAA6gAAAJ0AAAC5AAAAgQAAACoAAAC0AAAAewAAADEBAADFAAAAwQAAAK4AAABFAAAAoAAAAIIAAACpAAAAigAAAF4AAABWAQAAugAAAKYAAACtAAAAtwAAAJIAAAC1AAAA1QAAAI0AAACkAAAAuwAAALYAAACBAAAApwAAAHkAAACBAAAAhgAAAHoAAACwAAAARgAAAKsAAAB7AAAArAAAAG4AAACoAAAAzAAAAF8AAAB8AAAAcgAAANMAAACPAAAAegAAAKsAAADEAAAAiQAAALwAAACMAAAAiQAAAIwAAABwAAAAUgAAAHIAAAB+AAAAlAAAAGIAAAC9AAAAqQAAAL0AAADfAAAAhwAAAHUAAAAdAAAAhQAAAGkAAABUAAAA7QAAAC8AAABnAAAAHAAAAAoAAAA3AAAAXQAAAMIBAABRAAAAXQAAAHIAAAC5AAAAEQAAAJQAAAA/AAAANwAAAAEAAAAyAAAAJAAAAHEAAAAKAAAAEQAAAE8AAAB0AAAAuAAAAHQAAABFAAAAAQAAAA8AAABdAAAAcgAAAAEAAAABAAAAAQAAAAEAAACRAAAABQAAAD8AAAA6AAAAxAAAAE0BAADhAQAAYwEAAG0BAABgAQAA2QAAAPIAAABRAQAAEwEAAEEAAABXAAAAxgAAADEAAAC2AAAAVgAAAEgAAACNAAAAfgAAAF4AAACdAAAAhgAAALYAAAC+AAAAKAAAADsAAAA+AAAAnQAAAHwAAAABAAAAGAAAAAwAAAANAAAAAQAAAAEAAAABAAAAAQAAAAEAAAABAAAAAQAAAAEAAAABAAAAAQAAAAEAAAABAAAASQAAABgAAAAyAAAATAAAACwAAAAsAAAAPwAAAH8AAAB8AAAAMQAAAH4AAABDAAAAtwAAAA8AAACQAAAAtwAAALcAAACIAAAAfgAAABcAAAAqAAAApAEAAGQAAABoAQAAeQAAAP0AAABKAQAAmwAAAAMBAABHAQAAXQAAAO4AAACfAAAA9QAAAN0AAABFAAAAPwAAAHcAAABeAAAABgAAAFIBAACyAQAAxgAAAM4AAADGAQAAmAAAAOkAAAA3AQAAawEAAGcBAAAtAQAA3gAAAD0AAACdAQAAvAAAANMBAAD/AAAADQEAAKwAAADGAQAAawEAACYBAAAtAAAAywAAAL0AAAD1AAAA8gAAALsAAABsAAAAQAAAAH0AAAD1AAAAnQAAAB0BAAClAAAAnwAAAKkAAAC/AAAAogAAANQAAABaAAAAfQAAAK8AAACfAAAAaQAAAOUAAAAoAAAAqAAAAIoAAADqAAAAEAEAAFMAAADNAAAAAgEAAC4AAABdAAAARQAAAJ4AAABHAAAAmwAAAIsAAABCAAAAcAAAAOoAAABtAAAA0AAAANgAAACBAAAASgAAAA0BAAB7AAAADAAAAGEAAAC/AAAAqgAAALIAAABGAAAAjgAAAHUAAABFAAAAGwAAAHEAAABtAAAAPwAAAKUAAACMAAAAJwEAAM4AAADLAAAAcQAAAIQAAACwAAAAjQAAAJAAAACMAAAAKAEAAH0AAABVAAAAtAAAAIUAAAA7AQAAZgAAAIwAAABzAAAArwAAAKMAAABEAAAAAQAAAAEAAABAAAAADAAAACAAAAAWAAAARQAAABIAAAADAgAAEgAAAB0AAAA6AAAAAQAAAA4AAABnAAAAZQAAAIMAAACNAAAADgAAAE4AAAA6AAAAXQAAAJ8AAAAUAAAATwAAAEsAAABlAAAAtgAAAHYAAABSAQAAAQAAAAEAAAABAAAA3QAAAFEBAAAfAAAAEwAAAFcAAACIAAAASgAAAB8AAAAhAAAAAwEAAMQBAABdAQAAtAEAAPAAAAC3AQAA/AAAAIsAAACnAQAA0wAAAIMBAAAUAQAAXgAAAF0AAABFAAAAhgAAALYAAAAFAQAAhAAAAJ0AAAB+AAAAXwAAALUAAAC8AAAAawAAAHoAAAA0AAAANAAAAHYAAABPAAAACAAAAIwAAADdAAAAPgAAABIAAAAEAAAAYAAAAM4AAAD3AAAAhQAAAAoAAACtAAAAKgAAAAYAAACPAAAAPgAAAEgAAAAhAAAAUwAAAHUAAABbAAAAbAAAAJcAAABYAAAAZQAAAB0AAAArAAAArQAAADgAAAC5AAAAaQAAAIYAAABlAAAAIgAAAI8AAAAyAAAATgAAACIAAABLAAAAGwAAADgAAACQAAAAJAAAAMQAAAA7AAAAAQAAAHAAAACnAAAAIwAAACYAAAAgAAAAJQAAACkAAAAmAAAAFwAAABwAAAAiAAAALAAAAB4AAAAjAAAAMgAAACwAAAAhAAAAKwAAACcAAABBAAAAJAAAAEkAAAAXAAAAGwAAACQAAAAeAAAAJgAAACYAAAAdAAAAIAAAACAAAAAaAAAANAAAACwAAACMAAAAZAAAAD0AAABtAAAAVAAAADkAAABRAAAAaAAAAJIAAABKAAAASgAAAEoAAABKAAAAiQAAAIQAAABrAAAAAgAAALIAAACJAQAAWgAAAGkAAAD6AAAAIQEAAIMAAABaAAAAWgAAAKgAAAChAQAAWgAAAB4BAAAxAAAAbwAAANAAAABMAQAASAAAAE4AAABxAAAA6QAAAIAAAACwAAAAoAAAAFcBAAB9AAAA+AAAAE8BAAAGAQAA0AAAAAQBAAArAAAAKQAAANsAAAD5AAAAtgAAAJoAAAC4AAAAjAAAAEMAAAClAAAAzwAAAFwAAAACAQAAmwAAAIsAAADVAAAAvgAAAKoAAADhAAAAXAAAAKsAAAAYAQAAzAAAAGQAAACxAAAAfAAAAFcAAAC2AAAAAgEAAG4AAACgAAAAYwAAAIcAAABgAAAAhgAAALYAAAB3AAAAdQAAAKwAAABqAAAABwEAAKgAAACSAAAAjwAAAJMAAACLAAAAXgAAAIkAAACvAAAAugAAAMsAAAB9AAAABgEAAJcAAABFAAAAMwAAALQAAACaAAAAdAAAAHsAAAApAAAAPAAAAEkAAABiAAAAoAAAALQAAABSAAAAHQAAAKwAAAB+AAAApQAAAA0AAABkAAAAUAEAAJMAAAA/AQAAjAEAAEoBAADwAAAAhAAAAGAAAADoAAAAOQEAAE8AAABRAAAAkwAAAOwAAAD3AAAAdwEAAJUAAABdAQAAMQAAAKQAAADGAAAAfgAAAAABAAAAAQAAIwEAAEYAAACEAAAA8wAAAFUBAADmAAAAzwAAAE8AAADyAAAAhgAAAK8AAABmAAAAogAAAJ8AAACmAAAAkQAAANsAAAAxAAAAvAAAAAYAAAB7AAAAVAAAAJgAAADAAAAAVwAAAHIAAACzAAAAZwAAAAwAAADPAAAAfwAAAN0AAACiAAAApwAAAGgAAAC2AAAAywAAAMsAAABDAQAAIQAAAFYAAAAlAAAA0gAAAIUAAAB3AAAApgAAAAEAAABvAAAAsQEAAL4AAACiAAAAcwAAAIcAAACFAAAAogAAAIcAAACuAAAArQAAALYAAACeAAAAswAAAF4AAACAAAAAeQAAAKsAAABMAAAALAAAACwAAAA/AAAAoAAAAKMAAAAVAAAApQAAAKAAAABqAAAA+AAAAEIBAACGAQAA6QAAAJkBAACwAAAAcAAAAIkAAADZAAAAnwAAAJAAAAB4AAAAhgAAAEgAAAB1AAAAJgEAAF4AAAAeAQAAFQEAAHkAAABlAAAAegEAALUAAAC6AAAAUQAAAJUBAAAsAAAAaAEAAIEBAAByAQAA7AEAAJQAAABzAAAAzgAAAFcAAABXAAAAjwAAAGAAAADvAAAAlQAAAJQAAADzAAAA6QAAAOwAAAD3AAAAbQEAAPYAAADTAAAAKQAAAJQBAABfAQAAnQAAAIYBAAD9AAAAyQAAAGAAAAD9AAAAaAAAAMQAAADHAAAAhgAAAEgAAADYAAAA9QAAABQBAACsAAAA+gAAAJoAAADTAAAAsAAAAPwAAAAXAQAAkwAAAKgAAAC4AAAAYAAAAAIBAACnAAAA0gAAAAYBAADzAAAAWwAAAOYAAADMAAAAeQAAAGEAAAD/AAAAiwAAAE0AAAB/AAAAZwAAAD0AAACfAAAAxQAAAMgAAADaAAAAJQEAAHcAAAAkAAAATAAAAIcAAAB6AAAAkwAAAKEAAADPAAAALAEAAPcAAAAMAQAANgAAAA8AAACeAAAAAwAAAEIBAADkAAAAlQAAADIAAACFAAAAHQAAAA4AAABgAAAAAQAAABQAAABMAAAALAAAACwAAAB/AAAAPwAAAHwAAABDAAAAfgAAADEAAAC3AAAADwAAAJAAAAC3AAAAtwAAAIAAAAANAAAAMQAAAAYAAAC2AAAACQAAAMQAAAC6AQAAWgEAACUBAACbAQAAsgEAAH0BAAABAAAADgAAAAwBAAA4AAAACwAAADsAAAAUAAAASQAAANYAAAAMAAAAJAAAAA8AAAAhAAAAHQAAAC4BAAANAAAADQAAAAkAAAATAAAAVwAAAJkAAABFAAAAEgAAAIIBAACfAQAApAEAAIYBAADSAQAA",
          "dtype": "u4"
         },
         "y0": " ",
         "yaxis": "y"
        },
        {
         "alignmentgroup": "True",
         "boxpoints": "outliers",
         "hovertemplate": "Catégorie d'engagement=%{x}<br>Longueur du texte (mots)=%{y}<extra></extra>",
         "legendgroup": "Fort",
         "marker": {
          "color": "#EF553B"
         },
         "name": "Fort",
         "notched": false,
         "offsetgroup": "Fort",
         "orientation": "v",
         "showlegend": true,
         "type": "box",
         "x": [
          "Fort",
          "Fort",
          "Fort",
          "Fort",
          "Fort",
          "Fort",
          "Fort",
          "Fort",
          "Fort",
          "Fort",
          "Fort",
          "Fort",
          "Fort",
          "Fort",
          "Fort",
          "Fort",
          "Fort",
          "Fort",
          "Fort",
          "Fort",
          "Fort",
          "Fort",
          "Fort",
          "Fort",
          "Fort",
          "Fort",
          "Fort",
          "Fort",
          "Fort",
          "Fort",
          "Fort",
          "Fort",
          "Fort",
          "Fort",
          "Fort",
          "Fort",
          "Fort",
          "Fort",
          "Fort",
          "Fort",
          "Fort",
          "Fort",
          "Fort",
          "Fort",
          "Fort",
          "Fort",
          "Fort",
          "Fort",
          "Fort",
          "Fort",
          "Fort",
          "Fort",
          "Fort",
          "Fort",
          "Fort",
          "Fort",
          "Fort",
          "Fort",
          "Fort",
          "Fort",
          "Fort",
          "Fort",
          "Fort",
          "Fort",
          "Fort",
          "Fort",
          "Fort",
          "Fort",
          "Fort",
          "Fort",
          "Fort",
          "Fort",
          "Fort",
          "Fort",
          "Fort",
          "Fort",
          "Fort",
          "Fort",
          "Fort",
          "Fort",
          "Fort",
          "Fort",
          "Fort",
          "Fort",
          "Fort",
          "Fort",
          "Fort",
          "Fort",
          "Fort",
          "Fort",
          "Fort",
          "Fort",
          "Fort",
          "Fort",
          "Fort",
          "Fort",
          "Fort",
          "Fort",
          "Fort",
          "Fort",
          "Fort",
          "Fort",
          "Fort",
          "Fort",
          "Fort",
          "Fort",
          "Fort",
          "Fort",
          "Fort",
          "Fort",
          "Fort",
          "Fort",
          "Fort",
          "Fort",
          "Fort",
          "Fort",
          "Fort",
          "Fort",
          "Fort",
          "Fort",
          "Fort",
          "Fort",
          "Fort",
          "Fort",
          "Fort",
          "Fort",
          "Fort",
          "Fort",
          "Fort",
          "Fort",
          "Fort",
          "Fort",
          "Fort",
          "Fort",
          "Fort",
          "Fort",
          "Fort",
          "Fort",
          "Fort",
          "Fort",
          "Fort",
          "Fort",
          "Fort",
          "Fort",
          "Fort",
          "Fort",
          "Fort",
          "Fort",
          "Fort",
          "Fort",
          "Fort",
          "Fort",
          "Fort",
          "Fort",
          "Fort",
          "Fort",
          "Fort",
          "Fort",
          "Fort",
          "Fort",
          "Fort",
          "Fort",
          "Fort",
          "Fort",
          "Fort",
          "Fort",
          "Fort",
          "Fort",
          "Fort",
          "Fort",
          "Fort",
          "Fort",
          "Fort",
          "Fort",
          "Fort",
          "Fort",
          "Fort",
          "Fort",
          "Fort",
          "Fort",
          "Fort",
          "Fort",
          "Fort",
          "Fort",
          "Fort",
          "Fort"
         ],
         "x0": " ",
         "xaxis": "x",
         "y": {
          "bdata": "pwAAAHkAAADuAAAAAwEAAM0AAADkAAAAwgAAAE4BAAAtAAAAiwEAAL0BAAAlAQAAOgEAALYBAAD7AAAA6QAAADQBAADrAQAAyQEAAHkAAADpAAAAkAAAAMsAAAA8AQAAvQAAAAMBAAB5AQAAZwAAAKoAAABpAAAATQAAAHUAAACxAAAAjAAAALUAAACLAQAAuwEAAAcCAACeAQAAqQEAAJ0BAADqAAAAKAEAAEMBAAB+AQAAmgEAAOsAAAAzAQAAqQAAACQBAACMAAAAJwEAAMoAAAAbAQAA/QAAAFcBAADiAAAAZAEAANEAAAD6AAAAswAAAPgAAAAPAQAArQEAALYAAADGAAAAjwAAANkBAAAqAQAA7QAAADwBAAANAQAAGwEAAMEAAADfAAAA1QAAAOkAAADBAAAALQEAAFsAAACHAAAAjAAAAIQAAABDAAAAXAAAABcAAABLAAAAdwAAAGcAAACNAAAAtQAAAJcAAACwAAAACgEAABMBAACgAAAAYgAAADoAAADpAAAAlwEAADgBAAALAQAAHwEAAOMAAACmAAAALgEAAE0AAAAsAQAAegEAAJcAAABSAAAANQEAAHUBAAAPAAAATQEAABMBAAAVAQAAewAAAPIAAADKAAAA+wAAACABAACEAAAA+AAAAJYAAABsAAAALQAAAHUBAADeAAAAPQEAAOgAAAA7AAAAIAEAAC8AAABsAAAATAAAANsAAAAjAQAAkQAAAIsAAABeAAAAvwAAAHEAAACGAAAAwAAAAD0AAADUAAAAtgAAAL8AAAA9AAAAZgAAALoAAADmAAAAgQAAAIEAAAAAAQAA9wAAAN4AAAC8AAAAXgAAAFcAAABmAAAAlAAAAFIAAAB5AAAAnAAAAFQAAACMAAAA0QAAAE4AAADCAAAA8AAAAMMAAACtAAAAIgEAAHwAAAByAAAAIwEAAG8AAAAMAgAAnQAAAEkAAACNAQAA4AAAAK4AAABJAAAA",
          "dtype": "u4"
         },
         "y0": " ",
         "yaxis": "y"
        }
       ],
       "layout": {
        "boxmode": "overlay",
        "legend": {
         "title": {
          "text": "Catégorie d'engagement"
         },
         "tracegroupgap": 0
        },
        "template": {
         "data": {
          "bar": [
           {
            "error_x": {
             "color": "#2a3f5f"
            },
            "error_y": {
             "color": "#2a3f5f"
            },
            "marker": {
             "line": {
              "color": "#E5ECF6",
              "width": 0.5
             },
             "pattern": {
              "fillmode": "overlay",
              "size": 10,
              "solidity": 0.2
             }
            },
            "type": "bar"
           }
          ],
          "barpolar": [
           {
            "marker": {
             "line": {
              "color": "#E5ECF6",
              "width": 0.5
             },
             "pattern": {
              "fillmode": "overlay",
              "size": 10,
              "solidity": 0.2
             }
            },
            "type": "barpolar"
           }
          ],
          "carpet": [
           {
            "aaxis": {
             "endlinecolor": "#2a3f5f",
             "gridcolor": "white",
             "linecolor": "white",
             "minorgridcolor": "white",
             "startlinecolor": "#2a3f5f"
            },
            "baxis": {
             "endlinecolor": "#2a3f5f",
             "gridcolor": "white",
             "linecolor": "white",
             "minorgridcolor": "white",
             "startlinecolor": "#2a3f5f"
            },
            "type": "carpet"
           }
          ],
          "choropleth": [
           {
            "colorbar": {
             "outlinewidth": 0,
             "ticks": ""
            },
            "type": "choropleth"
           }
          ],
          "contour": [
           {
            "colorbar": {
             "outlinewidth": 0,
             "ticks": ""
            },
            "colorscale": [
             [
              0,
              "#0d0887"
             ],
             [
              0.1111111111111111,
              "#46039f"
             ],
             [
              0.2222222222222222,
              "#7201a8"
             ],
             [
              0.3333333333333333,
              "#9c179e"
             ],
             [
              0.4444444444444444,
              "#bd3786"
             ],
             [
              0.5555555555555556,
              "#d8576b"
             ],
             [
              0.6666666666666666,
              "#ed7953"
             ],
             [
              0.7777777777777778,
              "#fb9f3a"
             ],
             [
              0.8888888888888888,
              "#fdca26"
             ],
             [
              1,
              "#f0f921"
             ]
            ],
            "type": "contour"
           }
          ],
          "contourcarpet": [
           {
            "colorbar": {
             "outlinewidth": 0,
             "ticks": ""
            },
            "type": "contourcarpet"
           }
          ],
          "heatmap": [
           {
            "colorbar": {
             "outlinewidth": 0,
             "ticks": ""
            },
            "colorscale": [
             [
              0,
              "#0d0887"
             ],
             [
              0.1111111111111111,
              "#46039f"
             ],
             [
              0.2222222222222222,
              "#7201a8"
             ],
             [
              0.3333333333333333,
              "#9c179e"
             ],
             [
              0.4444444444444444,
              "#bd3786"
             ],
             [
              0.5555555555555556,
              "#d8576b"
             ],
             [
              0.6666666666666666,
              "#ed7953"
             ],
             [
              0.7777777777777778,
              "#fb9f3a"
             ],
             [
              0.8888888888888888,
              "#fdca26"
             ],
             [
              1,
              "#f0f921"
             ]
            ],
            "type": "heatmap"
           }
          ],
          "histogram": [
           {
            "marker": {
             "pattern": {
              "fillmode": "overlay",
              "size": 10,
              "solidity": 0.2
             }
            },
            "type": "histogram"
           }
          ],
          "histogram2d": [
           {
            "colorbar": {
             "outlinewidth": 0,
             "ticks": ""
            },
            "colorscale": [
             [
              0,
              "#0d0887"
             ],
             [
              0.1111111111111111,
              "#46039f"
             ],
             [
              0.2222222222222222,
              "#7201a8"
             ],
             [
              0.3333333333333333,
              "#9c179e"
             ],
             [
              0.4444444444444444,
              "#bd3786"
             ],
             [
              0.5555555555555556,
              "#d8576b"
             ],
             [
              0.6666666666666666,
              "#ed7953"
             ],
             [
              0.7777777777777778,
              "#fb9f3a"
             ],
             [
              0.8888888888888888,
              "#fdca26"
             ],
             [
              1,
              "#f0f921"
             ]
            ],
            "type": "histogram2d"
           }
          ],
          "histogram2dcontour": [
           {
            "colorbar": {
             "outlinewidth": 0,
             "ticks": ""
            },
            "colorscale": [
             [
              0,
              "#0d0887"
             ],
             [
              0.1111111111111111,
              "#46039f"
             ],
             [
              0.2222222222222222,
              "#7201a8"
             ],
             [
              0.3333333333333333,
              "#9c179e"
             ],
             [
              0.4444444444444444,
              "#bd3786"
             ],
             [
              0.5555555555555556,
              "#d8576b"
             ],
             [
              0.6666666666666666,
              "#ed7953"
             ],
             [
              0.7777777777777778,
              "#fb9f3a"
             ],
             [
              0.8888888888888888,
              "#fdca26"
             ],
             [
              1,
              "#f0f921"
             ]
            ],
            "type": "histogram2dcontour"
           }
          ],
          "mesh3d": [
           {
            "colorbar": {
             "outlinewidth": 0,
             "ticks": ""
            },
            "type": "mesh3d"
           }
          ],
          "parcoords": [
           {
            "line": {
             "colorbar": {
              "outlinewidth": 0,
              "ticks": ""
             }
            },
            "type": "parcoords"
           }
          ],
          "pie": [
           {
            "automargin": true,
            "type": "pie"
           }
          ],
          "scatter": [
           {
            "fillpattern": {
             "fillmode": "overlay",
             "size": 10,
             "solidity": 0.2
            },
            "type": "scatter"
           }
          ],
          "scatter3d": [
           {
            "line": {
             "colorbar": {
              "outlinewidth": 0,
              "ticks": ""
             }
            },
            "marker": {
             "colorbar": {
              "outlinewidth": 0,
              "ticks": ""
             }
            },
            "type": "scatter3d"
           }
          ],
          "scattercarpet": [
           {
            "marker": {
             "colorbar": {
              "outlinewidth": 0,
              "ticks": ""
             }
            },
            "type": "scattercarpet"
           }
          ],
          "scattergeo": [
           {
            "marker": {
             "colorbar": {
              "outlinewidth": 0,
              "ticks": ""
             }
            },
            "type": "scattergeo"
           }
          ],
          "scattergl": [
           {
            "marker": {
             "colorbar": {
              "outlinewidth": 0,
              "ticks": ""
             }
            },
            "type": "scattergl"
           }
          ],
          "scattermap": [
           {
            "marker": {
             "colorbar": {
              "outlinewidth": 0,
              "ticks": ""
             }
            },
            "type": "scattermap"
           }
          ],
          "scattermapbox": [
           {
            "marker": {
             "colorbar": {
              "outlinewidth": 0,
              "ticks": ""
             }
            },
            "type": "scattermapbox"
           }
          ],
          "scatterpolar": [
           {
            "marker": {
             "colorbar": {
              "outlinewidth": 0,
              "ticks": ""
             }
            },
            "type": "scatterpolar"
           }
          ],
          "scatterpolargl": [
           {
            "marker": {
             "colorbar": {
              "outlinewidth": 0,
              "ticks": ""
             }
            },
            "type": "scatterpolargl"
           }
          ],
          "scatterternary": [
           {
            "marker": {
             "colorbar": {
              "outlinewidth": 0,
              "ticks": ""
             }
            },
            "type": "scatterternary"
           }
          ],
          "surface": [
           {
            "colorbar": {
             "outlinewidth": 0,
             "ticks": ""
            },
            "colorscale": [
             [
              0,
              "#0d0887"
             ],
             [
              0.1111111111111111,
              "#46039f"
             ],
             [
              0.2222222222222222,
              "#7201a8"
             ],
             [
              0.3333333333333333,
              "#9c179e"
             ],
             [
              0.4444444444444444,
              "#bd3786"
             ],
             [
              0.5555555555555556,
              "#d8576b"
             ],
             [
              0.6666666666666666,
              "#ed7953"
             ],
             [
              0.7777777777777778,
              "#fb9f3a"
             ],
             [
              0.8888888888888888,
              "#fdca26"
             ],
             [
              1,
              "#f0f921"
             ]
            ],
            "type": "surface"
           }
          ],
          "table": [
           {
            "cells": {
             "fill": {
              "color": "#EBF0F8"
             },
             "line": {
              "color": "white"
             }
            },
            "header": {
             "fill": {
              "color": "#C8D4E3"
             },
             "line": {
              "color": "white"
             }
            },
            "type": "table"
           }
          ]
         },
         "layout": {
          "annotationdefaults": {
           "arrowcolor": "#2a3f5f",
           "arrowhead": 0,
           "arrowwidth": 1
          },
          "autotypenumbers": "strict",
          "coloraxis": {
           "colorbar": {
            "outlinewidth": 0,
            "ticks": ""
           }
          },
          "colorscale": {
           "diverging": [
            [
             0,
             "#8e0152"
            ],
            [
             0.1,
             "#c51b7d"
            ],
            [
             0.2,
             "#de77ae"
            ],
            [
             0.3,
             "#f1b6da"
            ],
            [
             0.4,
             "#fde0ef"
            ],
            [
             0.5,
             "#f7f7f7"
            ],
            [
             0.6,
             "#e6f5d0"
            ],
            [
             0.7,
             "#b8e186"
            ],
            [
             0.8,
             "#7fbc41"
            ],
            [
             0.9,
             "#4d9221"
            ],
            [
             1,
             "#276419"
            ]
           ],
           "sequential": [
            [
             0,
             "#0d0887"
            ],
            [
             0.1111111111111111,
             "#46039f"
            ],
            [
             0.2222222222222222,
             "#7201a8"
            ],
            [
             0.3333333333333333,
             "#9c179e"
            ],
            [
             0.4444444444444444,
             "#bd3786"
            ],
            [
             0.5555555555555556,
             "#d8576b"
            ],
            [
             0.6666666666666666,
             "#ed7953"
            ],
            [
             0.7777777777777778,
             "#fb9f3a"
            ],
            [
             0.8888888888888888,
             "#fdca26"
            ],
            [
             1,
             "#f0f921"
            ]
           ],
           "sequentialminus": [
            [
             0,
             "#0d0887"
            ],
            [
             0.1111111111111111,
             "#46039f"
            ],
            [
             0.2222222222222222,
             "#7201a8"
            ],
            [
             0.3333333333333333,
             "#9c179e"
            ],
            [
             0.4444444444444444,
             "#bd3786"
            ],
            [
             0.5555555555555556,
             "#d8576b"
            ],
            [
             0.6666666666666666,
             "#ed7953"
            ],
            [
             0.7777777777777778,
             "#fb9f3a"
            ],
            [
             0.8888888888888888,
             "#fdca26"
            ],
            [
             1,
             "#f0f921"
            ]
           ]
          },
          "colorway": [
           "#636efa",
           "#EF553B",
           "#00cc96",
           "#ab63fa",
           "#FFA15A",
           "#19d3f3",
           "#FF6692",
           "#B6E880",
           "#FF97FF",
           "#FECB52"
          ],
          "font": {
           "color": "#2a3f5f"
          },
          "geo": {
           "bgcolor": "white",
           "lakecolor": "white",
           "landcolor": "#E5ECF6",
           "showlakes": true,
           "showland": true,
           "subunitcolor": "white"
          },
          "hoverlabel": {
           "align": "left"
          },
          "hovermode": "closest",
          "mapbox": {
           "style": "light"
          },
          "paper_bgcolor": "white",
          "plot_bgcolor": "#E5ECF6",
          "polar": {
           "angularaxis": {
            "gridcolor": "white",
            "linecolor": "white",
            "ticks": ""
           },
           "bgcolor": "#E5ECF6",
           "radialaxis": {
            "gridcolor": "white",
            "linecolor": "white",
            "ticks": ""
           }
          },
          "scene": {
           "xaxis": {
            "backgroundcolor": "#E5ECF6",
            "gridcolor": "white",
            "gridwidth": 2,
            "linecolor": "white",
            "showbackground": true,
            "ticks": "",
            "zerolinecolor": "white"
           },
           "yaxis": {
            "backgroundcolor": "#E5ECF6",
            "gridcolor": "white",
            "gridwidth": 2,
            "linecolor": "white",
            "showbackground": true,
            "ticks": "",
            "zerolinecolor": "white"
           },
           "zaxis": {
            "backgroundcolor": "#E5ECF6",
            "gridcolor": "white",
            "gridwidth": 2,
            "linecolor": "white",
            "showbackground": true,
            "ticks": "",
            "zerolinecolor": "white"
           }
          },
          "shapedefaults": {
           "line": {
            "color": "#2a3f5f"
           }
          },
          "ternary": {
           "aaxis": {
            "gridcolor": "white",
            "linecolor": "white",
            "ticks": ""
           },
           "baxis": {
            "gridcolor": "white",
            "linecolor": "white",
            "ticks": ""
           },
           "bgcolor": "#E5ECF6",
           "caxis": {
            "gridcolor": "white",
            "linecolor": "white",
            "ticks": ""
           }
          },
          "title": {
           "x": 0.05
          },
          "xaxis": {
           "automargin": true,
           "gridcolor": "white",
           "linecolor": "white",
           "ticks": "",
           "title": {
            "standoff": 15
           },
           "zerolinecolor": "white",
           "zerolinewidth": 2
          },
          "yaxis": {
           "automargin": true,
           "gridcolor": "white",
           "linecolor": "white",
           "ticks": "",
           "title": {
            "standoff": 15
           },
           "zerolinecolor": "white",
           "zerolinewidth": 2
          }
         }
        },
        "title": {
         "text": "Longueur du texte par catégorie d'engagement"
        },
        "xaxis": {
         "anchor": "y",
         "categoryarray": [
          "Faible",
          "Fort"
         ],
         "categoryorder": "array",
         "domain": [
          0,
          1
         ],
         "title": {
          "text": "Catégorie d'engagement"
         }
        },
        "yaxis": {
         "anchor": "x",
         "domain": [
          0,
          1
         ],
         "title": {
          "text": "Longueur du texte (mots)"
         }
        }
       }
      }
     },
     "metadata": {},
     "output_type": "display_data"
    }
   ],
   "source": [
    "# Créer un graphique Plotly (boîte à moustaches)\n",
    "fig = px.box(\n",
    "    df_engagement.to_pandas(),\n",
    "    x=\"engagement_category\",\n",
    "    y=\"text_length\",\n",
    "    color=\"engagement_category\",\n",
    "    title=\"Longueur du texte par catégorie d'engagement\",\n",
    "    labels={\"text_length\": \"Longueur du texte (mots)\", \"engagement_category\": \"Catégorie d'engagement\"},\n",
    "    points=\"outliers\"\n",
    ")\n",
    "fig.show()"
   ]
  },
  {
   "cell_type": "code",
   "execution_count": 200,
   "id": "b39e333b",
   "metadata": {},
   "outputs": [
    {
     "data": {
      "application/vnd.plotly.v1+json": {
       "config": {
        "plotlyServerURL": "https://plot.ly"
       },
       "data": [
        {
         "hovertemplate": "followers=%{x}<br>likes=%{y}<extra></extra>",
         "legendgroup": "",
         "marker": {
          "color": "#636efa",
          "symbol": "circle"
         },
         "mode": "markers",
         "name": "",
         "orientation": "v",
         "showlegend": false,
         "type": "scatter",
         "x": {
          "bdata": "oHMAAAAAAADdNQAAAAAAAAAAAAAAAAAAAAAAAAAAAAAAAAAAAAAAAAAAAAAAAAAAAAAAAAAAAAAAAAAAAAAAAAAAAAAAAAAAAAAAAAAAAAAAAAAAAAAAAAAAAAAAAAAAAAAAAAAAAAAAAAAAAAAAAAAAAAAAAAAAAAAAAAAAAAAAAAAAAAAAAAAAAAAAAAAAAAAAAAAAAAAAAAAAAAAAAAAAAAAAAAAAJyoAAAAAAAAAAAAAAAAAAAAAAAAAAAAAAAAAAAAAAAAAAAAAAAAAAAAAAAAAAAAAAAAAAAAAAACVMQAAAAAAAAAAAAAAAAAAAAAAAAAAAAAAAAAAAAAAAAAAAAAAAAAAAAAAAAAAAAAAAAAAAAAAAAAAAAAAAAAAAAAAAAAAAAAAAAAAAAAAAAAAAAAAAAAAAAAAAAAAAAAAAAAAAAAAAAAAAAAAAAAAAAAAAAAAAAAAAAAAAAAAAAAAAAAAAAAAAAAAAAAAAAAAAAAAAAAAAAAAAAAAAAAAAAAAAAAAAAAAAAAAAAAAAAAAAAAAAAAAAAAAAAAAAAAAAAAAAAAAAAAAAABbAAAAKwAAADUAAAAxAAAACQAAAB4AAABGAAAACwAAAB0AAABVAAAABwAAAEMAAAAjAAAAJAAAAGQAAABFAAAAUAAAAEUAAABLAAAAIgAAABoAAAAcAAAAUQAAACQAAAAvAAAAOAAAAAUAAABcAAAAKQAAABIAAABDAAAAEAAAAC0AAABKAAAANAAAACsAAABUAAAAJQAAACIAAABYAAAAVgAAABQAAAAnAAAABwAAACoAAAA/AAAAMwAAAFwAAAArAAAAQAAAAFMAAAAFAAAAFAAAAEsAAAA5AAAACQAAACYAAAAiAAAAJwAAAC4AAAAYAAAATwAAAB0AAABGAAAAHgAAAB0AAAAoAAAAYAAAAAUAAAAsAAAAmmsBAKtfAAC+JAAA5wUAABoKAADZHwEApAgBABXxCAAaCgAA",
          "dtype": "i4"
         },
         "xaxis": "x",
         "y": {
          "bdata": "XAAXAZIAkQCJAOoAngCKAP4C4gEkAWwAWACdAAwB8ACpAIsAhgB1AJYAjABcAPMAQgOXAOMASgCXAAEBxwC8AAIB0ACWAPwBOgNwALQAxQCXAIEAGQGEAKEA8wDNAFYBrACSAXsAxQC4AMMApABAAooAwQFyALwAlACGALUAfgBkAOEA/AA3ApgBaQARAZcAawCRALIAuABjAHgAFQJxAMoAdACzALoA0wCTANgAlAAPAZoBDgGsAIcApQAbAV8AOgGAADkBagDCAC4BcAG/AL4AvADXAG4ArABYAGYArwBlAEgAWwCNAEQAYAA3AGMAVABzAPgAVACgAFAAbgFvAGUAhwDCAJ8AjgCAAFsARQA6AFwARwBLAFAAXgBqAK0ARAB7AJQAEwFJAGIAngBmAUMAgwCiAJwATABqAGMAfQBOAEwAQgBmADoADwF9AGwAewAYAXkAiQFZAGUA8wCGAEgAMAJyAIEAfwDJAJ8C6gCkAcoA",
          "dtype": "i2"
         },
         "yaxis": "y"
        }
       ],
       "layout": {
        "legend": {
         "tracegroupgap": 0
        },
        "template": {
         "data": {
          "bar": [
           {
            "error_x": {
             "color": "#2a3f5f"
            },
            "error_y": {
             "color": "#2a3f5f"
            },
            "marker": {
             "line": {
              "color": "#E5ECF6",
              "width": 0.5
             },
             "pattern": {
              "fillmode": "overlay",
              "size": 10,
              "solidity": 0.2
             }
            },
            "type": "bar"
           }
          ],
          "barpolar": [
           {
            "marker": {
             "line": {
              "color": "#E5ECF6",
              "width": 0.5
             },
             "pattern": {
              "fillmode": "overlay",
              "size": 10,
              "solidity": 0.2
             }
            },
            "type": "barpolar"
           }
          ],
          "carpet": [
           {
            "aaxis": {
             "endlinecolor": "#2a3f5f",
             "gridcolor": "white",
             "linecolor": "white",
             "minorgridcolor": "white",
             "startlinecolor": "#2a3f5f"
            },
            "baxis": {
             "endlinecolor": "#2a3f5f",
             "gridcolor": "white",
             "linecolor": "white",
             "minorgridcolor": "white",
             "startlinecolor": "#2a3f5f"
            },
            "type": "carpet"
           }
          ],
          "choropleth": [
           {
            "colorbar": {
             "outlinewidth": 0,
             "ticks": ""
            },
            "type": "choropleth"
           }
          ],
          "contour": [
           {
            "colorbar": {
             "outlinewidth": 0,
             "ticks": ""
            },
            "colorscale": [
             [
              0,
              "#0d0887"
             ],
             [
              0.1111111111111111,
              "#46039f"
             ],
             [
              0.2222222222222222,
              "#7201a8"
             ],
             [
              0.3333333333333333,
              "#9c179e"
             ],
             [
              0.4444444444444444,
              "#bd3786"
             ],
             [
              0.5555555555555556,
              "#d8576b"
             ],
             [
              0.6666666666666666,
              "#ed7953"
             ],
             [
              0.7777777777777778,
              "#fb9f3a"
             ],
             [
              0.8888888888888888,
              "#fdca26"
             ],
             [
              1,
              "#f0f921"
             ]
            ],
            "type": "contour"
           }
          ],
          "contourcarpet": [
           {
            "colorbar": {
             "outlinewidth": 0,
             "ticks": ""
            },
            "type": "contourcarpet"
           }
          ],
          "heatmap": [
           {
            "colorbar": {
             "outlinewidth": 0,
             "ticks": ""
            },
            "colorscale": [
             [
              0,
              "#0d0887"
             ],
             [
              0.1111111111111111,
              "#46039f"
             ],
             [
              0.2222222222222222,
              "#7201a8"
             ],
             [
              0.3333333333333333,
              "#9c179e"
             ],
             [
              0.4444444444444444,
              "#bd3786"
             ],
             [
              0.5555555555555556,
              "#d8576b"
             ],
             [
              0.6666666666666666,
              "#ed7953"
             ],
             [
              0.7777777777777778,
              "#fb9f3a"
             ],
             [
              0.8888888888888888,
              "#fdca26"
             ],
             [
              1,
              "#f0f921"
             ]
            ],
            "type": "heatmap"
           }
          ],
          "histogram": [
           {
            "marker": {
             "pattern": {
              "fillmode": "overlay",
              "size": 10,
              "solidity": 0.2
             }
            },
            "type": "histogram"
           }
          ],
          "histogram2d": [
           {
            "colorbar": {
             "outlinewidth": 0,
             "ticks": ""
            },
            "colorscale": [
             [
              0,
              "#0d0887"
             ],
             [
              0.1111111111111111,
              "#46039f"
             ],
             [
              0.2222222222222222,
              "#7201a8"
             ],
             [
              0.3333333333333333,
              "#9c179e"
             ],
             [
              0.4444444444444444,
              "#bd3786"
             ],
             [
              0.5555555555555556,
              "#d8576b"
             ],
             [
              0.6666666666666666,
              "#ed7953"
             ],
             [
              0.7777777777777778,
              "#fb9f3a"
             ],
             [
              0.8888888888888888,
              "#fdca26"
             ],
             [
              1,
              "#f0f921"
             ]
            ],
            "type": "histogram2d"
           }
          ],
          "histogram2dcontour": [
           {
            "colorbar": {
             "outlinewidth": 0,
             "ticks": ""
            },
            "colorscale": [
             [
              0,
              "#0d0887"
             ],
             [
              0.1111111111111111,
              "#46039f"
             ],
             [
              0.2222222222222222,
              "#7201a8"
             ],
             [
              0.3333333333333333,
              "#9c179e"
             ],
             [
              0.4444444444444444,
              "#bd3786"
             ],
             [
              0.5555555555555556,
              "#d8576b"
             ],
             [
              0.6666666666666666,
              "#ed7953"
             ],
             [
              0.7777777777777778,
              "#fb9f3a"
             ],
             [
              0.8888888888888888,
              "#fdca26"
             ],
             [
              1,
              "#f0f921"
             ]
            ],
            "type": "histogram2dcontour"
           }
          ],
          "mesh3d": [
           {
            "colorbar": {
             "outlinewidth": 0,
             "ticks": ""
            },
            "type": "mesh3d"
           }
          ],
          "parcoords": [
           {
            "line": {
             "colorbar": {
              "outlinewidth": 0,
              "ticks": ""
             }
            },
            "type": "parcoords"
           }
          ],
          "pie": [
           {
            "automargin": true,
            "type": "pie"
           }
          ],
          "scatter": [
           {
            "fillpattern": {
             "fillmode": "overlay",
             "size": 10,
             "solidity": 0.2
            },
            "type": "scatter"
           }
          ],
          "scatter3d": [
           {
            "line": {
             "colorbar": {
              "outlinewidth": 0,
              "ticks": ""
             }
            },
            "marker": {
             "colorbar": {
              "outlinewidth": 0,
              "ticks": ""
             }
            },
            "type": "scatter3d"
           }
          ],
          "scattercarpet": [
           {
            "marker": {
             "colorbar": {
              "outlinewidth": 0,
              "ticks": ""
             }
            },
            "type": "scattercarpet"
           }
          ],
          "scattergeo": [
           {
            "marker": {
             "colorbar": {
              "outlinewidth": 0,
              "ticks": ""
             }
            },
            "type": "scattergeo"
           }
          ],
          "scattergl": [
           {
            "marker": {
             "colorbar": {
              "outlinewidth": 0,
              "ticks": ""
             }
            },
            "type": "scattergl"
           }
          ],
          "scattermap": [
           {
            "marker": {
             "colorbar": {
              "outlinewidth": 0,
              "ticks": ""
             }
            },
            "type": "scattermap"
           }
          ],
          "scattermapbox": [
           {
            "marker": {
             "colorbar": {
              "outlinewidth": 0,
              "ticks": ""
             }
            },
            "type": "scattermapbox"
           }
          ],
          "scatterpolar": [
           {
            "marker": {
             "colorbar": {
              "outlinewidth": 0,
              "ticks": ""
             }
            },
            "type": "scatterpolar"
           }
          ],
          "scatterpolargl": [
           {
            "marker": {
             "colorbar": {
              "outlinewidth": 0,
              "ticks": ""
             }
            },
            "type": "scatterpolargl"
           }
          ],
          "scatterternary": [
           {
            "marker": {
             "colorbar": {
              "outlinewidth": 0,
              "ticks": ""
             }
            },
            "type": "scatterternary"
           }
          ],
          "surface": [
           {
            "colorbar": {
             "outlinewidth": 0,
             "ticks": ""
            },
            "colorscale": [
             [
              0,
              "#0d0887"
             ],
             [
              0.1111111111111111,
              "#46039f"
             ],
             [
              0.2222222222222222,
              "#7201a8"
             ],
             [
              0.3333333333333333,
              "#9c179e"
             ],
             [
              0.4444444444444444,
              "#bd3786"
             ],
             [
              0.5555555555555556,
              "#d8576b"
             ],
             [
              0.6666666666666666,
              "#ed7953"
             ],
             [
              0.7777777777777778,
              "#fb9f3a"
             ],
             [
              0.8888888888888888,
              "#fdca26"
             ],
             [
              1,
              "#f0f921"
             ]
            ],
            "type": "surface"
           }
          ],
          "table": [
           {
            "cells": {
             "fill": {
              "color": "#EBF0F8"
             },
             "line": {
              "color": "white"
             }
            },
            "header": {
             "fill": {
              "color": "#C8D4E3"
             },
             "line": {
              "color": "white"
             }
            },
            "type": "table"
           }
          ]
         },
         "layout": {
          "annotationdefaults": {
           "arrowcolor": "#2a3f5f",
           "arrowhead": 0,
           "arrowwidth": 1
          },
          "autotypenumbers": "strict",
          "coloraxis": {
           "colorbar": {
            "outlinewidth": 0,
            "ticks": ""
           }
          },
          "colorscale": {
           "diverging": [
            [
             0,
             "#8e0152"
            ],
            [
             0.1,
             "#c51b7d"
            ],
            [
             0.2,
             "#de77ae"
            ],
            [
             0.3,
             "#f1b6da"
            ],
            [
             0.4,
             "#fde0ef"
            ],
            [
             0.5,
             "#f7f7f7"
            ],
            [
             0.6,
             "#e6f5d0"
            ],
            [
             0.7,
             "#b8e186"
            ],
            [
             0.8,
             "#7fbc41"
            ],
            [
             0.9,
             "#4d9221"
            ],
            [
             1,
             "#276419"
            ]
           ],
           "sequential": [
            [
             0,
             "#0d0887"
            ],
            [
             0.1111111111111111,
             "#46039f"
            ],
            [
             0.2222222222222222,
             "#7201a8"
            ],
            [
             0.3333333333333333,
             "#9c179e"
            ],
            [
             0.4444444444444444,
             "#bd3786"
            ],
            [
             0.5555555555555556,
             "#d8576b"
            ],
            [
             0.6666666666666666,
             "#ed7953"
            ],
            [
             0.7777777777777778,
             "#fb9f3a"
            ],
            [
             0.8888888888888888,
             "#fdca26"
            ],
            [
             1,
             "#f0f921"
            ]
           ],
           "sequentialminus": [
            [
             0,
             "#0d0887"
            ],
            [
             0.1111111111111111,
             "#46039f"
            ],
            [
             0.2222222222222222,
             "#7201a8"
            ],
            [
             0.3333333333333333,
             "#9c179e"
            ],
            [
             0.4444444444444444,
             "#bd3786"
            ],
            [
             0.5555555555555556,
             "#d8576b"
            ],
            [
             0.6666666666666666,
             "#ed7953"
            ],
            [
             0.7777777777777778,
             "#fb9f3a"
            ],
            [
             0.8888888888888888,
             "#fdca26"
            ],
            [
             1,
             "#f0f921"
            ]
           ]
          },
          "colorway": [
           "#636efa",
           "#EF553B",
           "#00cc96",
           "#ab63fa",
           "#FFA15A",
           "#19d3f3",
           "#FF6692",
           "#B6E880",
           "#FF97FF",
           "#FECB52"
          ],
          "font": {
           "color": "#2a3f5f"
          },
          "geo": {
           "bgcolor": "white",
           "lakecolor": "white",
           "landcolor": "#E5ECF6",
           "showlakes": true,
           "showland": true,
           "subunitcolor": "white"
          },
          "hoverlabel": {
           "align": "left"
          },
          "hovermode": "closest",
          "mapbox": {
           "style": "light"
          },
          "paper_bgcolor": "white",
          "plot_bgcolor": "#E5ECF6",
          "polar": {
           "angularaxis": {
            "gridcolor": "white",
            "linecolor": "white",
            "ticks": ""
           },
           "bgcolor": "#E5ECF6",
           "radialaxis": {
            "gridcolor": "white",
            "linecolor": "white",
            "ticks": ""
           }
          },
          "scene": {
           "xaxis": {
            "backgroundcolor": "#E5ECF6",
            "gridcolor": "white",
            "gridwidth": 2,
            "linecolor": "white",
            "showbackground": true,
            "ticks": "",
            "zerolinecolor": "white"
           },
           "yaxis": {
            "backgroundcolor": "#E5ECF6",
            "gridcolor": "white",
            "gridwidth": 2,
            "linecolor": "white",
            "showbackground": true,
            "ticks": "",
            "zerolinecolor": "white"
           },
           "zaxis": {
            "backgroundcolor": "#E5ECF6",
            "gridcolor": "white",
            "gridwidth": 2,
            "linecolor": "white",
            "showbackground": true,
            "ticks": "",
            "zerolinecolor": "white"
           }
          },
          "shapedefaults": {
           "line": {
            "color": "#2a3f5f"
           }
          },
          "ternary": {
           "aaxis": {
            "gridcolor": "white",
            "linecolor": "white",
            "ticks": ""
           },
           "baxis": {
            "gridcolor": "white",
            "linecolor": "white",
            "ticks": ""
           },
           "bgcolor": "#E5ECF6",
           "caxis": {
            "gridcolor": "white",
            "linecolor": "white",
            "ticks": ""
           }
          },
          "title": {
           "x": 0.05
          },
          "xaxis": {
           "automargin": true,
           "gridcolor": "white",
           "linecolor": "white",
           "ticks": "",
           "title": {
            "standoff": 15
           },
           "zerolinecolor": "white",
           "zerolinewidth": 2
          },
          "yaxis": {
           "automargin": true,
           "gridcolor": "white",
           "linecolor": "white",
           "ticks": "",
           "title": {
            "standoff": 15
           },
           "zerolinecolor": "white",
           "zerolinewidth": 2
          }
         }
        },
        "title": {
         "text": "Engagement total en fonction de la longueur du texte (posts à fort engagement)"
        },
        "xaxis": {
         "anchor": "y",
         "domain": [
          0,
          1
         ],
         "title": {
          "text": "followers"
         }
        },
        "yaxis": {
         "anchor": "x",
         "domain": [
          0,
          1
         ],
         "title": {
          "text": "likes"
         }
        }
       }
      }
     },
     "metadata": {},
     "output_type": "display_data"
    }
   ],
   "source": [
    "# Filtrer les posts à fort engagement\n",
    "fort_posts = df_engagement.filter(pl.col(\"engagement_category\") == \"Fort\")\n",
    "\n",
    "# Créer le graphique\n",
    "fig = px.scatter(\n",
    "    fort_posts.to_pandas(),\n",
    "    x=\"followers\",\n",
    "    y=\"likes\",\n",
    "    title=\"Engagement total en fonction de la longueur du texte (posts à fort engagement)\",\n",
    "    labels={\"text_length\": \"Longueur du texte (mots)\", \"engagement_total\": \"Engagement total\"},\n",
    "    #trendline=\"ols\"  # optionnel : ajoute une ligne de tendance (régression linéaire)\n",
    ")\n",
    "\n",
    "fig.show()\n"
   ]
  },
  {
   "cell_type": "code",
   "execution_count": null,
   "id": "1a4d0de9",
   "metadata": {},
   "outputs": [],
   "source": []
  },
  {
   "cell_type": "code",
   "execution_count": 186,
   "id": "e56e35d6",
   "metadata": {},
   "outputs": [
    {
     "data": {
      "application/vnd.plotly.v1+json": {
       "config": {
        "plotlyServerURL": "https://plot.ly"
       },
       "data": [
        {
         "alignmentgroup": "True",
         "hovertemplate": "Viralité=%{x}<br>Longueur du texte (mots)=%{y}<extra></extra>",
         "legendgroup": "False",
         "marker": {
          "color": "#636efa"
         },
         "name": "False",
         "notched": false,
         "offsetgroup": "False",
         "orientation": "v",
         "showlegend": true,
         "type": "box",
         "x": [
          false,
          false,
          false,
          false,
          false,
          false,
          false,
          false,
          false,
          false,
          false,
          false,
          false,
          false,
          false,
          false,
          false,
          false,
          false,
          false,
          false,
          false,
          false,
          false,
          false,
          false,
          false,
          false,
          false,
          false,
          false,
          false,
          false,
          false,
          false,
          false,
          false,
          false,
          false,
          false,
          false,
          false,
          false,
          false,
          false,
          false,
          false,
          false,
          false,
          false,
          false,
          false,
          false,
          false,
          false,
          false,
          false,
          false,
          false,
          false,
          false,
          false,
          false,
          false,
          false,
          false,
          false,
          false,
          false,
          false,
          false,
          false,
          false,
          false,
          false,
          false,
          false,
          false,
          false,
          false,
          false,
          false,
          false,
          false,
          false,
          false,
          false,
          false,
          false,
          false,
          false,
          false,
          false,
          false,
          false,
          false,
          false,
          false,
          false,
          false,
          false,
          false,
          false,
          false,
          false,
          false,
          false,
          false,
          false,
          false,
          false,
          false,
          false,
          false,
          false,
          false,
          false,
          false,
          false,
          false,
          false,
          false,
          false,
          false,
          false,
          false,
          false,
          false,
          false,
          false,
          false,
          false,
          false,
          false,
          false,
          false,
          false,
          false,
          false,
          false,
          false,
          false,
          false,
          false,
          false,
          false,
          false,
          false,
          false,
          false,
          false,
          false,
          false,
          false,
          false,
          false,
          false,
          false,
          false,
          false,
          false,
          false,
          false,
          false,
          false,
          false,
          false,
          false,
          false,
          false,
          false,
          false,
          false,
          false,
          false,
          false,
          false,
          false,
          false,
          false,
          false,
          false,
          false,
          false,
          false,
          false,
          false,
          false,
          false,
          false,
          false,
          false,
          false,
          false,
          false,
          false,
          false,
          false,
          false,
          false,
          false,
          false,
          false,
          false,
          false,
          false,
          false,
          false,
          false,
          false,
          false,
          false,
          false,
          false,
          false,
          false,
          false,
          false,
          false,
          false,
          false,
          false,
          false,
          false,
          false,
          false,
          false,
          false,
          false,
          false,
          false,
          false,
          false,
          false,
          false,
          false,
          false,
          false,
          false,
          false,
          false,
          false,
          false,
          false,
          false,
          false,
          false,
          false,
          false,
          false,
          false,
          false,
          false,
          false,
          false,
          false,
          false,
          false,
          false,
          false,
          false,
          false,
          false,
          false,
          false,
          false,
          false,
          false,
          false,
          false,
          false,
          false,
          false,
          false,
          false,
          false,
          false,
          false,
          false,
          false,
          false,
          false,
          false,
          false,
          false,
          false,
          false,
          false,
          false,
          false,
          false,
          false,
          false,
          false,
          false,
          false,
          false,
          false,
          false,
          false,
          false,
          false,
          false,
          false,
          false,
          false,
          false,
          false,
          false,
          false,
          false,
          false,
          false,
          false,
          false,
          false,
          false,
          false,
          false,
          false,
          false,
          false,
          false,
          false,
          false,
          false,
          false,
          false,
          false,
          false,
          false,
          false,
          false,
          false,
          false,
          false,
          false,
          false,
          false,
          false,
          false,
          false,
          false,
          false,
          false,
          false,
          false,
          false,
          false,
          false,
          false,
          false,
          false,
          false,
          false,
          false,
          false,
          false,
          false,
          false,
          false,
          false,
          false,
          false,
          false,
          false,
          false,
          false,
          false,
          false,
          false,
          false,
          false,
          false,
          false,
          false,
          false,
          false,
          false,
          false,
          false,
          false,
          false,
          false,
          false,
          false,
          false,
          false,
          false,
          false,
          false,
          false,
          false,
          false,
          false,
          false,
          false,
          false,
          false,
          false,
          false,
          false,
          false,
          false,
          false,
          false,
          false,
          false,
          false,
          false,
          false,
          false,
          false,
          false,
          false,
          false,
          false,
          false,
          false,
          false,
          false,
          false,
          false,
          false,
          false,
          false,
          false,
          false,
          false,
          false,
          false,
          false,
          false,
          false,
          false,
          false,
          false,
          false,
          false,
          false,
          false,
          false,
          false,
          false,
          false,
          false,
          false,
          false,
          false,
          false,
          false,
          false,
          false,
          false,
          false,
          false,
          false,
          false,
          false,
          false,
          false,
          false,
          false,
          false,
          false,
          false,
          false,
          false,
          false,
          false,
          false,
          false,
          false,
          false,
          false,
          false,
          false,
          false,
          false,
          false,
          false,
          false,
          false,
          false,
          false,
          false,
          false,
          false,
          false,
          false,
          false,
          false,
          false,
          false,
          false,
          false,
          false,
          false,
          false,
          false,
          false,
          false,
          false,
          false,
          false,
          false,
          false,
          false,
          false,
          false,
          false,
          false,
          false,
          false,
          false,
          false,
          false,
          false,
          false,
          false,
          false,
          false,
          false,
          false,
          false,
          false,
          false,
          false,
          false,
          false,
          false,
          false,
          false,
          false,
          false,
          false,
          false,
          false,
          false,
          false,
          false,
          false,
          false,
          false,
          false,
          false,
          false,
          false,
          false,
          false,
          false,
          false,
          false,
          false,
          false,
          false,
          false,
          false,
          false,
          false,
          false,
          false,
          false,
          false,
          false,
          false,
          false,
          false,
          false,
          false,
          false,
          false,
          false,
          false,
          false,
          false,
          false,
          false,
          false,
          false,
          false,
          false,
          false,
          false,
          false,
          false,
          false,
          false,
          false,
          false,
          false,
          false,
          false,
          false,
          false,
          false,
          false,
          false,
          false,
          false,
          false,
          false,
          false,
          false,
          false,
          false,
          false,
          false,
          false,
          false,
          false,
          false,
          false,
          false,
          false,
          false,
          false,
          false,
          false,
          false,
          false,
          false,
          false,
          false,
          false,
          false,
          false,
          false,
          false,
          false,
          false,
          false,
          false,
          false,
          false,
          false,
          false,
          false,
          false,
          false,
          false,
          false,
          false,
          false,
          false,
          false,
          false,
          false,
          false,
          false,
          false,
          false,
          false,
          false,
          false,
          false,
          false,
          false,
          false,
          false,
          false,
          false,
          false,
          false,
          false,
          false,
          false,
          false,
          false,
          false,
          false,
          false,
          false,
          false,
          false,
          false,
          false,
          false,
          false,
          false,
          false,
          false,
          false,
          false,
          false,
          false,
          false,
          false,
          false,
          false,
          false,
          false,
          false,
          false,
          false,
          false,
          false,
          false,
          false,
          false,
          false,
          false,
          false,
          false,
          false,
          false,
          false,
          false,
          false,
          false,
          false,
          false,
          false,
          false,
          false,
          false,
          false,
          false,
          false,
          false,
          false,
          false,
          false,
          false,
          false,
          false,
          false,
          false,
          false,
          false,
          false,
          false,
          false,
          false,
          false,
          false,
          false,
          false,
          false,
          false,
          false,
          false,
          false,
          false,
          false,
          false,
          false,
          false,
          false,
          false,
          false,
          false,
          false,
          false,
          false,
          false,
          false,
          false,
          false,
          false,
          false,
          false,
          false,
          false,
          false,
          false,
          false,
          false,
          false,
          false,
          false,
          false,
          false,
          false,
          false,
          false,
          false,
          false,
          false,
          false,
          false,
          false,
          false,
          false,
          false,
          false,
          false,
          false,
          false,
          false,
          false,
          false,
          false,
          false,
          false,
          false,
          false,
          false,
          false,
          false,
          false,
          false,
          false,
          false,
          false,
          false,
          false,
          false,
          false,
          false,
          false,
          false,
          false,
          false,
          false,
          false,
          false,
          false,
          false,
          false,
          false,
          false,
          false,
          false,
          false,
          false,
          false,
          false,
          false,
          false,
          false,
          false,
          false,
          false,
          false,
          false,
          false,
          false,
          false,
          false,
          false,
          false,
          false,
          false,
          false,
          false,
          false,
          false,
          false,
          false,
          false,
          false,
          false,
          false,
          false,
          false,
          false,
          false,
          false,
          false,
          false,
          false,
          false,
          false,
          false,
          false,
          false,
          false,
          false,
          false,
          false,
          false,
          false,
          false,
          false,
          false,
          false,
          false,
          false,
          false,
          false,
          false,
          false,
          false,
          false,
          false,
          false,
          false,
          false,
          false,
          false,
          false,
          false,
          false,
          false,
          false,
          false,
          false,
          false,
          false,
          false,
          false,
          false,
          false,
          false,
          false,
          false,
          false,
          false,
          false,
          false,
          false,
          false,
          false,
          false,
          false,
          false,
          false,
          false,
          false,
          false,
          false,
          false,
          false,
          false,
          false,
          false,
          false,
          false,
          false,
          false,
          false,
          false,
          false,
          false,
          false,
          false,
          false,
          false,
          false,
          false,
          false,
          false,
          false,
          false,
          false,
          false,
          false,
          false,
          false,
          false,
          false,
          false,
          false,
          false,
          false,
          false,
          false,
          false,
          false,
          false,
          false,
          false,
          false,
          false,
          false,
          false,
          false,
          false,
          false,
          false,
          false,
          false,
          false,
          false,
          false,
          false,
          false,
          false,
          false,
          false,
          false,
          false,
          false,
          false,
          false,
          false,
          false,
          false,
          false,
          false,
          false,
          false,
          false,
          false,
          false,
          false,
          false,
          false,
          false,
          false,
          false,
          false,
          false,
          false,
          false,
          false,
          false,
          false,
          false,
          false,
          false,
          false,
          false,
          false,
          false,
          false,
          false,
          false,
          false,
          false,
          false,
          false,
          false,
          false,
          false,
          false,
          false,
          false,
          false,
          false,
          false,
          false,
          false,
          false,
          false,
          false,
          false,
          false,
          false,
          false,
          false,
          false,
          false,
          false,
          false,
          false,
          false,
          false,
          false,
          false,
          false,
          false,
          false,
          false,
          false,
          false,
          false,
          false,
          false,
          false,
          false,
          false,
          false,
          false,
          false,
          false,
          false,
          false,
          false,
          false,
          false,
          false,
          false,
          false,
          false,
          false,
          false,
          false,
          false,
          false,
          false,
          false,
          false,
          false,
          false,
          false,
          false,
          false,
          false,
          false,
          false,
          false,
          false,
          false,
          false,
          false,
          false,
          false,
          false,
          false,
          false,
          false,
          false,
          false,
          false,
          false,
          false,
          false,
          false,
          false,
          false,
          false,
          false,
          false,
          false,
          false,
          false,
          false,
          false,
          false,
          false,
          false,
          false,
          false,
          false,
          false,
          false,
          false,
          false,
          false,
          false,
          false,
          false,
          false,
          false,
          false,
          false,
          false,
          false,
          false,
          false,
          false,
          false,
          false,
          false,
          false,
          false,
          false,
          false,
          false,
          false,
          false,
          false,
          false,
          false,
          false,
          false,
          false,
          false,
          false,
          false,
          false,
          false,
          false,
          false,
          false,
          false,
          false,
          false,
          false,
          false,
          false,
          false,
          false,
          false,
          false,
          false,
          false,
          false,
          false,
          false,
          false,
          false,
          false,
          false,
          false,
          false,
          false,
          false,
          false,
          false,
          false,
          false,
          false,
          false,
          false,
          false,
          false,
          false,
          false,
          false,
          false,
          false,
          false,
          false,
          false,
          false,
          false,
          false,
          false,
          false,
          false,
          false,
          false,
          false,
          false,
          false,
          false,
          false,
          false,
          false,
          false,
          false,
          false,
          false,
          false,
          false,
          false,
          false,
          false,
          false,
          false,
          false,
          false,
          false,
          false,
          false,
          false,
          false,
          false,
          false,
          false,
          false,
          false,
          false,
          false,
          false,
          false,
          false,
          false,
          false,
          false,
          false,
          false,
          false,
          false,
          false,
          false,
          false,
          false,
          false,
          false,
          false,
          false,
          false,
          false,
          false,
          false,
          false,
          false,
          false,
          false,
          false,
          false,
          false,
          false,
          false,
          false,
          false,
          false,
          false,
          false,
          false,
          false,
          false,
          false,
          false,
          false,
          false,
          false,
          false,
          false,
          false,
          false,
          false,
          false,
          false,
          false,
          false,
          false,
          false,
          false,
          false,
          false,
          false,
          false,
          false,
          false,
          false,
          false,
          false,
          false,
          false,
          false,
          false,
          false,
          false,
          false,
          false,
          false,
          false,
          false,
          false,
          false,
          false,
          false,
          false,
          false,
          false,
          false,
          false,
          false,
          false,
          false,
          false,
          false,
          false,
          false,
          false,
          false,
          false,
          false,
          false,
          false,
          false,
          false,
          false,
          false,
          false,
          false,
          false,
          false,
          false,
          false,
          false,
          false,
          false,
          false,
          false,
          false,
          false,
          false,
          false,
          false,
          false,
          false,
          false,
          false,
          false,
          false,
          false,
          false,
          false,
          false,
          false,
          false,
          false,
          false,
          false,
          false,
          false,
          false,
          false,
          false,
          false,
          false,
          false,
          false,
          false,
          false,
          false,
          false,
          false,
          false,
          false,
          false,
          false,
          false,
          false,
          false,
          false,
          false,
          false,
          false,
          false,
          false,
          false,
          false,
          false,
          false,
          false,
          false,
          false,
          false,
          false,
          false,
          false,
          false,
          false,
          false,
          false,
          false,
          false,
          false,
          false,
          false,
          false,
          false,
          false,
          false,
          false,
          false,
          false,
          false,
          false,
          false,
          false,
          false,
          false,
          false,
          false,
          false,
          false,
          false,
          false,
          false,
          false,
          false,
          false,
          false,
          false,
          false,
          false,
          false,
          false,
          false,
          false,
          false,
          false,
          false,
          false,
          false,
          false,
          false,
          false,
          false,
          false,
          false,
          false,
          false,
          false,
          false,
          false,
          false,
          false,
          false,
          false,
          false,
          false,
          false,
          false,
          false,
          false,
          false,
          false,
          false,
          false,
          false,
          false,
          false,
          false,
          false,
          false,
          false,
          false,
          false,
          false,
          false,
          false,
          false,
          false,
          false,
          false,
          false,
          false,
          false,
          false,
          false,
          false,
          false,
          false,
          false,
          false,
          false,
          false,
          false,
          false,
          false,
          false,
          false,
          false,
          false,
          false,
          false,
          false,
          false,
          false,
          false,
          false,
          false,
          false,
          false,
          false,
          false,
          false,
          false,
          false,
          false,
          false,
          false,
          false,
          false,
          false,
          false,
          false,
          false,
          false,
          false,
          false,
          false,
          false,
          false,
          false,
          false,
          false,
          false,
          false,
          false,
          false,
          false,
          false,
          false,
          false,
          false,
          false,
          false,
          false,
          false,
          false,
          false,
          false,
          false,
          false,
          false,
          false,
          false,
          false,
          false,
          false,
          false,
          false,
          false,
          false,
          false,
          false,
          false,
          false,
          false,
          false,
          false,
          false,
          false,
          false,
          false,
          false,
          false,
          false,
          false,
          false,
          false,
          false,
          false,
          false,
          false,
          false,
          false,
          false,
          false,
          false,
          false,
          false,
          false,
          false,
          false,
          false,
          false,
          false,
          false,
          false,
          false,
          false,
          false,
          false,
          false,
          false,
          false,
          false,
          false,
          false,
          false,
          false,
          false,
          false,
          false,
          false,
          false,
          false,
          false,
          false,
          false,
          false,
          false,
          false,
          false,
          false,
          false,
          false,
          false,
          false,
          false
         ],
         "x0": " ",
         "xaxis": "x",
         "y": {
          "bdata": "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",
          "dtype": "u4"
         },
         "y0": " ",
         "yaxis": "y"
        },
        {
         "alignmentgroup": "True",
         "hovertemplate": "Viralité=%{x}<br>Longueur du texte (mots)=%{y}<extra></extra>",
         "legendgroup": "True",
         "marker": {
          "color": "#EF553B"
         },
         "name": "True",
         "notched": false,
         "offsetgroup": "True",
         "orientation": "v",
         "showlegend": true,
         "type": "box",
         "x": [
          true,
          true,
          true,
          true,
          true,
          true,
          true,
          true,
          true,
          true,
          true,
          true,
          true,
          true,
          true,
          true,
          true,
          true,
          true,
          true,
          true,
          true,
          true,
          true,
          true,
          true,
          true,
          true,
          true,
          true,
          true,
          true,
          true,
          true,
          true,
          true,
          true,
          true,
          true,
          true,
          true,
          true,
          true,
          true,
          true,
          true,
          true,
          true,
          true,
          true,
          true,
          true,
          true,
          true,
          true,
          true,
          true,
          true,
          true,
          true,
          true,
          true,
          true,
          true,
          true,
          true,
          true,
          true,
          true,
          true,
          true,
          true,
          true,
          true,
          true,
          true,
          true,
          true,
          true,
          true,
          true,
          true,
          true,
          true,
          true,
          true,
          true,
          true,
          true,
          true,
          true,
          true,
          true,
          true,
          true,
          true,
          true,
          true,
          true,
          true,
          true,
          true,
          true,
          true,
          true,
          true,
          true,
          true,
          true,
          true,
          true,
          true,
          true,
          true,
          true,
          true,
          true,
          true,
          true,
          true,
          true,
          true,
          true,
          true,
          true,
          true,
          true,
          true,
          true,
          true,
          true,
          true,
          true,
          true,
          true,
          true,
          true,
          true,
          true,
          true,
          true,
          true,
          true,
          true,
          true,
          true,
          true,
          true,
          true,
          true,
          true,
          true,
          true,
          true,
          true,
          true,
          true,
          true,
          true,
          true,
          true,
          true,
          true,
          true,
          true,
          true,
          true,
          true,
          true,
          true,
          true,
          true,
          true,
          true,
          true,
          true,
          true,
          true,
          true,
          true,
          true,
          true,
          true,
          true,
          true,
          true,
          true,
          true,
          true,
          true,
          true
         ],
         "x0": " ",
         "xaxis": "x",
         "y": {
          "bdata": "zQAAAC0AAABcAAAAvQAAADYAAAC7AQAAngEAAKkBAADqAAAAKAEAAIwAAABXAQAAZAEAACoBAACNAAAAlwAAAGIAAAA6AAAAOAEAAD8AAAB6AQAAbQEAANkAAABRAQAAEwEAAFcAAADGAAAAXgAAAIYAAACXAAAAtgAAAFIAAAA1AQAAaAEAAHUBAAAPAAAATQEAAFIBAAAVAQAAZwEAANMBAADGAQAAawEAAL0AAAC7AAAAewAAAPIAAADKAAAA+wAAACABAACEAAAA+AAAAJYAAACbAAAAbAAAANgAAACBAAAAqgAAAEUAAACMAAAALQAAAIwAAAADAgAAdQEAAF0BAADwAAAAtwEAAN4AAAA9AQAAiwAAAIMBAADoAAAAOwAAACABAAC2AAAALwAAAJ0AAABsAAAAvAAAAIwAAADdAAAAYAAAAIUAAAA4AAAAcAAAAG0AAAD6AAAAIQEAAIMAAACoAAAATAAAANsAAABxAAAAsAAAACMBAAD4AAAABAEAALYAAACRAAAAiwAAAKUAAABeAAAAvwAAAIYAAACxAAAAVwAAAMAAAACHAAAArAAAAI8AAABeAAAAPQAAANQAAAClAAAAtgAAAPAAAABgAAAAOQEAAOwAAACVAAAAvwAAAAABAABGAAAAPQAAAPMAAABmAAAAugAAAOYAAAAxAAAAvAAAAHsAAACBAAAAVwAAAM8AAACBAAAAAAEAAMsAAAD3AAAA3gAAAFYAAABeAAAAlAAAAKIAAABeAAAAgAAAAGoAAAB5AAAA+AAAAJwAAABUAAAAkAAAAIYAAADRAAAAFQEAALUAAACVAQAAcgEAAOwBAABOAAAAwgAAAPAAAABgAAAA7AAAAPYAAADTAAAA/QAAAMkAAABgAAAA/QAAAMMAAADHAAAAhgAAAEgAAADYAAAArQAAAJoAAAAiAQAAqAAAAFsAAADMAAAA/wAAAHwAAAByAAAAZwAAANoAAAD3AAAAIwEAAG8AAACNAQAA4AAAAK4AAAA=",
          "dtype": "u4"
         },
         "y0": " ",
         "yaxis": "y"
        }
       ],
       "layout": {
        "boxmode": "overlay",
        "legend": {
         "title": {
          "text": "Viralité"
         },
         "tracegroupgap": 0
        },
        "template": {
         "data": {
          "bar": [
           {
            "error_x": {
             "color": "#2a3f5f"
            },
            "error_y": {
             "color": "#2a3f5f"
            },
            "marker": {
             "line": {
              "color": "#E5ECF6",
              "width": 0.5
             },
             "pattern": {
              "fillmode": "overlay",
              "size": 10,
              "solidity": 0.2
             }
            },
            "type": "bar"
           }
          ],
          "barpolar": [
           {
            "marker": {
             "line": {
              "color": "#E5ECF6",
              "width": 0.5
             },
             "pattern": {
              "fillmode": "overlay",
              "size": 10,
              "solidity": 0.2
             }
            },
            "type": "barpolar"
           }
          ],
          "carpet": [
           {
            "aaxis": {
             "endlinecolor": "#2a3f5f",
             "gridcolor": "white",
             "linecolor": "white",
             "minorgridcolor": "white",
             "startlinecolor": "#2a3f5f"
            },
            "baxis": {
             "endlinecolor": "#2a3f5f",
             "gridcolor": "white",
             "linecolor": "white",
             "minorgridcolor": "white",
             "startlinecolor": "#2a3f5f"
            },
            "type": "carpet"
           }
          ],
          "choropleth": [
           {
            "colorbar": {
             "outlinewidth": 0,
             "ticks": ""
            },
            "type": "choropleth"
           }
          ],
          "contour": [
           {
            "colorbar": {
             "outlinewidth": 0,
             "ticks": ""
            },
            "colorscale": [
             [
              0,
              "#0d0887"
             ],
             [
              0.1111111111111111,
              "#46039f"
             ],
             [
              0.2222222222222222,
              "#7201a8"
             ],
             [
              0.3333333333333333,
              "#9c179e"
             ],
             [
              0.4444444444444444,
              "#bd3786"
             ],
             [
              0.5555555555555556,
              "#d8576b"
             ],
             [
              0.6666666666666666,
              "#ed7953"
             ],
             [
              0.7777777777777778,
              "#fb9f3a"
             ],
             [
              0.8888888888888888,
              "#fdca26"
             ],
             [
              1,
              "#f0f921"
             ]
            ],
            "type": "contour"
           }
          ],
          "contourcarpet": [
           {
            "colorbar": {
             "outlinewidth": 0,
             "ticks": ""
            },
            "type": "contourcarpet"
           }
          ],
          "heatmap": [
           {
            "colorbar": {
             "outlinewidth": 0,
             "ticks": ""
            },
            "colorscale": [
             [
              0,
              "#0d0887"
             ],
             [
              0.1111111111111111,
              "#46039f"
             ],
             [
              0.2222222222222222,
              "#7201a8"
             ],
             [
              0.3333333333333333,
              "#9c179e"
             ],
             [
              0.4444444444444444,
              "#bd3786"
             ],
             [
              0.5555555555555556,
              "#d8576b"
             ],
             [
              0.6666666666666666,
              "#ed7953"
             ],
             [
              0.7777777777777778,
              "#fb9f3a"
             ],
             [
              0.8888888888888888,
              "#fdca26"
             ],
             [
              1,
              "#f0f921"
             ]
            ],
            "type": "heatmap"
           }
          ],
          "histogram": [
           {
            "marker": {
             "pattern": {
              "fillmode": "overlay",
              "size": 10,
              "solidity": 0.2
             }
            },
            "type": "histogram"
           }
          ],
          "histogram2d": [
           {
            "colorbar": {
             "outlinewidth": 0,
             "ticks": ""
            },
            "colorscale": [
             [
              0,
              "#0d0887"
             ],
             [
              0.1111111111111111,
              "#46039f"
             ],
             [
              0.2222222222222222,
              "#7201a8"
             ],
             [
              0.3333333333333333,
              "#9c179e"
             ],
             [
              0.4444444444444444,
              "#bd3786"
             ],
             [
              0.5555555555555556,
              "#d8576b"
             ],
             [
              0.6666666666666666,
              "#ed7953"
             ],
             [
              0.7777777777777778,
              "#fb9f3a"
             ],
             [
              0.8888888888888888,
              "#fdca26"
             ],
             [
              1,
              "#f0f921"
             ]
            ],
            "type": "histogram2d"
           }
          ],
          "histogram2dcontour": [
           {
            "colorbar": {
             "outlinewidth": 0,
             "ticks": ""
            },
            "colorscale": [
             [
              0,
              "#0d0887"
             ],
             [
              0.1111111111111111,
              "#46039f"
             ],
             [
              0.2222222222222222,
              "#7201a8"
             ],
             [
              0.3333333333333333,
              "#9c179e"
             ],
             [
              0.4444444444444444,
              "#bd3786"
             ],
             [
              0.5555555555555556,
              "#d8576b"
             ],
             [
              0.6666666666666666,
              "#ed7953"
             ],
             [
              0.7777777777777778,
              "#fb9f3a"
             ],
             [
              0.8888888888888888,
              "#fdca26"
             ],
             [
              1,
              "#f0f921"
             ]
            ],
            "type": "histogram2dcontour"
           }
          ],
          "mesh3d": [
           {
            "colorbar": {
             "outlinewidth": 0,
             "ticks": ""
            },
            "type": "mesh3d"
           }
          ],
          "parcoords": [
           {
            "line": {
             "colorbar": {
              "outlinewidth": 0,
              "ticks": ""
             }
            },
            "type": "parcoords"
           }
          ],
          "pie": [
           {
            "automargin": true,
            "type": "pie"
           }
          ],
          "scatter": [
           {
            "fillpattern": {
             "fillmode": "overlay",
             "size": 10,
             "solidity": 0.2
            },
            "type": "scatter"
           }
          ],
          "scatter3d": [
           {
            "line": {
             "colorbar": {
              "outlinewidth": 0,
              "ticks": ""
             }
            },
            "marker": {
             "colorbar": {
              "outlinewidth": 0,
              "ticks": ""
             }
            },
            "type": "scatter3d"
           }
          ],
          "scattercarpet": [
           {
            "marker": {
             "colorbar": {
              "outlinewidth": 0,
              "ticks": ""
             }
            },
            "type": "scattercarpet"
           }
          ],
          "scattergeo": [
           {
            "marker": {
             "colorbar": {
              "outlinewidth": 0,
              "ticks": ""
             }
            },
            "type": "scattergeo"
           }
          ],
          "scattergl": [
           {
            "marker": {
             "colorbar": {
              "outlinewidth": 0,
              "ticks": ""
             }
            },
            "type": "scattergl"
           }
          ],
          "scattermap": [
           {
            "marker": {
             "colorbar": {
              "outlinewidth": 0,
              "ticks": ""
             }
            },
            "type": "scattermap"
           }
          ],
          "scattermapbox": [
           {
            "marker": {
             "colorbar": {
              "outlinewidth": 0,
              "ticks": ""
             }
            },
            "type": "scattermapbox"
           }
          ],
          "scatterpolar": [
           {
            "marker": {
             "colorbar": {
              "outlinewidth": 0,
              "ticks": ""
             }
            },
            "type": "scatterpolar"
           }
          ],
          "scatterpolargl": [
           {
            "marker": {
             "colorbar": {
              "outlinewidth": 0,
              "ticks": ""
             }
            },
            "type": "scatterpolargl"
           }
          ],
          "scatterternary": [
           {
            "marker": {
             "colorbar": {
              "outlinewidth": 0,
              "ticks": ""
             }
            },
            "type": "scatterternary"
           }
          ],
          "surface": [
           {
            "colorbar": {
             "outlinewidth": 0,
             "ticks": ""
            },
            "colorscale": [
             [
              0,
              "#0d0887"
             ],
             [
              0.1111111111111111,
              "#46039f"
             ],
             [
              0.2222222222222222,
              "#7201a8"
             ],
             [
              0.3333333333333333,
              "#9c179e"
             ],
             [
              0.4444444444444444,
              "#bd3786"
             ],
             [
              0.5555555555555556,
              "#d8576b"
             ],
             [
              0.6666666666666666,
              "#ed7953"
             ],
             [
              0.7777777777777778,
              "#fb9f3a"
             ],
             [
              0.8888888888888888,
              "#fdca26"
             ],
             [
              1,
              "#f0f921"
             ]
            ],
            "type": "surface"
           }
          ],
          "table": [
           {
            "cells": {
             "fill": {
              "color": "#EBF0F8"
             },
             "line": {
              "color": "white"
             }
            },
            "header": {
             "fill": {
              "color": "#C8D4E3"
             },
             "line": {
              "color": "white"
             }
            },
            "type": "table"
           }
          ]
         },
         "layout": {
          "annotationdefaults": {
           "arrowcolor": "#2a3f5f",
           "arrowhead": 0,
           "arrowwidth": 1
          },
          "autotypenumbers": "strict",
          "coloraxis": {
           "colorbar": {
            "outlinewidth": 0,
            "ticks": ""
           }
          },
          "colorscale": {
           "diverging": [
            [
             0,
             "#8e0152"
            ],
            [
             0.1,
             "#c51b7d"
            ],
            [
             0.2,
             "#de77ae"
            ],
            [
             0.3,
             "#f1b6da"
            ],
            [
             0.4,
             "#fde0ef"
            ],
            [
             0.5,
             "#f7f7f7"
            ],
            [
             0.6,
             "#e6f5d0"
            ],
            [
             0.7,
             "#b8e186"
            ],
            [
             0.8,
             "#7fbc41"
            ],
            [
             0.9,
             "#4d9221"
            ],
            [
             1,
             "#276419"
            ]
           ],
           "sequential": [
            [
             0,
             "#0d0887"
            ],
            [
             0.1111111111111111,
             "#46039f"
            ],
            [
             0.2222222222222222,
             "#7201a8"
            ],
            [
             0.3333333333333333,
             "#9c179e"
            ],
            [
             0.4444444444444444,
             "#bd3786"
            ],
            [
             0.5555555555555556,
             "#d8576b"
            ],
            [
             0.6666666666666666,
             "#ed7953"
            ],
            [
             0.7777777777777778,
             "#fb9f3a"
            ],
            [
             0.8888888888888888,
             "#fdca26"
            ],
            [
             1,
             "#f0f921"
            ]
           ],
           "sequentialminus": [
            [
             0,
             "#0d0887"
            ],
            [
             0.1111111111111111,
             "#46039f"
            ],
            [
             0.2222222222222222,
             "#7201a8"
            ],
            [
             0.3333333333333333,
             "#9c179e"
            ],
            [
             0.4444444444444444,
             "#bd3786"
            ],
            [
             0.5555555555555556,
             "#d8576b"
            ],
            [
             0.6666666666666666,
             "#ed7953"
            ],
            [
             0.7777777777777778,
             "#fb9f3a"
            ],
            [
             0.8888888888888888,
             "#fdca26"
            ],
            [
             1,
             "#f0f921"
            ]
           ]
          },
          "colorway": [
           "#636efa",
           "#EF553B",
           "#00cc96",
           "#ab63fa",
           "#FFA15A",
           "#19d3f3",
           "#FF6692",
           "#B6E880",
           "#FF97FF",
           "#FECB52"
          ],
          "font": {
           "color": "#2a3f5f"
          },
          "geo": {
           "bgcolor": "white",
           "lakecolor": "white",
           "landcolor": "#E5ECF6",
           "showlakes": true,
           "showland": true,
           "subunitcolor": "white"
          },
          "hoverlabel": {
           "align": "left"
          },
          "hovermode": "closest",
          "mapbox": {
           "style": "light"
          },
          "paper_bgcolor": "white",
          "plot_bgcolor": "#E5ECF6",
          "polar": {
           "angularaxis": {
            "gridcolor": "white",
            "linecolor": "white",
            "ticks": ""
           },
           "bgcolor": "#E5ECF6",
           "radialaxis": {
            "gridcolor": "white",
            "linecolor": "white",
            "ticks": ""
           }
          },
          "scene": {
           "xaxis": {
            "backgroundcolor": "#E5ECF6",
            "gridcolor": "white",
            "gridwidth": 2,
            "linecolor": "white",
            "showbackground": true,
            "ticks": "",
            "zerolinecolor": "white"
           },
           "yaxis": {
            "backgroundcolor": "#E5ECF6",
            "gridcolor": "white",
            "gridwidth": 2,
            "linecolor": "white",
            "showbackground": true,
            "ticks": "",
            "zerolinecolor": "white"
           },
           "zaxis": {
            "backgroundcolor": "#E5ECF6",
            "gridcolor": "white",
            "gridwidth": 2,
            "linecolor": "white",
            "showbackground": true,
            "ticks": "",
            "zerolinecolor": "white"
           }
          },
          "shapedefaults": {
           "line": {
            "color": "#2a3f5f"
           }
          },
          "ternary": {
           "aaxis": {
            "gridcolor": "white",
            "linecolor": "white",
            "ticks": ""
           },
           "baxis": {
            "gridcolor": "white",
            "linecolor": "white",
            "ticks": ""
           },
           "bgcolor": "#E5ECF6",
           "caxis": {
            "gridcolor": "white",
            "linecolor": "white",
            "ticks": ""
           }
          },
          "title": {
           "x": 0.05
          },
          "xaxis": {
           "automargin": true,
           "gridcolor": "white",
           "linecolor": "white",
           "ticks": "",
           "title": {
            "standoff": 15
           },
           "zerolinecolor": "white",
           "zerolinewidth": 2
          },
          "yaxis": {
           "automargin": true,
           "gridcolor": "white",
           "linecolor": "white",
           "ticks": "",
           "title": {
            "standoff": 15
           },
           "zerolinecolor": "white",
           "zerolinewidth": 2
          }
         }
        },
        "title": {
         "text": "Longueur du texte par viralité"
        },
        "xaxis": {
         "anchor": "y",
         "categoryarray": [
          false,
          true
         ],
         "categoryorder": "array",
         "domain": [
          0,
          1
         ],
         "title": {
          "text": "Viralité"
         }
        },
        "yaxis": {
         "anchor": "x",
         "domain": [
          0,
          1
         ],
         "title": {
          "text": "Longueur du texte (mots)"
         }
        }
       }
      }
     },
     "metadata": {},
     "output_type": "display_data"
    }
   ],
   "source": [
    "# Ajouter une boîte pour les posts viraux\n",
    "fig_viral = px.box(\n",
    "    df.to_pandas(),\n",
    "    x=\"is_viral\",\n",
    "    y=\"text_length\",\n",
    "    color=\"is_viral\",\n",
    "    title=\"Longueur du texte par viralité\",\n",
    "    labels={\"text_length\": \"Longueur du texte (mots)\", \"is_viral\": \"Viralité\"}\n",
    ")\n",
    "fig_viral.show()"
   ]
  },
  {
   "cell_type": "markdown",
   "id": "9155dd74",
   "metadata": {},
   "source": [
    "- **Hashtags** :\n",
    "  - Analyse `nbr_hashtags` et `hashtags` pour voir si plus de hashtags augmentent `engagement_total` ou `shares`.\n",
    "  - Identifie les hashtags les plus utilisés dans les posts viraux"
   ]
  },
  {
   "cell_type": "code",
   "execution_count": 212,
   "metadata": {},
   "outputs": [],
   "source": [
    "hashtag_impact = df.group_by(\"nbr_hashtags\").agg(\n",
    "    mean_engagement_total=pl.col(\"engagement_total\").mean(),\n",
    "    median_engagement_total=pl.col(\"engagement_total\").median(),\n",
    "    mean_shares=pl.col(\"shares\").mean(),\n",
    "    median_shares=pl.col(\"shares\").median()\n",
    ").sort(\"nbr_hashtags\")\n",
    "\n",
    "correlation_engagement = df.select(\n",
    "    pl.corr(\"nbr_hashtags\", \"engagement_total\").alias(\"corr_nbr_hashtags_engagement\")\n",
    ")\n",
    "correlation_shares = df.select(\n",
    "    pl.corr(\"nbr_hashtags\", \"shares\").alias(\"corr_nbr_hashtags_shares\")\n",
    ")\n",
    "correlation_shares_followers = df.select(\n",
    "    pl.corr(\"followers\", \"shares\").alias(\"corr_nbr_followers_shares\")\n",
    ")\n",
    "correlation_engagement_followers = df.select(\n",
    "    pl.corr(\"followers\", \"engagement_total\").alias(\"corr_nbr_followers_engagement_total\")\n",
    ")"
   ]
  },
  {
   "cell_type": "code",
   "execution_count": 190,
   "metadata": {},
   "outputs": [
    {
     "data": {
      "text/html": [
       "<div><style>\n",
       ".dataframe > thead > tr,\n",
       ".dataframe > tbody > tr {\n",
       "  text-align: right;\n",
       "  white-space: pre-wrap;\n",
       "}\n",
       "</style>\n",
       "<small>shape: (10, 5)</small><table border=\"1\" class=\"dataframe\"><thead><tr><th>nbr_hashtags</th><th>mean_engagement_total</th><th>median_engagement_total</th><th>mean_shares</th><th>median_shares</th></tr><tr><td>i64</td><td>f64</td><td>f64</td><td>f64</td><td>f64</td></tr></thead><tbody><tr><td>0</td><td>65.395994</td><td>28.0</td><td>5.875193</td><td>1.0</td></tr><tr><td>1</td><td>100.714286</td><td>41.0</td><td>4.761905</td><td>1.0</td></tr><tr><td>2</td><td>76.367347</td><td>38.0</td><td>9.571429</td><td>3.0</td></tr><tr><td>3</td><td>59.884615</td><td>22.5</td><td>6.634615</td><td>1.0</td></tr><tr><td>4</td><td>45.94</td><td>31.0</td><td>6.08</td><td>2.0</td></tr><tr><td>5</td><td>57.171875</td><td>18.5</td><td>9.1953125</td><td>1.0</td></tr><tr><td>6</td><td>64.83</td><td>32.0</td><td>11.97</td><td>2.0</td></tr><tr><td>7</td><td>60.236842</td><td>34.0</td><td>12.131579</td><td>2.0</td></tr><tr><td>8</td><td>47.094118</td><td>25.0</td><td>9.352941</td><td>2.0</td></tr><tr><td>9</td><td>51.242424</td><td>26.0</td><td>11.909091</td><td>2.0</td></tr></tbody></table></div>"
      ],
      "text/plain": [
       "shape: (10, 5)\n",
       "┌──────────────┬───────────────────────┬─────────────────────────┬─────────────┬───────────────┐\n",
       "│ nbr_hashtags ┆ mean_engagement_total ┆ median_engagement_total ┆ mean_shares ┆ median_shares │\n",
       "│ ---          ┆ ---                   ┆ ---                     ┆ ---         ┆ ---           │\n",
       "│ i64          ┆ f64                   ┆ f64                     ┆ f64         ┆ f64           │\n",
       "╞══════════════╪═══════════════════════╪═════════════════════════╪═════════════╪═══════════════╡\n",
       "│ 0            ┆ 65.395994             ┆ 28.0                    ┆ 5.875193    ┆ 1.0           │\n",
       "│ 1            ┆ 100.714286            ┆ 41.0                    ┆ 4.761905    ┆ 1.0           │\n",
       "│ 2            ┆ 76.367347             ┆ 38.0                    ┆ 9.571429    ┆ 3.0           │\n",
       "│ 3            ┆ 59.884615             ┆ 22.5                    ┆ 6.634615    ┆ 1.0           │\n",
       "│ 4            ┆ 45.94                 ┆ 31.0                    ┆ 6.08        ┆ 2.0           │\n",
       "│ 5            ┆ 57.171875             ┆ 18.5                    ┆ 9.1953125   ┆ 1.0           │\n",
       "│ 6            ┆ 64.83                 ┆ 32.0                    ┆ 11.97       ┆ 2.0           │\n",
       "│ 7            ┆ 60.236842             ┆ 34.0                    ┆ 12.131579   ┆ 2.0           │\n",
       "│ 8            ┆ 47.094118             ┆ 25.0                    ┆ 9.352941    ┆ 2.0           │\n",
       "│ 9            ┆ 51.242424             ┆ 26.0                    ┆ 11.909091   ┆ 2.0           │\n",
       "└──────────────┴───────────────────────┴─────────────────────────┴─────────────┴───────────────┘"
      ]
     },
     "execution_count": 190,
     "metadata": {},
     "output_type": "execute_result"
    }
   ],
   "source": [
    "hashtag_impact.head(10).write_parquet(f\"{kpi_folder}/top_hashtag_impact.parquet\")\n",
    "hashtag_impact.head(10)"
   ]
  },
  {
   "cell_type": "code",
   "execution_count": 196,
   "id": "5f67af4e",
   "metadata": {},
   "outputs": [
    {
     "data": {
      "application/vnd.plotly.v1+json": {
       "config": {
        "plotlyServerURL": "https://plot.ly"
       },
       "data": [
        {
         "mode": "lines+markers",
         "name": "engagement_total",
         "type": "scatter",
         "x": {
          "bdata": "AAECAwQFBgcICQ==",
          "dtype": "i1"
         },
         "y": {
          "bdata": "EnuI9ldZUEDbtm3bti1ZQOYUvJyCF1NAFDuxEzvxTUC4HoXrUfhGQAAAAAAAlkxAhetRuB41UEDlNZTXUB5OQAwMDAwMjEdAH3zwwQefSUA=",
          "dtype": "f8"
         }
        },
        {
         "mode": "lines+markers",
         "name": "shares",
         "type": "scatter",
         "x": {
          "bdata": "AAECAwQFBgcICQ==",
          "dtype": "i1"
         },
         "y": {
          "bdata": "VaFvfTKAF0DDMAzDMAwTQEmSJEmSJCNAntiJndiJGkBSuB6F61EYQAAAAAAAZCJAcT0K16PwJ0A2lNdQXkMoQLW0tLS0tCJA0UUXXXTRJ0A=",
          "dtype": "f8"
         }
        }
       ],
       "layout": {
        "legend": {
         "title": {
          "text": "Metrics"
         }
        },
        "template": {
         "data": {
          "bar": [
           {
            "error_x": {
             "color": "#2a3f5f"
            },
            "error_y": {
             "color": "#2a3f5f"
            },
            "marker": {
             "line": {
              "color": "#E5ECF6",
              "width": 0.5
             },
             "pattern": {
              "fillmode": "overlay",
              "size": 10,
              "solidity": 0.2
             }
            },
            "type": "bar"
           }
          ],
          "barpolar": [
           {
            "marker": {
             "line": {
              "color": "#E5ECF6",
              "width": 0.5
             },
             "pattern": {
              "fillmode": "overlay",
              "size": 10,
              "solidity": 0.2
             }
            },
            "type": "barpolar"
           }
          ],
          "carpet": [
           {
            "aaxis": {
             "endlinecolor": "#2a3f5f",
             "gridcolor": "white",
             "linecolor": "white",
             "minorgridcolor": "white",
             "startlinecolor": "#2a3f5f"
            },
            "baxis": {
             "endlinecolor": "#2a3f5f",
             "gridcolor": "white",
             "linecolor": "white",
             "minorgridcolor": "white",
             "startlinecolor": "#2a3f5f"
            },
            "type": "carpet"
           }
          ],
          "choropleth": [
           {
            "colorbar": {
             "outlinewidth": 0,
             "ticks": ""
            },
            "type": "choropleth"
           }
          ],
          "contour": [
           {
            "colorbar": {
             "outlinewidth": 0,
             "ticks": ""
            },
            "colorscale": [
             [
              0,
              "#0d0887"
             ],
             [
              0.1111111111111111,
              "#46039f"
             ],
             [
              0.2222222222222222,
              "#7201a8"
             ],
             [
              0.3333333333333333,
              "#9c179e"
             ],
             [
              0.4444444444444444,
              "#bd3786"
             ],
             [
              0.5555555555555556,
              "#d8576b"
             ],
             [
              0.6666666666666666,
              "#ed7953"
             ],
             [
              0.7777777777777778,
              "#fb9f3a"
             ],
             [
              0.8888888888888888,
              "#fdca26"
             ],
             [
              1,
              "#f0f921"
             ]
            ],
            "type": "contour"
           }
          ],
          "contourcarpet": [
           {
            "colorbar": {
             "outlinewidth": 0,
             "ticks": ""
            },
            "type": "contourcarpet"
           }
          ],
          "heatmap": [
           {
            "colorbar": {
             "outlinewidth": 0,
             "ticks": ""
            },
            "colorscale": [
             [
              0,
              "#0d0887"
             ],
             [
              0.1111111111111111,
              "#46039f"
             ],
             [
              0.2222222222222222,
              "#7201a8"
             ],
             [
              0.3333333333333333,
              "#9c179e"
             ],
             [
              0.4444444444444444,
              "#bd3786"
             ],
             [
              0.5555555555555556,
              "#d8576b"
             ],
             [
              0.6666666666666666,
              "#ed7953"
             ],
             [
              0.7777777777777778,
              "#fb9f3a"
             ],
             [
              0.8888888888888888,
              "#fdca26"
             ],
             [
              1,
              "#f0f921"
             ]
            ],
            "type": "heatmap"
           }
          ],
          "histogram": [
           {
            "marker": {
             "pattern": {
              "fillmode": "overlay",
              "size": 10,
              "solidity": 0.2
             }
            },
            "type": "histogram"
           }
          ],
          "histogram2d": [
           {
            "colorbar": {
             "outlinewidth": 0,
             "ticks": ""
            },
            "colorscale": [
             [
              0,
              "#0d0887"
             ],
             [
              0.1111111111111111,
              "#46039f"
             ],
             [
              0.2222222222222222,
              "#7201a8"
             ],
             [
              0.3333333333333333,
              "#9c179e"
             ],
             [
              0.4444444444444444,
              "#bd3786"
             ],
             [
              0.5555555555555556,
              "#d8576b"
             ],
             [
              0.6666666666666666,
              "#ed7953"
             ],
             [
              0.7777777777777778,
              "#fb9f3a"
             ],
             [
              0.8888888888888888,
              "#fdca26"
             ],
             [
              1,
              "#f0f921"
             ]
            ],
            "type": "histogram2d"
           }
          ],
          "histogram2dcontour": [
           {
            "colorbar": {
             "outlinewidth": 0,
             "ticks": ""
            },
            "colorscale": [
             [
              0,
              "#0d0887"
             ],
             [
              0.1111111111111111,
              "#46039f"
             ],
             [
              0.2222222222222222,
              "#7201a8"
             ],
             [
              0.3333333333333333,
              "#9c179e"
             ],
             [
              0.4444444444444444,
              "#bd3786"
             ],
             [
              0.5555555555555556,
              "#d8576b"
             ],
             [
              0.6666666666666666,
              "#ed7953"
             ],
             [
              0.7777777777777778,
              "#fb9f3a"
             ],
             [
              0.8888888888888888,
              "#fdca26"
             ],
             [
              1,
              "#f0f921"
             ]
            ],
            "type": "histogram2dcontour"
           }
          ],
          "mesh3d": [
           {
            "colorbar": {
             "outlinewidth": 0,
             "ticks": ""
            },
            "type": "mesh3d"
           }
          ],
          "parcoords": [
           {
            "line": {
             "colorbar": {
              "outlinewidth": 0,
              "ticks": ""
             }
            },
            "type": "parcoords"
           }
          ],
          "pie": [
           {
            "automargin": true,
            "type": "pie"
           }
          ],
          "scatter": [
           {
            "fillpattern": {
             "fillmode": "overlay",
             "size": 10,
             "solidity": 0.2
            },
            "type": "scatter"
           }
          ],
          "scatter3d": [
           {
            "line": {
             "colorbar": {
              "outlinewidth": 0,
              "ticks": ""
             }
            },
            "marker": {
             "colorbar": {
              "outlinewidth": 0,
              "ticks": ""
             }
            },
            "type": "scatter3d"
           }
          ],
          "scattercarpet": [
           {
            "marker": {
             "colorbar": {
              "outlinewidth": 0,
              "ticks": ""
             }
            },
            "type": "scattercarpet"
           }
          ],
          "scattergeo": [
           {
            "marker": {
             "colorbar": {
              "outlinewidth": 0,
              "ticks": ""
             }
            },
            "type": "scattergeo"
           }
          ],
          "scattergl": [
           {
            "marker": {
             "colorbar": {
              "outlinewidth": 0,
              "ticks": ""
             }
            },
            "type": "scattergl"
           }
          ],
          "scattermap": [
           {
            "marker": {
             "colorbar": {
              "outlinewidth": 0,
              "ticks": ""
             }
            },
            "type": "scattermap"
           }
          ],
          "scattermapbox": [
           {
            "marker": {
             "colorbar": {
              "outlinewidth": 0,
              "ticks": ""
             }
            },
            "type": "scattermapbox"
           }
          ],
          "scatterpolar": [
           {
            "marker": {
             "colorbar": {
              "outlinewidth": 0,
              "ticks": ""
             }
            },
            "type": "scatterpolar"
           }
          ],
          "scatterpolargl": [
           {
            "marker": {
             "colorbar": {
              "outlinewidth": 0,
              "ticks": ""
             }
            },
            "type": "scatterpolargl"
           }
          ],
          "scatterternary": [
           {
            "marker": {
             "colorbar": {
              "outlinewidth": 0,
              "ticks": ""
             }
            },
            "type": "scatterternary"
           }
          ],
          "surface": [
           {
            "colorbar": {
             "outlinewidth": 0,
             "ticks": ""
            },
            "colorscale": [
             [
              0,
              "#0d0887"
             ],
             [
              0.1111111111111111,
              "#46039f"
             ],
             [
              0.2222222222222222,
              "#7201a8"
             ],
             [
              0.3333333333333333,
              "#9c179e"
             ],
             [
              0.4444444444444444,
              "#bd3786"
             ],
             [
              0.5555555555555556,
              "#d8576b"
             ],
             [
              0.6666666666666666,
              "#ed7953"
             ],
             [
              0.7777777777777778,
              "#fb9f3a"
             ],
             [
              0.8888888888888888,
              "#fdca26"
             ],
             [
              1,
              "#f0f921"
             ]
            ],
            "type": "surface"
           }
          ],
          "table": [
           {
            "cells": {
             "fill": {
              "color": "#EBF0F8"
             },
             "line": {
              "color": "white"
             }
            },
            "header": {
             "fill": {
              "color": "#C8D4E3"
             },
             "line": {
              "color": "white"
             }
            },
            "type": "table"
           }
          ]
         },
         "layout": {
          "annotationdefaults": {
           "arrowcolor": "#2a3f5f",
           "arrowhead": 0,
           "arrowwidth": 1
          },
          "autotypenumbers": "strict",
          "coloraxis": {
           "colorbar": {
            "outlinewidth": 0,
            "ticks": ""
           }
          },
          "colorscale": {
           "diverging": [
            [
             0,
             "#8e0152"
            ],
            [
             0.1,
             "#c51b7d"
            ],
            [
             0.2,
             "#de77ae"
            ],
            [
             0.3,
             "#f1b6da"
            ],
            [
             0.4,
             "#fde0ef"
            ],
            [
             0.5,
             "#f7f7f7"
            ],
            [
             0.6,
             "#e6f5d0"
            ],
            [
             0.7,
             "#b8e186"
            ],
            [
             0.8,
             "#7fbc41"
            ],
            [
             0.9,
             "#4d9221"
            ],
            [
             1,
             "#276419"
            ]
           ],
           "sequential": [
            [
             0,
             "#0d0887"
            ],
            [
             0.1111111111111111,
             "#46039f"
            ],
            [
             0.2222222222222222,
             "#7201a8"
            ],
            [
             0.3333333333333333,
             "#9c179e"
            ],
            [
             0.4444444444444444,
             "#bd3786"
            ],
            [
             0.5555555555555556,
             "#d8576b"
            ],
            [
             0.6666666666666666,
             "#ed7953"
            ],
            [
             0.7777777777777778,
             "#fb9f3a"
            ],
            [
             0.8888888888888888,
             "#fdca26"
            ],
            [
             1,
             "#f0f921"
            ]
           ],
           "sequentialminus": [
            [
             0,
             "#0d0887"
            ],
            [
             0.1111111111111111,
             "#46039f"
            ],
            [
             0.2222222222222222,
             "#7201a8"
            ],
            [
             0.3333333333333333,
             "#9c179e"
            ],
            [
             0.4444444444444444,
             "#bd3786"
            ],
            [
             0.5555555555555556,
             "#d8576b"
            ],
            [
             0.6666666666666666,
             "#ed7953"
            ],
            [
             0.7777777777777778,
             "#fb9f3a"
            ],
            [
             0.8888888888888888,
             "#fdca26"
            ],
            [
             1,
             "#f0f921"
            ]
           ]
          },
          "colorway": [
           "#636efa",
           "#EF553B",
           "#00cc96",
           "#ab63fa",
           "#FFA15A",
           "#19d3f3",
           "#FF6692",
           "#B6E880",
           "#FF97FF",
           "#FECB52"
          ],
          "font": {
           "color": "#2a3f5f"
          },
          "geo": {
           "bgcolor": "white",
           "lakecolor": "white",
           "landcolor": "#E5ECF6",
           "showlakes": true,
           "showland": true,
           "subunitcolor": "white"
          },
          "hoverlabel": {
           "align": "left"
          },
          "hovermode": "closest",
          "mapbox": {
           "style": "light"
          },
          "paper_bgcolor": "white",
          "plot_bgcolor": "#E5ECF6",
          "polar": {
           "angularaxis": {
            "gridcolor": "white",
            "linecolor": "white",
            "ticks": ""
           },
           "bgcolor": "#E5ECF6",
           "radialaxis": {
            "gridcolor": "white",
            "linecolor": "white",
            "ticks": ""
           }
          },
          "scene": {
           "xaxis": {
            "backgroundcolor": "#E5ECF6",
            "gridcolor": "white",
            "gridwidth": 2,
            "linecolor": "white",
            "showbackground": true,
            "ticks": "",
            "zerolinecolor": "white"
           },
           "yaxis": {
            "backgroundcolor": "#E5ECF6",
            "gridcolor": "white",
            "gridwidth": 2,
            "linecolor": "white",
            "showbackground": true,
            "ticks": "",
            "zerolinecolor": "white"
           },
           "zaxis": {
            "backgroundcolor": "#E5ECF6",
            "gridcolor": "white",
            "gridwidth": 2,
            "linecolor": "white",
            "showbackground": true,
            "ticks": "",
            "zerolinecolor": "white"
           }
          },
          "shapedefaults": {
           "line": {
            "color": "#2a3f5f"
           }
          },
          "ternary": {
           "aaxis": {
            "gridcolor": "white",
            "linecolor": "white",
            "ticks": ""
           },
           "baxis": {
            "gridcolor": "white",
            "linecolor": "white",
            "ticks": ""
           },
           "bgcolor": "#E5ECF6",
           "caxis": {
            "gridcolor": "white",
            "linecolor": "white",
            "ticks": ""
           }
          },
          "title": {
           "x": 0.05
          },
          "xaxis": {
           "automargin": true,
           "gridcolor": "white",
           "linecolor": "white",
           "ticks": "",
           "title": {
            "standoff": 15
           },
           "zerolinecolor": "white",
           "zerolinewidth": 2
          },
          "yaxis": {
           "automargin": true,
           "gridcolor": "white",
           "linecolor": "white",
           "ticks": "",
           "title": {
            "standoff": 15
           },
           "zerolinecolor": "white",
           "zerolinewidth": 2
          }
         }
        },
        "title": {
         "text": "Impact du nombre de hashtags"
        },
        "xaxis": {
         "title": {
          "text": "Nombre de hashtags des posts viraux"
         }
        },
        "yaxis": {
         "title": {
          "text": "Engagement / Shares"
         }
        }
       }
      }
     },
     "metadata": {},
     "output_type": "display_data"
    }
   ],
   "source": [
    "fig = go.Figure()\n",
    "\n",
    "fig.add_trace(go.Scatter(\n",
    "    x=hashtag_impact.head(10)[\"nbr_hashtags\"],\n",
    "    y=hashtag_impact.head(10)[\"mean_engagement_total\"],\n",
    "    mode='lines+markers',\n",
    "    name='engagement_total'\n",
    "))\n",
    "\n",
    "fig.add_trace(go.Scatter(\n",
    "    x=hashtag_impact.head(10)[\"nbr_hashtags\"],\n",
    "    y=hashtag_impact.head(10)[\"mean_shares\"],\n",
    "    mode='lines+markers',\n",
    "    name='shares'\n",
    "))\n",
    "\n",
    "fig.update_layout(\n",
    "    title=\"Impact du nombre de hashtags\",\n",
    "    xaxis_title=\"Nombre de hashtags des posts viraux\",\n",
    "    yaxis_title=\"Engagement / Shares\",\n",
    "    legend_title=\"Metrics\",\n",
    ")\n",
    "\n",
    "fig.show()"
   ]
  },
  {
   "cell_type": "code",
   "execution_count": 213,
   "id": "74d1ddfc",
   "metadata": {},
   "outputs": [
    {
     "data": {
      "text/plain": [
       "(shape: (1, 1)\n",
       " ┌──────────────────────────────┐\n",
       " │ corr_nbr_hashtags_engagement │\n",
       " │ ---                          │\n",
       " │ f64                          │\n",
       " ╞══════════════════════════════╡\n",
       " │ -0.095003                    │\n",
       " └──────────────────────────────┘,\n",
       " shape: (1, 1)\n",
       " ┌──────────────────────────┐\n",
       " │ corr_nbr_hashtags_shares │\n",
       " │ ---                      │\n",
       " │ f64                      │\n",
       " ╞══════════════════════════╡\n",
       " │ 0.000151                 │\n",
       " └──────────────────────────┘,\n",
       " shape: (1, 1)\n",
       " ┌───────────────────────────┐\n",
       " │ corr_nbr_followers_shares │\n",
       " │ ---                       │\n",
       " │ f64                       │\n",
       " ╞═══════════════════════════╡\n",
       " │ 0.042954                  │\n",
       " └───────────────────────────┘,\n",
       " shape: (1, 1)\n",
       " ┌─────────────────────────────────┐\n",
       " │ corr_nbr_followers_engagement_… │\n",
       " │ ---                             │\n",
       " │ f64                             │\n",
       " ╞═════════════════════════════════╡\n",
       " │ 0.152417                        │\n",
       " └─────────────────────────────────┘)"
      ]
     },
     "execution_count": 213,
     "metadata": {},
     "output_type": "execute_result"
    }
   ],
   "source": [
    "correlation_engagement, correlation_shares, correlation_shares_followers, correlation_engagement_followers"
   ]
  },
  {
   "cell_type": "markdown",
   "id": "0d33ca24",
   "metadata": {},
   "source": [
    "- 1-2 hashtags semblent optimaux pour l’engagement total, avec nbr_hashtags=1 en tête (100.714286).\n",
    "- Les partages augmentent avec 2-7 hashtags (pic à 11,64 pour 7 hashtags), suggérant que les hashtags favorisent la viralité jusqu’à un certain point.\n",
    "Au-delà de 10 hashtags, les résultats sont incohérents (fortes fluctuations, faibles médianes), probablement car ces posts sont rares et parfois perçus comme spammy par l’algorithme LinkedIn ou les utilisateurs.\n",
    "- Les posts sans hashtags (0 hashtag) performent moins bien (65,40 d’engagement, 5,87 partages) que ceux avec 1-2 hashtags, confirmant que les hashtags améliorent la découvrabilité.\n",
    "\n",
    "Par ailleur, la corrélation négative (-0,09 pour l’engagement, 0,0001 pour les partages) indique que le nombre de hashtags n'est pas le principal moteur de performance. La qualité du contenu et la taille du réseau sont plus déterminants"
   ]
  },
  {
   "cell_type": "markdown",
   "id": "68239284",
   "metadata": {},
   "source": [
    "# Hashtags stratégiques"
   ]
  },
  {
   "cell_type": "code",
   "execution_count": 214,
   "id": "e622cefa",
   "metadata": {},
   "outputs": [],
   "source": [
    "viral_posts = df.filter(pl.col(\"is_viral\") == True)\n",
    "hashtags_list = viral_posts[\"hashtags\"].map_elements(\n",
    "    lambda x: [tag.lower() for tag in re.findall(r'#\\w+', x)] if x else [],\n",
    "    return_dtype=pl.List(pl.Utf8)\n",
    ")\n",
    "hashtags_list = [element for sublist in hashtags_list.to_list() for element in (sublist if isinstance(sublist, list) else [sublist])]\n",
    "\n",
    "hashtags_count = pl.DataFrame({\n",
    "    \"hashtag\": hashtags_list\n",
    "}).group_by(\"hashtag\").len().sort(\"len\", descending=True)"
   ]
  },
  {
   "cell_type": "code",
   "execution_count": 239,
   "id": "0fe1e3a1",
   "metadata": {},
   "outputs": [
    {
     "data": {
      "text/html": [
       "<div><style>\n",
       ".dataframe > thead > tr,\n",
       ".dataframe > tbody > tr {\n",
       "  text-align: right;\n",
       "  white-space: pre-wrap;\n",
       "}\n",
       "</style>\n",
       "<small>shape: (15, 2)</small><table border=\"1\" class=\"dataframe\"><thead><tr><th>hashtag</th><th>len</th></tr><tr><td>str</td><td>u32</td></tr></thead><tbody><tr><td>&quot;#workplaceculture&quot;</td><td>42</td></tr><tr><td>&quot;#digitaltransformation&quot;</td><td>34</td></tr><tr><td>&quot;#leadership&quot;</td><td>25</td></tr><tr><td>&quot;#humanresources&quot;</td><td>22</td></tr><tr><td>&quot;#innovation&quot;</td><td>14</td></tr><tr><td>&quot;#hr&quot;</td><td>10</td></tr><tr><td>&quot;#hiring&quot;</td><td>10</td></tr><tr><td>&quot;#futureofwork&quot;</td><td>9</td></tr><tr><td>&quot;#ai&quot;</td><td>8</td></tr><tr><td>&quot;#employeeengagement&quot;</td><td>8</td></tr><tr><td>&quot;#recruitment&quot;</td><td>7</td></tr><tr><td>&quot;#teamwork&quot;</td><td>7</td></tr><tr><td>&quot;#jobsearch&quot;</td><td>7</td></tr><tr><td>&quot;#careergrowth&quot;</td><td>6</td></tr><tr><td>&quot;#hrjobs&quot;</td><td>6</td></tr></tbody></table></div>"
      ],
      "text/plain": [
       "shape: (15, 2)\n",
       "┌────────────────────────┬─────┐\n",
       "│ hashtag                ┆ len │\n",
       "│ ---                    ┆ --- │\n",
       "│ str                    ┆ u32 │\n",
       "╞════════════════════════╪═════╡\n",
       "│ #workplaceculture      ┆ 42  │\n",
       "│ #digitaltransformation ┆ 34  │\n",
       "│ #leadership            ┆ 25  │\n",
       "│ #humanresources        ┆ 22  │\n",
       "│ #innovation            ┆ 14  │\n",
       "│ #hr                    ┆ 10  │\n",
       "│ #hiring                ┆ 10  │\n",
       "│ #futureofwork          ┆ 9   │\n",
       "│ #ai                    ┆ 8   │\n",
       "│ #employeeengagement    ┆ 8   │\n",
       "│ #recruitment           ┆ 7   │\n",
       "│ #teamwork              ┆ 7   │\n",
       "│ #jobsearch             ┆ 7   │\n",
       "│ #careergrowth          ┆ 6   │\n",
       "│ #hrjobs                ┆ 6   │\n",
       "└────────────────────────┴─────┘"
      ]
     },
     "execution_count": 239,
     "metadata": {},
     "output_type": "execute_result"
    }
   ],
   "source": [
    "hashtags_count.head(15).write_parquet(f\"{kpi_folder}/top_viral_hashtags.parquet\")\n",
    "hashtags_count.head(15)"
   ]
  },
  {
   "cell_type": "markdown",
   "id": "1ac88b7b",
   "metadata": {},
   "source": [
    "Répartion des thèmes dans les postes viraux"
   ]
  },
  {
   "cell_type": "code",
   "execution_count": 230,
   "id": "1497e520",
   "metadata": {},
   "outputs": [
    {
     "data": {
      "text/html": [
       "<div><style>\n",
       ".dataframe > thead > tr,\n",
       ".dataframe > tbody > tr {\n",
       "  text-align: right;\n",
       "  white-space: pre-wrap;\n",
       "}\n",
       "</style>\n",
       "<small>shape: (10, 2)</small><table border=\"1\" class=\"dataframe\"><thead><tr><th>theme</th><th>count</th></tr><tr><td>str</td><td>u32</td></tr></thead><tbody><tr><td>&quot;WorkplaceCulture&quot;</td><td>41</td></tr><tr><td>&quot;DigitalTransformation&quot;</td><td>32</td></tr><tr><td>&quot;Technology&quot;</td><td>30</td></tr><tr><td>&quot;Leadership&quot;</td><td>28</td></tr><tr><td>&quot;HumanResources&quot;</td><td>28</td></tr><tr><td>&quot;IA&quot;</td><td>17</td></tr><tr><td>&quot;projet&quot;</td><td>8</td></tr><tr><td>&quot;tutoriel&quot;</td><td>4</td></tr><tr><td>&quot;finance&quot;</td><td>2</td></tr><tr><td>&quot;education&quot;</td><td>1</td></tr></tbody></table></div>"
      ],
      "text/plain": [
       "shape: (10, 2)\n",
       "┌───────────────────────┬───────┐\n",
       "│ theme                 ┆ count │\n",
       "│ ---                   ┆ ---   │\n",
       "│ str                   ┆ u32   │\n",
       "╞═══════════════════════╪═══════╡\n",
       "│ WorkplaceCulture      ┆ 41    │\n",
       "│ DigitalTransformation ┆ 32    │\n",
       "│ Technology            ┆ 30    │\n",
       "│ Leadership            ┆ 28    │\n",
       "│ HumanResources        ┆ 28    │\n",
       "│ IA                    ┆ 17    │\n",
       "│ projet                ┆ 8     │\n",
       "│ tutoriel              ┆ 4     │\n",
       "│ finance               ┆ 2     │\n",
       "│ education             ┆ 1     │\n",
       "└───────────────────────┴───────┘"
      ]
     },
     "execution_count": 230,
     "metadata": {},
     "output_type": "execute_result"
    }
   ],
   "source": [
    "viral_post_theme = viral_posts.group_by(\"theme\").agg(\n",
    "    count=pl.col(\"theme\").count()\n",
    ").sort(\"count\", descending=True)\n",
    "viral_post_theme"
   ]
  },
  {
   "cell_type": "code",
   "execution_count": 231,
   "id": "1d462556",
   "metadata": {},
   "outputs": [],
   "source": [
    "viral_post_theme.write_parquet(f\"{kpi_folder}/viral_post_theme_repartition.parquet\")"
   ]
  },
  {
   "cell_type": "code",
   "execution_count": 233,
   "id": "8b97a53c",
   "metadata": {},
   "outputs": [
    {
     "data": {
      "application/vnd.plotly.v1+json": {
       "config": {
        "plotlyServerURL": "https://plot.ly"
       },
       "data": [
        {
         "domain": {
          "x": [
           0,
           1
          ],
          "y": [
           0,
           1
          ]
         },
         "hovertemplate": "theme=%{label}<br>count=%{value}<extra></extra>",
         "labels": [
          "WorkplaceCulture",
          "DigitalTransformation",
          "Technology",
          "Leadership",
          "HumanResources",
          "IA",
          "projet",
          "tutoriel",
          "finance",
          "education"
         ],
         "legendgroup": "",
         "name": "",
         "showlegend": true,
         "type": "pie",
         "values": {
          "bdata": "KQAAACAAAAAeAAAAHAAAABwAAAARAAAACAAAAAQAAAACAAAAAQAAAA==",
          "dtype": "u4"
         }
        }
       ],
       "layout": {
        "legend": {
         "tracegroupgap": 0
        },
        "template": {
         "data": {
          "bar": [
           {
            "error_x": {
             "color": "#2a3f5f"
            },
            "error_y": {
             "color": "#2a3f5f"
            },
            "marker": {
             "line": {
              "color": "#E5ECF6",
              "width": 0.5
             },
             "pattern": {
              "fillmode": "overlay",
              "size": 10,
              "solidity": 0.2
             }
            },
            "type": "bar"
           }
          ],
          "barpolar": [
           {
            "marker": {
             "line": {
              "color": "#E5ECF6",
              "width": 0.5
             },
             "pattern": {
              "fillmode": "overlay",
              "size": 10,
              "solidity": 0.2
             }
            },
            "type": "barpolar"
           }
          ],
          "carpet": [
           {
            "aaxis": {
             "endlinecolor": "#2a3f5f",
             "gridcolor": "white",
             "linecolor": "white",
             "minorgridcolor": "white",
             "startlinecolor": "#2a3f5f"
            },
            "baxis": {
             "endlinecolor": "#2a3f5f",
             "gridcolor": "white",
             "linecolor": "white",
             "minorgridcolor": "white",
             "startlinecolor": "#2a3f5f"
            },
            "type": "carpet"
           }
          ],
          "choropleth": [
           {
            "colorbar": {
             "outlinewidth": 0,
             "ticks": ""
            },
            "type": "choropleth"
           }
          ],
          "contour": [
           {
            "colorbar": {
             "outlinewidth": 0,
             "ticks": ""
            },
            "colorscale": [
             [
              0,
              "#0d0887"
             ],
             [
              0.1111111111111111,
              "#46039f"
             ],
             [
              0.2222222222222222,
              "#7201a8"
             ],
             [
              0.3333333333333333,
              "#9c179e"
             ],
             [
              0.4444444444444444,
              "#bd3786"
             ],
             [
              0.5555555555555556,
              "#d8576b"
             ],
             [
              0.6666666666666666,
              "#ed7953"
             ],
             [
              0.7777777777777778,
              "#fb9f3a"
             ],
             [
              0.8888888888888888,
              "#fdca26"
             ],
             [
              1,
              "#f0f921"
             ]
            ],
            "type": "contour"
           }
          ],
          "contourcarpet": [
           {
            "colorbar": {
             "outlinewidth": 0,
             "ticks": ""
            },
            "type": "contourcarpet"
           }
          ],
          "heatmap": [
           {
            "colorbar": {
             "outlinewidth": 0,
             "ticks": ""
            },
            "colorscale": [
             [
              0,
              "#0d0887"
             ],
             [
              0.1111111111111111,
              "#46039f"
             ],
             [
              0.2222222222222222,
              "#7201a8"
             ],
             [
              0.3333333333333333,
              "#9c179e"
             ],
             [
              0.4444444444444444,
              "#bd3786"
             ],
             [
              0.5555555555555556,
              "#d8576b"
             ],
             [
              0.6666666666666666,
              "#ed7953"
             ],
             [
              0.7777777777777778,
              "#fb9f3a"
             ],
             [
              0.8888888888888888,
              "#fdca26"
             ],
             [
              1,
              "#f0f921"
             ]
            ],
            "type": "heatmap"
           }
          ],
          "histogram": [
           {
            "marker": {
             "pattern": {
              "fillmode": "overlay",
              "size": 10,
              "solidity": 0.2
             }
            },
            "type": "histogram"
           }
          ],
          "histogram2d": [
           {
            "colorbar": {
             "outlinewidth": 0,
             "ticks": ""
            },
            "colorscale": [
             [
              0,
              "#0d0887"
             ],
             [
              0.1111111111111111,
              "#46039f"
             ],
             [
              0.2222222222222222,
              "#7201a8"
             ],
             [
              0.3333333333333333,
              "#9c179e"
             ],
             [
              0.4444444444444444,
              "#bd3786"
             ],
             [
              0.5555555555555556,
              "#d8576b"
             ],
             [
              0.6666666666666666,
              "#ed7953"
             ],
             [
              0.7777777777777778,
              "#fb9f3a"
             ],
             [
              0.8888888888888888,
              "#fdca26"
             ],
             [
              1,
              "#f0f921"
             ]
            ],
            "type": "histogram2d"
           }
          ],
          "histogram2dcontour": [
           {
            "colorbar": {
             "outlinewidth": 0,
             "ticks": ""
            },
            "colorscale": [
             [
              0,
              "#0d0887"
             ],
             [
              0.1111111111111111,
              "#46039f"
             ],
             [
              0.2222222222222222,
              "#7201a8"
             ],
             [
              0.3333333333333333,
              "#9c179e"
             ],
             [
              0.4444444444444444,
              "#bd3786"
             ],
             [
              0.5555555555555556,
              "#d8576b"
             ],
             [
              0.6666666666666666,
              "#ed7953"
             ],
             [
              0.7777777777777778,
              "#fb9f3a"
             ],
             [
              0.8888888888888888,
              "#fdca26"
             ],
             [
              1,
              "#f0f921"
             ]
            ],
            "type": "histogram2dcontour"
           }
          ],
          "mesh3d": [
           {
            "colorbar": {
             "outlinewidth": 0,
             "ticks": ""
            },
            "type": "mesh3d"
           }
          ],
          "parcoords": [
           {
            "line": {
             "colorbar": {
              "outlinewidth": 0,
              "ticks": ""
             }
            },
            "type": "parcoords"
           }
          ],
          "pie": [
           {
            "automargin": true,
            "type": "pie"
           }
          ],
          "scatter": [
           {
            "fillpattern": {
             "fillmode": "overlay",
             "size": 10,
             "solidity": 0.2
            },
            "type": "scatter"
           }
          ],
          "scatter3d": [
           {
            "line": {
             "colorbar": {
              "outlinewidth": 0,
              "ticks": ""
             }
            },
            "marker": {
             "colorbar": {
              "outlinewidth": 0,
              "ticks": ""
             }
            },
            "type": "scatter3d"
           }
          ],
          "scattercarpet": [
           {
            "marker": {
             "colorbar": {
              "outlinewidth": 0,
              "ticks": ""
             }
            },
            "type": "scattercarpet"
           }
          ],
          "scattergeo": [
           {
            "marker": {
             "colorbar": {
              "outlinewidth": 0,
              "ticks": ""
             }
            },
            "type": "scattergeo"
           }
          ],
          "scattergl": [
           {
            "marker": {
             "colorbar": {
              "outlinewidth": 0,
              "ticks": ""
             }
            },
            "type": "scattergl"
           }
          ],
          "scattermap": [
           {
            "marker": {
             "colorbar": {
              "outlinewidth": 0,
              "ticks": ""
             }
            },
            "type": "scattermap"
           }
          ],
          "scattermapbox": [
           {
            "marker": {
             "colorbar": {
              "outlinewidth": 0,
              "ticks": ""
             }
            },
            "type": "scattermapbox"
           }
          ],
          "scatterpolar": [
           {
            "marker": {
             "colorbar": {
              "outlinewidth": 0,
              "ticks": ""
             }
            },
            "type": "scatterpolar"
           }
          ],
          "scatterpolargl": [
           {
            "marker": {
             "colorbar": {
              "outlinewidth": 0,
              "ticks": ""
             }
            },
            "type": "scatterpolargl"
           }
          ],
          "scatterternary": [
           {
            "marker": {
             "colorbar": {
              "outlinewidth": 0,
              "ticks": ""
             }
            },
            "type": "scatterternary"
           }
          ],
          "surface": [
           {
            "colorbar": {
             "outlinewidth": 0,
             "ticks": ""
            },
            "colorscale": [
             [
              0,
              "#0d0887"
             ],
             [
              0.1111111111111111,
              "#46039f"
             ],
             [
              0.2222222222222222,
              "#7201a8"
             ],
             [
              0.3333333333333333,
              "#9c179e"
             ],
             [
              0.4444444444444444,
              "#bd3786"
             ],
             [
              0.5555555555555556,
              "#d8576b"
             ],
             [
              0.6666666666666666,
              "#ed7953"
             ],
             [
              0.7777777777777778,
              "#fb9f3a"
             ],
             [
              0.8888888888888888,
              "#fdca26"
             ],
             [
              1,
              "#f0f921"
             ]
            ],
            "type": "surface"
           }
          ],
          "table": [
           {
            "cells": {
             "fill": {
              "color": "#EBF0F8"
             },
             "line": {
              "color": "white"
             }
            },
            "header": {
             "fill": {
              "color": "#C8D4E3"
             },
             "line": {
              "color": "white"
             }
            },
            "type": "table"
           }
          ]
         },
         "layout": {
          "annotationdefaults": {
           "arrowcolor": "#2a3f5f",
           "arrowhead": 0,
           "arrowwidth": 1
          },
          "autotypenumbers": "strict",
          "coloraxis": {
           "colorbar": {
            "outlinewidth": 0,
            "ticks": ""
           }
          },
          "colorscale": {
           "diverging": [
            [
             0,
             "#8e0152"
            ],
            [
             0.1,
             "#c51b7d"
            ],
            [
             0.2,
             "#de77ae"
            ],
            [
             0.3,
             "#f1b6da"
            ],
            [
             0.4,
             "#fde0ef"
            ],
            [
             0.5,
             "#f7f7f7"
            ],
            [
             0.6,
             "#e6f5d0"
            ],
            [
             0.7,
             "#b8e186"
            ],
            [
             0.8,
             "#7fbc41"
            ],
            [
             0.9,
             "#4d9221"
            ],
            [
             1,
             "#276419"
            ]
           ],
           "sequential": [
            [
             0,
             "#0d0887"
            ],
            [
             0.1111111111111111,
             "#46039f"
            ],
            [
             0.2222222222222222,
             "#7201a8"
            ],
            [
             0.3333333333333333,
             "#9c179e"
            ],
            [
             0.4444444444444444,
             "#bd3786"
            ],
            [
             0.5555555555555556,
             "#d8576b"
            ],
            [
             0.6666666666666666,
             "#ed7953"
            ],
            [
             0.7777777777777778,
             "#fb9f3a"
            ],
            [
             0.8888888888888888,
             "#fdca26"
            ],
            [
             1,
             "#f0f921"
            ]
           ],
           "sequentialminus": [
            [
             0,
             "#0d0887"
            ],
            [
             0.1111111111111111,
             "#46039f"
            ],
            [
             0.2222222222222222,
             "#7201a8"
            ],
            [
             0.3333333333333333,
             "#9c179e"
            ],
            [
             0.4444444444444444,
             "#bd3786"
            ],
            [
             0.5555555555555556,
             "#d8576b"
            ],
            [
             0.6666666666666666,
             "#ed7953"
            ],
            [
             0.7777777777777778,
             "#fb9f3a"
            ],
            [
             0.8888888888888888,
             "#fdca26"
            ],
            [
             1,
             "#f0f921"
            ]
           ]
          },
          "colorway": [
           "#636efa",
           "#EF553B",
           "#00cc96",
           "#ab63fa",
           "#FFA15A",
           "#19d3f3",
           "#FF6692",
           "#B6E880",
           "#FF97FF",
           "#FECB52"
          ],
          "font": {
           "color": "#2a3f5f"
          },
          "geo": {
           "bgcolor": "white",
           "lakecolor": "white",
           "landcolor": "#E5ECF6",
           "showlakes": true,
           "showland": true,
           "subunitcolor": "white"
          },
          "hoverlabel": {
           "align": "left"
          },
          "hovermode": "closest",
          "mapbox": {
           "style": "light"
          },
          "paper_bgcolor": "white",
          "plot_bgcolor": "#E5ECF6",
          "polar": {
           "angularaxis": {
            "gridcolor": "white",
            "linecolor": "white",
            "ticks": ""
           },
           "bgcolor": "#E5ECF6",
           "radialaxis": {
            "gridcolor": "white",
            "linecolor": "white",
            "ticks": ""
           }
          },
          "scene": {
           "xaxis": {
            "backgroundcolor": "#E5ECF6",
            "gridcolor": "white",
            "gridwidth": 2,
            "linecolor": "white",
            "showbackground": true,
            "ticks": "",
            "zerolinecolor": "white"
           },
           "yaxis": {
            "backgroundcolor": "#E5ECF6",
            "gridcolor": "white",
            "gridwidth": 2,
            "linecolor": "white",
            "showbackground": true,
            "ticks": "",
            "zerolinecolor": "white"
           },
           "zaxis": {
            "backgroundcolor": "#E5ECF6",
            "gridcolor": "white",
            "gridwidth": 2,
            "linecolor": "white",
            "showbackground": true,
            "ticks": "",
            "zerolinecolor": "white"
           }
          },
          "shapedefaults": {
           "line": {
            "color": "#2a3f5f"
           }
          },
          "ternary": {
           "aaxis": {
            "gridcolor": "white",
            "linecolor": "white",
            "ticks": ""
           },
           "baxis": {
            "gridcolor": "white",
            "linecolor": "white",
            "ticks": ""
           },
           "bgcolor": "#E5ECF6",
           "caxis": {
            "gridcolor": "white",
            "linecolor": "white",
            "ticks": ""
           }
          },
          "title": {
           "x": 0.05
          },
          "xaxis": {
           "automargin": true,
           "gridcolor": "white",
           "linecolor": "white",
           "ticks": "",
           "title": {
            "standoff": 15
           },
           "zerolinecolor": "white",
           "zerolinewidth": 2
          },
          "yaxis": {
           "automargin": true,
           "gridcolor": "white",
           "linecolor": "white",
           "ticks": "",
           "title": {
            "standoff": 15
           },
           "zerolinecolor": "white",
           "zerolinewidth": 2
          }
         }
        },
        "title": {
         "text": "Réprtition des thèmes par nombre de post viraux"
        }
       }
      }
     },
     "metadata": {},
     "output_type": "display_data"
    }
   ],
   "source": [
    "fig = px.pie(\n",
    "    viral_post_theme.to_pandas(),\n",
    "    names=\"theme\",\n",
    "    values=\"count\",\n",
    "    title=\"Réprtition des thèmes par nombre de post viraux\"\n",
    ")\n",
    "\n",
    "fig.show()"
   ]
  },
  {
   "cell_type": "markdown",
   "id": "561178a3",
   "metadata": {},
   "source": [
    "- WorkplaceCulture (42 posts, ~21% des 191 posts viraux) est le thème le plus fréquent, DigitalTransformation (32 posts, ~15,0%), HumanResources (28 posts, ~14,7%), et Leadership (28 posts, ~14%), suivi de IA (17 posts, ~8%), .\n",
    "Ces thèmes reflètent des sujets B2B (Business to Business) populaires sur LinkedIn : culture d’entreprise, intelligence artificielle, transformation numérique, gestion des talents, et leadership.\n",
    "Un post de qualités sur ces thèmes avec des #tags directement alignés avec la thématique (#ia ou #ai pour un post abordant la thématique IA) a de forte chance d'être viral.\n",
    "\n",
    "- Par contre un post abordant les thématiques comme IA, Leadership, tutoriel, projet, education a de forte forte chance d'impliquer un fort engagement. Car ces thèmes reflètent des sujets attractifs pour l’audience LinkedIn : IA (technologie en plein essor), Leadership (inspiration professionnelle), et projets/finance/éducation (pratiques et apprentissage)."
   ]
  },
  {
   "cell_type": "code",
   "execution_count": 235,
   "id": "942ee255",
   "metadata": {},
   "outputs": [],
   "source": [
    "fort_engagement_df = df_engagement.filter(\n",
    "    pl.col(\"engagement_category\")==\"Fort\"\n",
    ")"
   ]
  },
  {
   "cell_type": "code",
   "execution_count": 237,
   "id": "da5f4af2",
   "metadata": {},
   "outputs": [
    {
     "data": {
      "text/html": [
       "<div><style>\n",
       ".dataframe > thead > tr,\n",
       ".dataframe > tbody > tr {\n",
       "  text-align: right;\n",
       "  white-space: pre-wrap;\n",
       "}\n",
       "</style>\n",
       "<small>shape: (10, 2)</small><table border=\"1\" class=\"dataframe\"><thead><tr><th>theme</th><th>count</th></tr><tr><td>str</td><td>u32</td></tr></thead><tbody><tr><td>&quot;projet&quot;</td><td>32</td></tr><tr><td>&quot;Leadership&quot;</td><td>30</td></tr><tr><td>&quot;finance&quot;</td><td>29</td></tr><tr><td>&quot;DigitalTransformation&quot;</td><td>16</td></tr><tr><td>&quot;tutoriel&quot;</td><td>16</td></tr><tr><td>&quot;Technology&quot;</td><td>16</td></tr><tr><td>&quot;IA&quot;</td><td>14</td></tr><tr><td>&quot;WorkplaceCulture&quot;</td><td>13</td></tr><tr><td>&quot;HumanResources&quot;</td><td>12</td></tr><tr><td>&quot;education&quot;</td><td>8</td></tr></tbody></table></div>"
      ],
      "text/plain": [
       "shape: (10, 2)\n",
       "┌───────────────────────┬───────┐\n",
       "│ theme                 ┆ count │\n",
       "│ ---                   ┆ ---   │\n",
       "│ str                   ┆ u32   │\n",
       "╞═══════════════════════╪═══════╡\n",
       "│ projet                ┆ 32    │\n",
       "│ Leadership            ┆ 30    │\n",
       "│ finance               ┆ 29    │\n",
       "│ DigitalTransformation ┆ 16    │\n",
       "│ tutoriel              ┆ 16    │\n",
       "│ Technology            ┆ 16    │\n",
       "│ IA                    ┆ 14    │\n",
       "│ WorkplaceCulture      ┆ 13    │\n",
       "│ HumanResources        ┆ 12    │\n",
       "│ education             ┆ 8     │\n",
       "└───────────────────────┴───────┘"
      ]
     },
     "execution_count": 237,
     "metadata": {},
     "output_type": "execute_result"
    }
   ],
   "source": [
    "engagement_post_theme = fort_engagement_df.group_by(\"theme\").agg(\n",
    "    count=pl.col(\"theme\").count()\n",
    ").sort(\"count\", descending=True)\n",
    "engagement_post_theme.write_parquet(f\"{kpi_folder}/engagement_post_theme.parquet\")\n",
    "engagement_post_theme"
   ]
  },
  {
   "cell_type": "code",
   "execution_count": 240,
   "id": "066e6a07",
   "metadata": {},
   "outputs": [
    {
     "data": {
      "text/html": [
       "<div><style>\n",
       ".dataframe > thead > tr,\n",
       ".dataframe > tbody > tr {\n",
       "  text-align: right;\n",
       "  white-space: pre-wrap;\n",
       "}\n",
       "</style>\n",
       "<small>shape: (10, 2)</small><table border=\"1\" class=\"dataframe\"><thead><tr><th>hashtag</th><th>len</th></tr><tr><td>str</td><td>u32</td></tr></thead><tbody><tr><td>&quot;#digitaltransformation&quot;</td><td>16</td></tr><tr><td>&quot;#leadership&quot;</td><td>13</td></tr><tr><td>&quot;#workplaceculture&quot;</td><td>13</td></tr><tr><td>&quot;#innovation&quot;</td><td>11</td></tr><tr><td>&quot;#humanresources&quot;</td><td>10</td></tr><tr><td>&quot;#hr&quot;</td><td>7</td></tr><tr><td>&quot;#hiring&quot;</td><td>6</td></tr><tr><td>&quot;#jobsearch&quot;</td><td>6</td></tr><tr><td>&quot;#datawithben&quot;</td><td>5</td></tr><tr><td>&quot;#recruitment&quot;</td><td>5</td></tr></tbody></table></div>"
      ],
      "text/plain": [
       "shape: (10, 2)\n",
       "┌────────────────────────┬─────┐\n",
       "│ hashtag                ┆ len │\n",
       "│ ---                    ┆ --- │\n",
       "│ str                    ┆ u32 │\n",
       "╞════════════════════════╪═════╡\n",
       "│ #digitaltransformation ┆ 16  │\n",
       "│ #leadership            ┆ 13  │\n",
       "│ #workplaceculture      ┆ 13  │\n",
       "│ #innovation            ┆ 11  │\n",
       "│ #humanresources        ┆ 10  │\n",
       "│ #hr                    ┆ 7   │\n",
       "│ #hiring                ┆ 6   │\n",
       "│ #jobsearch             ┆ 6   │\n",
       "│ #datawithben           ┆ 5   │\n",
       "│ #recruitment           ┆ 5   │\n",
       "└────────────────────────┴─────┘"
      ]
     },
     "execution_count": 240,
     "metadata": {},
     "output_type": "execute_result"
    }
   ],
   "source": [
    "engagement_hashtags_list = fort_engagement_df[\"hashtags\"].map_elements(\n",
    "    lambda x: [tag.lower() for tag in re.findall(r'#\\w+', x)] if x else [],\n",
    "    return_dtype=pl.List(pl.Utf8)\n",
    ")\n",
    "engagement_hashtags_list = [element for sublist in engagement_hashtags_list.to_list() for element in (sublist if isinstance(sublist, list) else [sublist])]\n",
    "\n",
    "engagement_hashtags_count = pl.DataFrame({\n",
    "    \"hashtag\": engagement_hashtags_list\n",
    "}).group_by(\"hashtag\").len().sort(\"len\", descending=True)\n",
    "engagement_hashtags_count.head(10).write_parquet(f\"{kpi_folder}/top_engagement_hashtags.parquet\")\n",
    "engagement_hashtags_count.head(10)"
   ]
  },
  {
   "cell_type": "code",
   "execution_count": 241,
   "id": "798b70d9",
   "metadata": {},
   "outputs": [
    {
     "data": {
      "application/vnd.plotly.v1+json": {
       "config": {
        "plotlyServerURL": "https://plot.ly"
       },
       "data": [
        {
         "domain": {
          "x": [
           0,
           1
          ],
          "y": [
           0,
           1
          ]
         },
         "hovertemplate": "theme=%{label}<br>count=%{value}<extra></extra>",
         "labels": [
          "projet",
          "Leadership",
          "finance",
          "DigitalTransformation",
          "tutoriel",
          "Technology",
          "IA",
          "WorkplaceCulture",
          "HumanResources",
          "education"
         ],
         "legendgroup": "",
         "name": "",
         "showlegend": true,
         "type": "pie",
         "values": {
          "bdata": "IAAAAB4AAAAdAAAAEAAAABAAAAAQAAAADgAAAA0AAAAMAAAACAAAAA==",
          "dtype": "u4"
         }
        }
       ],
       "layout": {
        "legend": {
         "tracegroupgap": 0
        },
        "template": {
         "data": {
          "bar": [
           {
            "error_x": {
             "color": "#2a3f5f"
            },
            "error_y": {
             "color": "#2a3f5f"
            },
            "marker": {
             "line": {
              "color": "#E5ECF6",
              "width": 0.5
             },
             "pattern": {
              "fillmode": "overlay",
              "size": 10,
              "solidity": 0.2
             }
            },
            "type": "bar"
           }
          ],
          "barpolar": [
           {
            "marker": {
             "line": {
              "color": "#E5ECF6",
              "width": 0.5
             },
             "pattern": {
              "fillmode": "overlay",
              "size": 10,
              "solidity": 0.2
             }
            },
            "type": "barpolar"
           }
          ],
          "carpet": [
           {
            "aaxis": {
             "endlinecolor": "#2a3f5f",
             "gridcolor": "white",
             "linecolor": "white",
             "minorgridcolor": "white",
             "startlinecolor": "#2a3f5f"
            },
            "baxis": {
             "endlinecolor": "#2a3f5f",
             "gridcolor": "white",
             "linecolor": "white",
             "minorgridcolor": "white",
             "startlinecolor": "#2a3f5f"
            },
            "type": "carpet"
           }
          ],
          "choropleth": [
           {
            "colorbar": {
             "outlinewidth": 0,
             "ticks": ""
            },
            "type": "choropleth"
           }
          ],
          "contour": [
           {
            "colorbar": {
             "outlinewidth": 0,
             "ticks": ""
            },
            "colorscale": [
             [
              0,
              "#0d0887"
             ],
             [
              0.1111111111111111,
              "#46039f"
             ],
             [
              0.2222222222222222,
              "#7201a8"
             ],
             [
              0.3333333333333333,
              "#9c179e"
             ],
             [
              0.4444444444444444,
              "#bd3786"
             ],
             [
              0.5555555555555556,
              "#d8576b"
             ],
             [
              0.6666666666666666,
              "#ed7953"
             ],
             [
              0.7777777777777778,
              "#fb9f3a"
             ],
             [
              0.8888888888888888,
              "#fdca26"
             ],
             [
              1,
              "#f0f921"
             ]
            ],
            "type": "contour"
           }
          ],
          "contourcarpet": [
           {
            "colorbar": {
             "outlinewidth": 0,
             "ticks": ""
            },
            "type": "contourcarpet"
           }
          ],
          "heatmap": [
           {
            "colorbar": {
             "outlinewidth": 0,
             "ticks": ""
            },
            "colorscale": [
             [
              0,
              "#0d0887"
             ],
             [
              0.1111111111111111,
              "#46039f"
             ],
             [
              0.2222222222222222,
              "#7201a8"
             ],
             [
              0.3333333333333333,
              "#9c179e"
             ],
             [
              0.4444444444444444,
              "#bd3786"
             ],
             [
              0.5555555555555556,
              "#d8576b"
             ],
             [
              0.6666666666666666,
              "#ed7953"
             ],
             [
              0.7777777777777778,
              "#fb9f3a"
             ],
             [
              0.8888888888888888,
              "#fdca26"
             ],
             [
              1,
              "#f0f921"
             ]
            ],
            "type": "heatmap"
           }
          ],
          "histogram": [
           {
            "marker": {
             "pattern": {
              "fillmode": "overlay",
              "size": 10,
              "solidity": 0.2
             }
            },
            "type": "histogram"
           }
          ],
          "histogram2d": [
           {
            "colorbar": {
             "outlinewidth": 0,
             "ticks": ""
            },
            "colorscale": [
             [
              0,
              "#0d0887"
             ],
             [
              0.1111111111111111,
              "#46039f"
             ],
             [
              0.2222222222222222,
              "#7201a8"
             ],
             [
              0.3333333333333333,
              "#9c179e"
             ],
             [
              0.4444444444444444,
              "#bd3786"
             ],
             [
              0.5555555555555556,
              "#d8576b"
             ],
             [
              0.6666666666666666,
              "#ed7953"
             ],
             [
              0.7777777777777778,
              "#fb9f3a"
             ],
             [
              0.8888888888888888,
              "#fdca26"
             ],
             [
              1,
              "#f0f921"
             ]
            ],
            "type": "histogram2d"
           }
          ],
          "histogram2dcontour": [
           {
            "colorbar": {
             "outlinewidth": 0,
             "ticks": ""
            },
            "colorscale": [
             [
              0,
              "#0d0887"
             ],
             [
              0.1111111111111111,
              "#46039f"
             ],
             [
              0.2222222222222222,
              "#7201a8"
             ],
             [
              0.3333333333333333,
              "#9c179e"
             ],
             [
              0.4444444444444444,
              "#bd3786"
             ],
             [
              0.5555555555555556,
              "#d8576b"
             ],
             [
              0.6666666666666666,
              "#ed7953"
             ],
             [
              0.7777777777777778,
              "#fb9f3a"
             ],
             [
              0.8888888888888888,
              "#fdca26"
             ],
             [
              1,
              "#f0f921"
             ]
            ],
            "type": "histogram2dcontour"
           }
          ],
          "mesh3d": [
           {
            "colorbar": {
             "outlinewidth": 0,
             "ticks": ""
            },
            "type": "mesh3d"
           }
          ],
          "parcoords": [
           {
            "line": {
             "colorbar": {
              "outlinewidth": 0,
              "ticks": ""
             }
            },
            "type": "parcoords"
           }
          ],
          "pie": [
           {
            "automargin": true,
            "type": "pie"
           }
          ],
          "scatter": [
           {
            "fillpattern": {
             "fillmode": "overlay",
             "size": 10,
             "solidity": 0.2
            },
            "type": "scatter"
           }
          ],
          "scatter3d": [
           {
            "line": {
             "colorbar": {
              "outlinewidth": 0,
              "ticks": ""
             }
            },
            "marker": {
             "colorbar": {
              "outlinewidth": 0,
              "ticks": ""
             }
            },
            "type": "scatter3d"
           }
          ],
          "scattercarpet": [
           {
            "marker": {
             "colorbar": {
              "outlinewidth": 0,
              "ticks": ""
             }
            },
            "type": "scattercarpet"
           }
          ],
          "scattergeo": [
           {
            "marker": {
             "colorbar": {
              "outlinewidth": 0,
              "ticks": ""
             }
            },
            "type": "scattergeo"
           }
          ],
          "scattergl": [
           {
            "marker": {
             "colorbar": {
              "outlinewidth": 0,
              "ticks": ""
             }
            },
            "type": "scattergl"
           }
          ],
          "scattermap": [
           {
            "marker": {
             "colorbar": {
              "outlinewidth": 0,
              "ticks": ""
             }
            },
            "type": "scattermap"
           }
          ],
          "scattermapbox": [
           {
            "marker": {
             "colorbar": {
              "outlinewidth": 0,
              "ticks": ""
             }
            },
            "type": "scattermapbox"
           }
          ],
          "scatterpolar": [
           {
            "marker": {
             "colorbar": {
              "outlinewidth": 0,
              "ticks": ""
             }
            },
            "type": "scatterpolar"
           }
          ],
          "scatterpolargl": [
           {
            "marker": {
             "colorbar": {
              "outlinewidth": 0,
              "ticks": ""
             }
            },
            "type": "scatterpolargl"
           }
          ],
          "scatterternary": [
           {
            "marker": {
             "colorbar": {
              "outlinewidth": 0,
              "ticks": ""
             }
            },
            "type": "scatterternary"
           }
          ],
          "surface": [
           {
            "colorbar": {
             "outlinewidth": 0,
             "ticks": ""
            },
            "colorscale": [
             [
              0,
              "#0d0887"
             ],
             [
              0.1111111111111111,
              "#46039f"
             ],
             [
              0.2222222222222222,
              "#7201a8"
             ],
             [
              0.3333333333333333,
              "#9c179e"
             ],
             [
              0.4444444444444444,
              "#bd3786"
             ],
             [
              0.5555555555555556,
              "#d8576b"
             ],
             [
              0.6666666666666666,
              "#ed7953"
             ],
             [
              0.7777777777777778,
              "#fb9f3a"
             ],
             [
              0.8888888888888888,
              "#fdca26"
             ],
             [
              1,
              "#f0f921"
             ]
            ],
            "type": "surface"
           }
          ],
          "table": [
           {
            "cells": {
             "fill": {
              "color": "#EBF0F8"
             },
             "line": {
              "color": "white"
             }
            },
            "header": {
             "fill": {
              "color": "#C8D4E3"
             },
             "line": {
              "color": "white"
             }
            },
            "type": "table"
           }
          ]
         },
         "layout": {
          "annotationdefaults": {
           "arrowcolor": "#2a3f5f",
           "arrowhead": 0,
           "arrowwidth": 1
          },
          "autotypenumbers": "strict",
          "coloraxis": {
           "colorbar": {
            "outlinewidth": 0,
            "ticks": ""
           }
          },
          "colorscale": {
           "diverging": [
            [
             0,
             "#8e0152"
            ],
            [
             0.1,
             "#c51b7d"
            ],
            [
             0.2,
             "#de77ae"
            ],
            [
             0.3,
             "#f1b6da"
            ],
            [
             0.4,
             "#fde0ef"
            ],
            [
             0.5,
             "#f7f7f7"
            ],
            [
             0.6,
             "#e6f5d0"
            ],
            [
             0.7,
             "#b8e186"
            ],
            [
             0.8,
             "#7fbc41"
            ],
            [
             0.9,
             "#4d9221"
            ],
            [
             1,
             "#276419"
            ]
           ],
           "sequential": [
            [
             0,
             "#0d0887"
            ],
            [
             0.1111111111111111,
             "#46039f"
            ],
            [
             0.2222222222222222,
             "#7201a8"
            ],
            [
             0.3333333333333333,
             "#9c179e"
            ],
            [
             0.4444444444444444,
             "#bd3786"
            ],
            [
             0.5555555555555556,
             "#d8576b"
            ],
            [
             0.6666666666666666,
             "#ed7953"
            ],
            [
             0.7777777777777778,
             "#fb9f3a"
            ],
            [
             0.8888888888888888,
             "#fdca26"
            ],
            [
             1,
             "#f0f921"
            ]
           ],
           "sequentialminus": [
            [
             0,
             "#0d0887"
            ],
            [
             0.1111111111111111,
             "#46039f"
            ],
            [
             0.2222222222222222,
             "#7201a8"
            ],
            [
             0.3333333333333333,
             "#9c179e"
            ],
            [
             0.4444444444444444,
             "#bd3786"
            ],
            [
             0.5555555555555556,
             "#d8576b"
            ],
            [
             0.6666666666666666,
             "#ed7953"
            ],
            [
             0.7777777777777778,
             "#fb9f3a"
            ],
            [
             0.8888888888888888,
             "#fdca26"
            ],
            [
             1,
             "#f0f921"
            ]
           ]
          },
          "colorway": [
           "#636efa",
           "#EF553B",
           "#00cc96",
           "#ab63fa",
           "#FFA15A",
           "#19d3f3",
           "#FF6692",
           "#B6E880",
           "#FF97FF",
           "#FECB52"
          ],
          "font": {
           "color": "#2a3f5f"
          },
          "geo": {
           "bgcolor": "white",
           "lakecolor": "white",
           "landcolor": "#E5ECF6",
           "showlakes": true,
           "showland": true,
           "subunitcolor": "white"
          },
          "hoverlabel": {
           "align": "left"
          },
          "hovermode": "closest",
          "mapbox": {
           "style": "light"
          },
          "paper_bgcolor": "white",
          "plot_bgcolor": "#E5ECF6",
          "polar": {
           "angularaxis": {
            "gridcolor": "white",
            "linecolor": "white",
            "ticks": ""
           },
           "bgcolor": "#E5ECF6",
           "radialaxis": {
            "gridcolor": "white",
            "linecolor": "white",
            "ticks": ""
           }
          },
          "scene": {
           "xaxis": {
            "backgroundcolor": "#E5ECF6",
            "gridcolor": "white",
            "gridwidth": 2,
            "linecolor": "white",
            "showbackground": true,
            "ticks": "",
            "zerolinecolor": "white"
           },
           "yaxis": {
            "backgroundcolor": "#E5ECF6",
            "gridcolor": "white",
            "gridwidth": 2,
            "linecolor": "white",
            "showbackground": true,
            "ticks": "",
            "zerolinecolor": "white"
           },
           "zaxis": {
            "backgroundcolor": "#E5ECF6",
            "gridcolor": "white",
            "gridwidth": 2,
            "linecolor": "white",
            "showbackground": true,
            "ticks": "",
            "zerolinecolor": "white"
           }
          },
          "shapedefaults": {
           "line": {
            "color": "#2a3f5f"
           }
          },
          "ternary": {
           "aaxis": {
            "gridcolor": "white",
            "linecolor": "white",
            "ticks": ""
           },
           "baxis": {
            "gridcolor": "white",
            "linecolor": "white",
            "ticks": ""
           },
           "bgcolor": "#E5ECF6",
           "caxis": {
            "gridcolor": "white",
            "linecolor": "white",
            "ticks": ""
           }
          },
          "title": {
           "x": 0.05
          },
          "xaxis": {
           "automargin": true,
           "gridcolor": "white",
           "linecolor": "white",
           "ticks": "",
           "title": {
            "standoff": 15
           },
           "zerolinecolor": "white",
           "zerolinewidth": 2
          },
          "yaxis": {
           "automargin": true,
           "gridcolor": "white",
           "linecolor": "white",
           "ticks": "",
           "title": {
            "standoff": 15
           },
           "zerolinecolor": "white",
           "zerolinewidth": 2
          }
         }
        },
        "title": {
         "text": "Réprtition des thèmes par nombre de post à fort engagement"
        }
       }
      }
     },
     "metadata": {},
     "output_type": "display_data"
    }
   ],
   "source": [
    "fig = px.pie(\n",
    "    engagement_post_theme.to_pandas(),\n",
    "    names=\"theme\",\n",
    "    values=\"count\",\n",
    "    title=\"Réprtition des thèmes par nombre de post à fort engagement\"\n",
    ")\n",
    "\n",
    "fig.show()"
   ]
  },
  {
   "cell_type": "markdown",
   "id": "50a661c9",
   "metadata": {},
   "source": [
    "#### . Comparaison engagement vs viralité\n",
    "| <span style=\"color: orange;\">**Aspect**</span>                | <span style=\"color: orange;\">**Posts à fort engagement**</span>  | <span style=\"color: orange;\">**Posts viraux** </span>|\n",
    "|---------------------------|-----------------------------------|------------------------|\n",
    "| **Top thèmes**            | IA, Leadership, projet | WorkplaceCulture, IA, DigitalTransformation |\n",
    "| **Top hashtags**          | #leadership, #digitaltransformation, #ai, | #workplaceculture, #digitaltransformation, #leadership, |\n",
    "| **Longueur moyenne**      | ~230 mots         | ~198 mots |\n",
    "| **Followers moyens**      | Non précisé   | ~4154                 |\n",
    "| **Hashtags optimaux**     | 1-2 pour engagement, 2-7 pour partages | 2-7 pour partages     |\n",
    "\n",
    "- **Engagement** : Favorise des thèmes techniques (**IA**, **DataScienceInnovation**) et des hashtags niches (**#datascience**, **#machinelearning**), avec des posts plus longs (~230 mots).\n",
    "- **Viralité** : Privilégie des thèmes universels (**WorkplaceCulture**, **HumanResources**) et des hashtags larges (**#workplaceculture**, **#hiring**), avec des posts plus courts (~198 mots).\n",
    "\n",
    "---\n"
   ]
  },
  {
   "cell_type": "markdown",
   "id": "71e31ef2",
   "metadata": {},
   "source": [
    "### Analyse temporelle des meilleurs moments de publication"
   ]
  },
  {
   "cell_type": "markdown",
   "id": "42a78caa",
   "metadata": {},
   "source": [
    "| <span style=\"color: orange;\">**Moment clé**</span>          | <span style=\"color: orange;\">**Plage horaire**</span> | <span style=\"color: orange;\">**Raisonnement**</span>                                                                 |\n",
    "|-------------------------|-------------------|----------------------------------------------------------------------------------|\n",
    "| **Tôt le matin**        | 6h00 - 8h59       | Avant le début de la journée de travail, les professionnels consultent LinkedIn.  |\n",
    "| **Milieu de matinée**   | 9h00 - 11h59      | Pendant la pause café ou avant les réunions, forte activité sur LinkedIn.         |\n",
    "| **Après-midi**          | 12h00 - 16h59     | Après le déjeuner, les utilisateurs reviennent sur LinkedIn pendant les pauses.   |\n",
    "| **Fin de journée**      | 17h00 - 19h59     | Après le travail, les professionnels consultent LinkedIn pour des mises à jour.   |\n",
    "| **Soir/Nuit**           | 20h00 - 5h59      | Activité moindre, mais certains utilisateurs (ex. : internationaux) sont actifs.  |"
   ]
  },
  {
   "cell_type": "code",
   "execution_count": 242,
   "id": "25185a24",
   "metadata": {},
   "outputs": [],
   "source": [
    "def categorize_time(hour):\n",
    "    if 6 <= hour <= 8:\n",
    "        return \"Tôt le matin\"\n",
    "    elif 9 <= hour <= 11:\n",
    "        return \"Milieu de matinée\"\n",
    "    elif 12 <= hour <= 16:\n",
    "        return \"Après-midi\"\n",
    "    elif 17 <= hour <= 19:\n",
    "        return \"Fin de journée\"\n",
    "    else:\n",
    "        return \"Soir\""
   ]
  },
  {
   "cell_type": "code",
   "execution_count": 243,
   "id": "293175c8",
   "metadata": {},
   "outputs": [],
   "source": [
    "viral_post = viral_posts.with_columns(\n",
    "    pl.col(\"hour\").map_elements(categorize_time, return_dtype=pl.Utf8).alias(\"time_of_day\")\n",
    ")\n",
    "\n",
    "df_engagement = fort_engagement_df.with_columns(\n",
    "    pl.col(\"hour\").map_elements(categorize_time, return_dtype=pl.Utf8).alias(\"time_of_day\")\n",
    ")"
   ]
  },
  {
   "cell_type": "code",
   "execution_count": null,
   "id": "4c0e0916",
   "metadata": {},
   "outputs": [],
   "source": [
    "viral_timing = viral_post.group_by([\"day_of_week\", \"time_of_day\"]).agg(\n",
    "    count=pl.col(\"id\").count(),\n",
    "    mean_engagement_total=pl.col(\"engagement_total\").mean(),\n",
    "    mean_shares=pl.col(\"shares\").mean(),\n",
    "    themes=pl.col(\"theme\").unique().str.join(\", \"),\n",
    "    hashtags=pl.col(\"hashtags\").str.join(\", \")\n",
    ").sort([\"mean_engagement_total\"], descending=True).drop_nulls()\n",
    "\n",
    "engagement_timing = df_engagement.group_by([\"day_of_week\", \"time_of_day\"]).agg(\n",
    "    count=pl.col(\"id\").count(),\n",
    "    mean_engagement_total=pl.col(\"engagement_total\").mean(),\n",
    "    mean_shares=pl.col(\"shares\").mean(),\n",
    "    themes=pl.col(\"theme\").unique().str.join(\", \"),\n",
    "    hashtags=pl.col(\"hashtags\").str.join(\", \")\n",
    ").drop_nulls()#.sort([\"mean_engagement_total\"], descending=True).drop_nulls()"
   ]
  },
  {
   "cell_type": "code",
   "execution_count": 262,
   "id": "947555c2",
   "metadata": {},
   "outputs": [],
   "source": [
    "engagement_timing[[\"day_of_week\", \"time_of_day\", \"mean_engagement_total\"]].sort(\"day_of_week\").write_parquet(f\"{kpi_folder}/engagement_timing.parquet\")"
   ]
  },
  {
   "cell_type": "code",
   "execution_count": 263,
   "id": "a20ada75",
   "metadata": {},
   "outputs": [],
   "source": [
    "engagement_timing[[\"day_of_week\", \"time_of_day\", \"mean_shares\"]].sort(\"day_of_week\").write_parquet(f\"{kpi_folder}/engagement_shares_timing.parquet\")"
   ]
  },
  {
   "cell_type": "code",
   "execution_count": 251,
   "id": "3753ff88",
   "metadata": {},
   "outputs": [
    {
     "data": {
      "text/html": [
       "<div><style>\n",
       ".dataframe > thead > tr,\n",
       ".dataframe > tbody > tr {\n",
       "  text-align: right;\n",
       "  white-space: pre-wrap;\n",
       "}\n",
       "</style>\n",
       "<small>shape: (15, 3)</small><table border=\"1\" class=\"dataframe\"><thead><tr><th>day_of_week</th><th>time_of_day</th><th>mean_engagement_total</th></tr><tr><td>i8</td><td>str</td><td>f64</td></tr></thead><tbody><tr><td>2</td><td>&quot;Après-midi&quot;</td><td>243.5</td></tr><tr><td>3</td><td>&quot;Après-midi&quot;</td><td>381.5</td></tr><tr><td>4</td><td>&quot;Fin de journée&quot;</td><td>280.633333</td></tr><tr><td>5</td><td>&quot;Fin de journée&quot;</td><td>359.666667</td></tr><tr><td>5</td><td>&quot;Tôt le matin&quot;</td><td>241.65</td></tr><tr><td>5</td><td>&quot;Milieu de matinée&quot;</td><td>301.129032</td></tr><tr><td>4</td><td>&quot;Après-midi&quot;</td><td>269.576923</td></tr><tr><td>1</td><td>&quot;Après-midi&quot;</td><td>198.0</td></tr><tr><td>3</td><td>&quot;Soir&quot;</td><td>530.5</td></tr><tr><td>4</td><td>&quot;Tôt le matin&quot;</td><td>195.0</td></tr><tr><td>4</td><td>&quot;Milieu de matinée&quot;</td><td>277.692308</td></tr><tr><td>5</td><td>&quot;Soir&quot;</td><td>253.5</td></tr><tr><td>7</td><td>&quot;Après-midi&quot;</td><td>321.0</td></tr><tr><td>4</td><td>&quot;Soir&quot;</td><td>368.714286</td></tr><tr><td>5</td><td>&quot;Après-midi&quot;</td><td>258.666667</td></tr></tbody></table></div>"
      ],
      "text/plain": [
       "shape: (15, 3)\n",
       "┌─────────────┬───────────────────┬───────────────────────┐\n",
       "│ day_of_week ┆ time_of_day       ┆ mean_engagement_total │\n",
       "│ ---         ┆ ---               ┆ ---                   │\n",
       "│ i8          ┆ str               ┆ f64                   │\n",
       "╞═════════════╪═══════════════════╪═══════════════════════╡\n",
       "│ 2           ┆ Après-midi        ┆ 243.5                 │\n",
       "│ 3           ┆ Après-midi        ┆ 381.5                 │\n",
       "│ 4           ┆ Fin de journée    ┆ 280.633333            │\n",
       "│ 5           ┆ Fin de journée    ┆ 359.666667            │\n",
       "│ 5           ┆ Tôt le matin      ┆ 241.65                │\n",
       "│ 5           ┆ Milieu de matinée ┆ 301.129032            │\n",
       "│ 4           ┆ Après-midi        ┆ 269.576923            │\n",
       "│ 1           ┆ Après-midi        ┆ 198.0                 │\n",
       "│ 3           ┆ Soir              ┆ 530.5                 │\n",
       "│ 4           ┆ Tôt le matin      ┆ 195.0                 │\n",
       "│ 4           ┆ Milieu de matinée ┆ 277.692308            │\n",
       "│ 5           ┆ Soir              ┆ 253.5                 │\n",
       "│ 7           ┆ Après-midi        ┆ 321.0                 │\n",
       "│ 4           ┆ Soir              ┆ 368.714286            │\n",
       "│ 5           ┆ Après-midi        ┆ 258.666667            │\n",
       "└─────────────┴───────────────────┴───────────────────────┘"
      ]
     },
     "execution_count": 251,
     "metadata": {},
     "output_type": "execute_result"
    }
   ],
   "source": [
    "engagement_timing[[\"day_of_week\", \"time_of_day\", \"mean_engagement_total\"]]"
   ]
  },
  {
   "cell_type": "code",
   "execution_count": 256,
   "id": "4cb63b58",
   "metadata": {},
   "outputs": [],
   "source": [
    "engagement_timing = engagement_timing.drop(\"count\")"
   ]
  },
  {
   "cell_type": "code",
   "execution_count": 269,
   "id": "42d85b93",
   "metadata": {},
   "outputs": [
    {
     "data": {
      "text/html": [
       "<div><style>\n",
       ".dataframe > thead > tr,\n",
       ".dataframe > tbody > tr {\n",
       "  text-align: right;\n",
       "  white-space: pre-wrap;\n",
       "}\n",
       "</style>\n",
       "<small>shape: (15, 6)</small><table border=\"1\" class=\"dataframe\"><thead><tr><th>day_of_week</th><th>time_of_day</th><th>mean_engagement_total</th><th>mean_shares</th><th>themes</th><th>hashtags</th></tr><tr><td>i8</td><td>str</td><td>f64</td><td>f64</td><td>str</td><td>str</td></tr></thead><tbody><tr><td>2</td><td>&quot;Après-midi&quot;</td><td>243.5</td><td>25.5</td><td>&quot;tutoriel, Technology&quot;</td><td>&quot;, , , #DataWithBen, , , #handi…</td></tr><tr><td>3</td><td>&quot;Après-midi&quot;</td><td>381.5</td><td>16.0</td><td>&quot;tutoriel&quot;</td><td>&quot;#DataWithBen, #DataWithBen&quot;</td></tr><tr><td>4</td><td>&quot;Fin de journée&quot;</td><td>280.633333</td><td>65.033333</td><td>&quot;projet, Leadership, IA, Techno…</td><td>&quot;, #carreiras #logística #traba…</td></tr><tr><td>5</td><td>&quot;Fin de journée&quot;</td><td>359.666667</td><td>12.666667</td><td>&quot;Technology, finance&quot;</td><td>&quot;, , &quot;</td></tr><tr><td>5</td><td>&quot;Tôt le matin&quot;</td><td>241.65</td><td>6.3</td><td>&quot;finance, projet, IA&quot;</td><td>&quot;, , , #kashmirattack #war #pre…</td></tr><tr><td>5</td><td>&quot;Milieu de matinée&quot;</td><td>301.129032</td><td>7.548387</td><td>&quot;education, projet, finance, Le…</td><td>&quot;#Bénin #FinanceClimatique #Dév…</td></tr><tr><td>4</td><td>&quot;Après-midi&quot;</td><td>269.576923</td><td>72.153846</td><td>&quot;tutoriel, WorkplaceCulture, Te…</td><td>&quot;#DataWithBen, #WebDesign #Défi…</td></tr><tr><td>1</td><td>&quot;Après-midi&quot;</td><td>198.0</td><td>20.666667</td><td>&quot;tutoriel&quot;</td><td>&quot;#DataWithBen, #comptabilité, #…</td></tr><tr><td>3</td><td>&quot;Soir&quot;</td><td>530.5</td><td>183.0</td><td>&quot;WorkplaceCulture&quot;</td><td>&quot;#SocialMediaManager #Marketing…</td></tr><tr><td>4</td><td>&quot;Tôt le matin&quot;</td><td>195.0</td><td>75.0</td><td>&quot;HumanResources&quot;</td><td>&quot;#humanresources #hr #jobinterv…</td></tr><tr><td>4</td><td>&quot;Milieu de matinée&quot;</td><td>277.692308</td><td>70.307692</td><td>&quot;IA, WorkplaceCulture, DigitalT…</td><td>&quot;, #Deal #Risque #Finance #PMI …</td></tr><tr><td>5</td><td>&quot;Soir&quot;</td><td>253.5</td><td>11.5</td><td>&quot;projet, Technology, IA, financ…</td><td>&quot;, #ai #llm #mcp, , , , , #fint…</td></tr><tr><td>7</td><td>&quot;Après-midi&quot;</td><td>321.0</td><td>21.0</td><td>&quot;Leadership, tutoriel&quot;</td><td>&quot;, &quot;</td></tr><tr><td>4</td><td>&quot;Soir&quot;</td><td>368.714286</td><td>34.0</td><td>&quot;WorkplaceCulture, projet, IA&quot;</td><td>&quot;, #New #Deal #Technologique #S…</td></tr><tr><td>5</td><td>&quot;Après-midi&quot;</td><td>258.666667</td><td>8.533333</td><td>&quot;Leadership, education, IA&quot;</td><td>&quot;, #KAUSThashtag #Vision2030has…</td></tr></tbody></table></div>"
      ],
      "text/plain": [
       "shape: (15, 6)\n",
       "┌─────────────┬─────────────────┬─────────────────┬─────────────┬─────────────────┬────────────────┐\n",
       "│ day_of_week ┆ time_of_day     ┆ mean_engagement ┆ mean_shares ┆ themes          ┆ hashtags       │\n",
       "│ ---         ┆ ---             ┆ _total          ┆ ---         ┆ ---             ┆ ---            │\n",
       "│ i8          ┆ str             ┆ ---             ┆ f64         ┆ str             ┆ str            │\n",
       "│             ┆                 ┆ f64             ┆             ┆                 ┆                │\n",
       "╞═════════════╪═════════════════╪═════════════════╪═════════════╪═════════════════╪════════════════╡\n",
       "│ 2           ┆ Après-midi      ┆ 243.5           ┆ 25.5        ┆ tutoriel,       ┆ , , ,          │\n",
       "│             ┆                 ┆                 ┆             ┆ Technology      ┆ #DataWithBen,  │\n",
       "│             ┆                 ┆                 ┆             ┆                 ┆ , , #handi…    │\n",
       "│ 3           ┆ Après-midi      ┆ 381.5           ┆ 16.0        ┆ tutoriel        ┆ #DataWithBen,  │\n",
       "│             ┆                 ┆                 ┆             ┆                 ┆ #DataWithBen   │\n",
       "│ 4           ┆ Fin de journée  ┆ 280.633333      ┆ 65.033333   ┆ projet,         ┆ , #carreiras   │\n",
       "│             ┆                 ┆                 ┆             ┆ Leadership, IA, ┆ #logística     │\n",
       "│             ┆                 ┆                 ┆             ┆ Techno…         ┆ #traba…        │\n",
       "│ 5           ┆ Fin de journée  ┆ 359.666667      ┆ 12.666667   ┆ Technology,     ┆ , ,            │\n",
       "│             ┆                 ┆                 ┆             ┆ finance         ┆                │\n",
       "│ 5           ┆ Tôt le matin    ┆ 241.65          ┆ 6.3         ┆ finance,        ┆ , , ,          │\n",
       "│             ┆                 ┆                 ┆             ┆ projet, IA      ┆ #kashmirattack │\n",
       "│             ┆                 ┆                 ┆             ┆                 ┆ #war #pre…     │\n",
       "│ 5           ┆ Milieu de       ┆ 301.129032      ┆ 7.548387    ┆ education,      ┆ #Bénin #Financ │\n",
       "│             ┆ matinée         ┆                 ┆             ┆ projet,         ┆ eClimatique    │\n",
       "│             ┆                 ┆                 ┆             ┆ finance, Le…    ┆ #Dév…          │\n",
       "│ 4           ┆ Après-midi      ┆ 269.576923      ┆ 72.153846   ┆ tutoriel, Workp ┆ #DataWithBen,  │\n",
       "│             ┆                 ┆                 ┆             ┆ laceCulture,    ┆ #WebDesign     │\n",
       "│             ┆                 ┆                 ┆             ┆ Te…             ┆ #Défi…         │\n",
       "│ 1           ┆ Après-midi      ┆ 198.0           ┆ 20.666667   ┆ tutoriel        ┆ #DataWithBen,  │\n",
       "│             ┆                 ┆                 ┆             ┆                 ┆ #comptabilité, │\n",
       "│             ┆                 ┆                 ┆             ┆                 ┆ #…             │\n",
       "│ 3           ┆ Soir            ┆ 530.5           ┆ 183.0       ┆ WorkplaceCultur ┆ #SocialMediaMa │\n",
       "│             ┆                 ┆                 ┆             ┆ e               ┆ nager          │\n",
       "│             ┆                 ┆                 ┆             ┆                 ┆ #Marketing…    │\n",
       "│ 4           ┆ Tôt le matin    ┆ 195.0           ┆ 75.0        ┆ HumanResources  ┆ #humanresource │\n",
       "│             ┆                 ┆                 ┆             ┆                 ┆ s #hr          │\n",
       "│             ┆                 ┆                 ┆             ┆                 ┆ #jobinterv…    │\n",
       "│ 4           ┆ Milieu de       ┆ 277.692308      ┆ 70.307692   ┆ IA, WorkplaceCu ┆ , #Deal        │\n",
       "│             ┆ matinée         ┆                 ┆             ┆ lture,          ┆ #Risque        │\n",
       "│             ┆                 ┆                 ┆             ┆ DigitalT…       ┆ #Finance #PMI  │\n",
       "│             ┆                 ┆                 ┆             ┆                 ┆ …              │\n",
       "│ 5           ┆ Soir            ┆ 253.5           ┆ 11.5        ┆ projet,         ┆ , #ai #llm     │\n",
       "│             ┆                 ┆                 ┆             ┆ Technology, IA, ┆ #mcp, , , , ,  │\n",
       "│             ┆                 ┆                 ┆             ┆ financ…         ┆ #fint…         │\n",
       "│ 7           ┆ Après-midi      ┆ 321.0           ┆ 21.0        ┆ Leadership,     ┆ ,              │\n",
       "│             ┆                 ┆                 ┆             ┆ tutoriel        ┆                │\n",
       "│ 4           ┆ Soir            ┆ 368.714286      ┆ 34.0        ┆ WorkplaceCultur ┆ , #New #Deal   │\n",
       "│             ┆                 ┆                 ┆             ┆ e, projet, IA   ┆ #Technologique │\n",
       "│             ┆                 ┆                 ┆             ┆                 ┆ #S…            │\n",
       "│ 5           ┆ Après-midi      ┆ 258.666667      ┆ 8.533333    ┆ Leadership,     ┆ ,              │\n",
       "│             ┆                 ┆                 ┆             ┆ education, IA   ┆ #KAUSThashtag  │\n",
       "│             ┆                 ┆                 ┆             ┆                 ┆ #Vision2030has │\n",
       "│             ┆                 ┆                 ┆             ┆                 ┆ …              │\n",
       "└─────────────┴─────────────────┴─────────────────┴─────────────┴─────────────────┴────────────────┘"
      ]
     },
     "execution_count": 269,
     "metadata": {},
     "output_type": "execute_result"
    }
   ],
   "source": [
    "engagement_timing"
   ]
  },
  {
   "cell_type": "code",
   "execution_count": 270,
   "id": "6ae425e2",
   "metadata": {},
   "outputs": [
    {
     "data": {
      "text/html": [
       "<div><style>\n",
       ".dataframe > thead > tr,\n",
       ".dataframe > tbody > tr {\n",
       "  text-align: right;\n",
       "  white-space: pre-wrap;\n",
       "}\n",
       "</style>\n",
       "<small>shape: (15, 7)</small><table border=\"1\" class=\"dataframe\"><thead><tr><th>day_of_week</th><th>time_of_day</th><th>count</th><th>mean_engagement_total</th><th>mean_shares</th><th>themes</th><th>hashtags</th></tr><tr><td>i8</td><td>str</td><td>u32</td><td>f64</td><td>f64</td><td>str</td><td>str</td></tr></thead><tbody><tr><td>5</td><td>&quot;Fin de journée&quot;</td><td>1</td><td>759.0</td><td>33.0</td><td>&quot;Technology&quot;</td><td>&quot;&quot;</td></tr><tr><td>3</td><td>&quot;Soir&quot;</td><td>2</td><td>530.5</td><td>183.0</td><td>&quot;WorkplaceCulture&quot;</td><td>&quot;#SocialMediaManager #Marketing…</td></tr><tr><td>5</td><td>&quot;Milieu de matinée&quot;</td><td>3</td><td>487.0</td><td>37.0</td><td>&quot;projet, Leadership&quot;</td><td>&quot;#JusticePourTous #ÉtatDeDroit …</td></tr><tr><td>3</td><td>&quot;Après-midi&quot;</td><td>1</td><td>453.0</td><td>21.0</td><td>&quot;tutoriel&quot;</td><td>&quot;#DataWithBen&quot;</td></tr><tr><td>5</td><td>&quot;Après-midi&quot;</td><td>2</td><td>437.5</td><td>38.5</td><td>&quot;IA, education&quot;</td><td>&quot;#phd #research, #ILoveSyria&quot;</td></tr><tr><td>5</td><td>&quot;Tôt le matin&quot;</td><td>3</td><td>411.666667</td><td>24.666667</td><td>&quot;finance, projet&quot;</td><td>&quot;#RönesansHolding, #Finance #in…</td></tr><tr><td>5</td><td>&quot;Soir&quot;</td><td>3</td><td>336.0</td><td>32.666667</td><td>&quot;IA, Technology&quot;</td><td>&quot;, #Aviation #eVTOL #Drones #Ai…</td></tr><tr><td>4</td><td>&quot;Soir&quot;</td><td>15</td><td>268.6</td><td>48.533333</td><td>&quot;projet, IA, WorkplaceCulture&quot;</td><td>&quot;, , , , #OurShouthashtag #Soci…</td></tr><tr><td>2</td><td>&quot;Après-midi&quot;</td><td>4</td><td>247.5</td><td>51.75</td><td>&quot;tutoriel, WorkplaceCulture, Te…</td><td>&quot;#handicap #handicapinvisible, …</td></tr><tr><td>4</td><td>&quot;Fin de journée&quot;</td><td>52</td><td>183.230769</td><td>55.269231</td><td>&quot;projet, DigitalTransformation,…</td><td>&quot;, , #decentralization #dataint…</td></tr><tr><td>1</td><td>&quot;Après-midi&quot;</td><td>2</td><td>179.5</td><td>33.0</td><td>&quot;tutoriel, IA&quot;</td><td>&quot;#LIHybrid #Neuroscience #DrugD…</td></tr><tr><td>4</td><td>&quot;Après-midi&quot;</td><td>54</td><td>175.12963</td><td>54.296296</td><td>&quot;Technology, WorkplaceCulture, …</td><td>&quot;#graphicdesign #designer #illu…</td></tr><tr><td>4</td><td>&quot;Milieu de matinée&quot;</td><td>28</td><td>170.535714</td><td>52.642857</td><td>&quot;IA, DigitalTransformation, Wor…</td><td>&quot;#Deal #Risque #Finance #PMI #C…</td></tr><tr><td>4</td><td>&quot;Tôt le matin&quot;</td><td>7</td><td>137.0</td><td>48.857143</td><td>&quot;HumanResources, WorkplaceCultu…</td><td>&quot;#humanresources #hr #jobinterv…</td></tr><tr><td>7</td><td>&quot;Après-midi&quot;</td><td>2</td><td>109.0</td><td>31.0</td><td>&quot;Leadership, Technology&quot;</td><td>&quot;, #rip #borderline #overdose #…</td></tr></tbody></table></div>"
      ],
      "text/plain": [
       "shape: (15, 7)\n",
       "┌─────────────┬───────────────┬───────┬───────────────┬─────────────┬───────────────┬──────────────┐\n",
       "│ day_of_week ┆ time_of_day   ┆ count ┆ mean_engageme ┆ mean_shares ┆ themes        ┆ hashtags     │\n",
       "│ ---         ┆ ---           ┆ ---   ┆ nt_total      ┆ ---         ┆ ---           ┆ ---          │\n",
       "│ i8          ┆ str           ┆ u32   ┆ ---           ┆ f64         ┆ str           ┆ str          │\n",
       "│             ┆               ┆       ┆ f64           ┆             ┆               ┆              │\n",
       "╞═════════════╪═══════════════╪═══════╪═══════════════╪═════════════╪═══════════════╪══════════════╡\n",
       "│ 5           ┆ Fin de        ┆ 1     ┆ 759.0         ┆ 33.0        ┆ Technology    ┆              │\n",
       "│             ┆ journée       ┆       ┆               ┆             ┆               ┆              │\n",
       "│ 3           ┆ Soir          ┆ 2     ┆ 530.5         ┆ 183.0       ┆ WorkplaceCult ┆ #SocialMedia │\n",
       "│             ┆               ┆       ┆               ┆             ┆ ure           ┆ Manager      │\n",
       "│             ┆               ┆       ┆               ┆             ┆               ┆ #Marketing…  │\n",
       "│ 5           ┆ Milieu de     ┆ 3     ┆ 487.0         ┆ 37.0        ┆ projet,       ┆ #JusticePour │\n",
       "│             ┆ matinée       ┆       ┆               ┆             ┆ Leadership    ┆ Tous         │\n",
       "│             ┆               ┆       ┆               ┆             ┆               ┆ #ÉtatDeDroit │\n",
       "│             ┆               ┆       ┆               ┆             ┆               ┆ …            │\n",
       "│ 3           ┆ Après-midi    ┆ 1     ┆ 453.0         ┆ 21.0        ┆ tutoriel      ┆ #DataWithBen │\n",
       "│ 5           ┆ Après-midi    ┆ 2     ┆ 437.5         ┆ 38.5        ┆ IA, education ┆ #phd         │\n",
       "│             ┆               ┆       ┆               ┆             ┆               ┆ #research,   │\n",
       "│             ┆               ┆       ┆               ┆             ┆               ┆ #ILoveSyria  │\n",
       "│ 5           ┆ Tôt le matin  ┆ 3     ┆ 411.666667    ┆ 24.666667   ┆ finance,      ┆ #RönesansHol │\n",
       "│             ┆               ┆       ┆               ┆             ┆ projet        ┆ ding,        │\n",
       "│             ┆               ┆       ┆               ┆             ┆               ┆ #Finance     │\n",
       "│             ┆               ┆       ┆               ┆             ┆               ┆ #in…         │\n",
       "│ 5           ┆ Soir          ┆ 3     ┆ 336.0         ┆ 32.666667   ┆ IA,           ┆ , #Aviation  │\n",
       "│             ┆               ┆       ┆               ┆             ┆ Technology    ┆ #eVTOL       │\n",
       "│             ┆               ┆       ┆               ┆             ┆               ┆ #Drones #Ai… │\n",
       "│ 4           ┆ Soir          ┆ 15    ┆ 268.6         ┆ 48.533333   ┆ projet, IA,   ┆ , , , , #Our │\n",
       "│             ┆               ┆       ┆               ┆             ┆ WorkplaceCult ┆ Shouthashtag │\n",
       "│             ┆               ┆       ┆               ┆             ┆ ure           ┆ #Soci…       │\n",
       "│ 2           ┆ Après-midi    ┆ 4     ┆ 247.5         ┆ 51.75       ┆ tutoriel, Wor ┆ #handicap    │\n",
       "│             ┆               ┆       ┆               ┆             ┆ kplaceCulture ┆ #handicapinv │\n",
       "│             ┆               ┆       ┆               ┆             ┆ , Te…         ┆ isible, …    │\n",
       "│ 4           ┆ Fin de        ┆ 52    ┆ 183.230769    ┆ 55.269231   ┆ projet, Digit ┆ , , #decentr │\n",
       "│             ┆ journée       ┆       ┆               ┆             ┆ alTransformat ┆ alization    │\n",
       "│             ┆               ┆       ┆               ┆             ┆ ion,…         ┆ #dataint…    │\n",
       "│ 1           ┆ Après-midi    ┆ 2     ┆ 179.5         ┆ 33.0        ┆ tutoriel, IA  ┆ #LIHybrid    │\n",
       "│             ┆               ┆       ┆               ┆             ┆               ┆ #Neuroscienc │\n",
       "│             ┆               ┆       ┆               ┆             ┆               ┆ e #DrugD…    │\n",
       "│ 4           ┆ Après-midi    ┆ 54    ┆ 175.12963     ┆ 54.296296   ┆ Technology,   ┆ #graphicdesi │\n",
       "│             ┆               ┆       ┆               ┆             ┆ WorkplaceCult ┆ gn #designer │\n",
       "│             ┆               ┆       ┆               ┆             ┆ ure, …        ┆ #illu…       │\n",
       "│ 4           ┆ Milieu de     ┆ 28    ┆ 170.535714    ┆ 52.642857   ┆ IA, DigitalTr ┆ #Deal        │\n",
       "│             ┆ matinée       ┆       ┆               ┆             ┆ ansformation, ┆ #Risque      │\n",
       "│             ┆               ┆       ┆               ┆             ┆ Wor…          ┆ #Finance     │\n",
       "│             ┆               ┆       ┆               ┆             ┆               ┆ #PMI #C…     │\n",
       "│ 4           ┆ Tôt le matin  ┆ 7     ┆ 137.0         ┆ 48.857143   ┆ HumanResource ┆ #humanresour │\n",
       "│             ┆               ┆       ┆               ┆             ┆ s, WorkplaceC ┆ ces #hr      │\n",
       "│             ┆               ┆       ┆               ┆             ┆ ultu…         ┆ #jobinterv…  │\n",
       "│ 7           ┆ Après-midi    ┆ 2     ┆ 109.0         ┆ 31.0        ┆ Leadership,   ┆ , #rip       │\n",
       "│             ┆               ┆       ┆               ┆             ┆ Technology    ┆ #borderline  │\n",
       "│             ┆               ┆       ┆               ┆             ┆               ┆ #overdose #… │\n",
       "└─────────────┴───────────────┴───────┴───────────────┴─────────────┴───────────────┴──────────────┘"
      ]
     },
     "execution_count": 270,
     "metadata": {},
     "output_type": "execute_result"
    }
   ],
   "source": [
    "viral_timing"
   ]
  },
  {
   "cell_type": "code",
   "execution_count": 265,
   "id": "8eeeb072",
   "metadata": {},
   "outputs": [
    {
     "data": {
      "text/html": [
       "<div><style>\n",
       ".dataframe > thead > tr,\n",
       ".dataframe > tbody > tr {\n",
       "  text-align: right;\n",
       "  white-space: pre-wrap;\n",
       "}\n",
       "</style>\n",
       "<small>shape: (15, 3)</small><table border=\"1\" class=\"dataframe\"><thead><tr><th>day_of_week</th><th>time_of_day</th><th>mean_engagement_total</th></tr><tr><td>i8</td><td>str</td><td>f64</td></tr></thead><tbody><tr><td>5</td><td>&quot;Fin de journée&quot;</td><td>759.0</td></tr><tr><td>3</td><td>&quot;Soir&quot;</td><td>530.5</td></tr><tr><td>5</td><td>&quot;Milieu de matinée&quot;</td><td>487.0</td></tr><tr><td>3</td><td>&quot;Après-midi&quot;</td><td>453.0</td></tr><tr><td>5</td><td>&quot;Après-midi&quot;</td><td>437.5</td></tr><tr><td>5</td><td>&quot;Tôt le matin&quot;</td><td>411.666667</td></tr><tr><td>5</td><td>&quot;Soir&quot;</td><td>336.0</td></tr><tr><td>4</td><td>&quot;Soir&quot;</td><td>268.6</td></tr><tr><td>2</td><td>&quot;Après-midi&quot;</td><td>247.5</td></tr><tr><td>4</td><td>&quot;Fin de journée&quot;</td><td>183.230769</td></tr><tr><td>1</td><td>&quot;Après-midi&quot;</td><td>179.5</td></tr><tr><td>4</td><td>&quot;Après-midi&quot;</td><td>175.12963</td></tr><tr><td>4</td><td>&quot;Milieu de matinée&quot;</td><td>170.535714</td></tr><tr><td>4</td><td>&quot;Tôt le matin&quot;</td><td>137.0</td></tr><tr><td>7</td><td>&quot;Après-midi&quot;</td><td>109.0</td></tr></tbody></table></div>"
      ],
      "text/plain": [
       "shape: (15, 3)\n",
       "┌─────────────┬───────────────────┬───────────────────────┐\n",
       "│ day_of_week ┆ time_of_day       ┆ mean_engagement_total │\n",
       "│ ---         ┆ ---               ┆ ---                   │\n",
       "│ i8          ┆ str               ┆ f64                   │\n",
       "╞═════════════╪═══════════════════╪═══════════════════════╡\n",
       "│ 5           ┆ Fin de journée    ┆ 759.0                 │\n",
       "│ 3           ┆ Soir              ┆ 530.5                 │\n",
       "│ 5           ┆ Milieu de matinée ┆ 487.0                 │\n",
       "│ 3           ┆ Après-midi        ┆ 453.0                 │\n",
       "│ 5           ┆ Après-midi        ┆ 437.5                 │\n",
       "│ 5           ┆ Tôt le matin      ┆ 411.666667            │\n",
       "│ 5           ┆ Soir              ┆ 336.0                 │\n",
       "│ 4           ┆ Soir              ┆ 268.6                 │\n",
       "│ 2           ┆ Après-midi        ┆ 247.5                 │\n",
       "│ 4           ┆ Fin de journée    ┆ 183.230769            │\n",
       "│ 1           ┆ Après-midi        ┆ 179.5                 │\n",
       "│ 4           ┆ Après-midi        ┆ 175.12963             │\n",
       "│ 4           ┆ Milieu de matinée ┆ 170.535714            │\n",
       "│ 4           ┆ Tôt le matin      ┆ 137.0                 │\n",
       "│ 7           ┆ Après-midi        ┆ 109.0                 │\n",
       "└─────────────┴───────────────────┴───────────────────────┘"
      ]
     },
     "execution_count": 265,
     "metadata": {},
     "output_type": "execute_result"
    }
   ],
   "source": [
    "viral_timing[[\"day_of_week\", \"time_of_day\", \"mean_engagement_total\"]].sort(\"day_of_week\").write_parquet(f\"{kpi_folder}/viral_timing.parquet\")\n",
    "viral_timing[[\"day_of_week\", \"time_of_day\", \"mean_shares\"]].sort(\"day_of_week\").write_parquet(f\"{kpi_folder}/viral_shares_timing.parquet\")\n",
    "viral_timing[[\"day_of_week\", \"time_of_day\", \"mean_engagement_total\"]]"
   ]
  },
  {
   "cell_type": "code",
   "execution_count": 266,
   "metadata": {},
   "outputs": [
    {
     "data": {
      "application/vnd.plotly.v1+json": {
       "config": {
        "plotlyServerURL": "https://plot.ly"
       },
       "data": [
        {
         "domain": {
          "x": [
           0,
           1
          ],
          "y": [
           0,
           1
          ]
         },
         "hovertemplate": "day_of_week=%{label}<br>mean_engagement_total=%{value}<extra></extra>",
         "labels": {
          "bdata": "BQMFAwUFBQQCBAEEBAQH",
          "dtype": "i1"
         },
         "legendgroup": "",
         "name": "",
         "showlegend": true,
         "type": "pie",
         "values": {
          "bdata": "AAAAAAC4h0AAAAAAAJSAQAAAAAAAcH5AAAAAAABQfEAAAAAAAFh7QKuqqqqqunlAAAAAAAAAdUCamZmZmclwQAAAAAAA8G5AdmIndmLnZkAAAAAAAHBmQEJ7Ce0l5GVAkiRJkiRRZUAAAAAAACBhQAAAAAAAQFtA",
          "dtype": "f8"
         }
        }
       ],
       "layout": {
        "legend": {
         "tracegroupgap": 0
        },
        "template": {
         "data": {
          "bar": [
           {
            "error_x": {
             "color": "#2a3f5f"
            },
            "error_y": {
             "color": "#2a3f5f"
            },
            "marker": {
             "line": {
              "color": "#E5ECF6",
              "width": 0.5
             },
             "pattern": {
              "fillmode": "overlay",
              "size": 10,
              "solidity": 0.2
             }
            },
            "type": "bar"
           }
          ],
          "barpolar": [
           {
            "marker": {
             "line": {
              "color": "#E5ECF6",
              "width": 0.5
             },
             "pattern": {
              "fillmode": "overlay",
              "size": 10,
              "solidity": 0.2
             }
            },
            "type": "barpolar"
           }
          ],
          "carpet": [
           {
            "aaxis": {
             "endlinecolor": "#2a3f5f",
             "gridcolor": "white",
             "linecolor": "white",
             "minorgridcolor": "white",
             "startlinecolor": "#2a3f5f"
            },
            "baxis": {
             "endlinecolor": "#2a3f5f",
             "gridcolor": "white",
             "linecolor": "white",
             "minorgridcolor": "white",
             "startlinecolor": "#2a3f5f"
            },
            "type": "carpet"
           }
          ],
          "choropleth": [
           {
            "colorbar": {
             "outlinewidth": 0,
             "ticks": ""
            },
            "type": "choropleth"
           }
          ],
          "contour": [
           {
            "colorbar": {
             "outlinewidth": 0,
             "ticks": ""
            },
            "colorscale": [
             [
              0,
              "#0d0887"
             ],
             [
              0.1111111111111111,
              "#46039f"
             ],
             [
              0.2222222222222222,
              "#7201a8"
             ],
             [
              0.3333333333333333,
              "#9c179e"
             ],
             [
              0.4444444444444444,
              "#bd3786"
             ],
             [
              0.5555555555555556,
              "#d8576b"
             ],
             [
              0.6666666666666666,
              "#ed7953"
             ],
             [
              0.7777777777777778,
              "#fb9f3a"
             ],
             [
              0.8888888888888888,
              "#fdca26"
             ],
             [
              1,
              "#f0f921"
             ]
            ],
            "type": "contour"
           }
          ],
          "contourcarpet": [
           {
            "colorbar": {
             "outlinewidth": 0,
             "ticks": ""
            },
            "type": "contourcarpet"
           }
          ],
          "heatmap": [
           {
            "colorbar": {
             "outlinewidth": 0,
             "ticks": ""
            },
            "colorscale": [
             [
              0,
              "#0d0887"
             ],
             [
              0.1111111111111111,
              "#46039f"
             ],
             [
              0.2222222222222222,
              "#7201a8"
             ],
             [
              0.3333333333333333,
              "#9c179e"
             ],
             [
              0.4444444444444444,
              "#bd3786"
             ],
             [
              0.5555555555555556,
              "#d8576b"
             ],
             [
              0.6666666666666666,
              "#ed7953"
             ],
             [
              0.7777777777777778,
              "#fb9f3a"
             ],
             [
              0.8888888888888888,
              "#fdca26"
             ],
             [
              1,
              "#f0f921"
             ]
            ],
            "type": "heatmap"
           }
          ],
          "histogram": [
           {
            "marker": {
             "pattern": {
              "fillmode": "overlay",
              "size": 10,
              "solidity": 0.2
             }
            },
            "type": "histogram"
           }
          ],
          "histogram2d": [
           {
            "colorbar": {
             "outlinewidth": 0,
             "ticks": ""
            },
            "colorscale": [
             [
              0,
              "#0d0887"
             ],
             [
              0.1111111111111111,
              "#46039f"
             ],
             [
              0.2222222222222222,
              "#7201a8"
             ],
             [
              0.3333333333333333,
              "#9c179e"
             ],
             [
              0.4444444444444444,
              "#bd3786"
             ],
             [
              0.5555555555555556,
              "#d8576b"
             ],
             [
              0.6666666666666666,
              "#ed7953"
             ],
             [
              0.7777777777777778,
              "#fb9f3a"
             ],
             [
              0.8888888888888888,
              "#fdca26"
             ],
             [
              1,
              "#f0f921"
             ]
            ],
            "type": "histogram2d"
           }
          ],
          "histogram2dcontour": [
           {
            "colorbar": {
             "outlinewidth": 0,
             "ticks": ""
            },
            "colorscale": [
             [
              0,
              "#0d0887"
             ],
             [
              0.1111111111111111,
              "#46039f"
             ],
             [
              0.2222222222222222,
              "#7201a8"
             ],
             [
              0.3333333333333333,
              "#9c179e"
             ],
             [
              0.4444444444444444,
              "#bd3786"
             ],
             [
              0.5555555555555556,
              "#d8576b"
             ],
             [
              0.6666666666666666,
              "#ed7953"
             ],
             [
              0.7777777777777778,
              "#fb9f3a"
             ],
             [
              0.8888888888888888,
              "#fdca26"
             ],
             [
              1,
              "#f0f921"
             ]
            ],
            "type": "histogram2dcontour"
           }
          ],
          "mesh3d": [
           {
            "colorbar": {
             "outlinewidth": 0,
             "ticks": ""
            },
            "type": "mesh3d"
           }
          ],
          "parcoords": [
           {
            "line": {
             "colorbar": {
              "outlinewidth": 0,
              "ticks": ""
             }
            },
            "type": "parcoords"
           }
          ],
          "pie": [
           {
            "automargin": true,
            "type": "pie"
           }
          ],
          "scatter": [
           {
            "fillpattern": {
             "fillmode": "overlay",
             "size": 10,
             "solidity": 0.2
            },
            "type": "scatter"
           }
          ],
          "scatter3d": [
           {
            "line": {
             "colorbar": {
              "outlinewidth": 0,
              "ticks": ""
             }
            },
            "marker": {
             "colorbar": {
              "outlinewidth": 0,
              "ticks": ""
             }
            },
            "type": "scatter3d"
           }
          ],
          "scattercarpet": [
           {
            "marker": {
             "colorbar": {
              "outlinewidth": 0,
              "ticks": ""
             }
            },
            "type": "scattercarpet"
           }
          ],
          "scattergeo": [
           {
            "marker": {
             "colorbar": {
              "outlinewidth": 0,
              "ticks": ""
             }
            },
            "type": "scattergeo"
           }
          ],
          "scattergl": [
           {
            "marker": {
             "colorbar": {
              "outlinewidth": 0,
              "ticks": ""
             }
            },
            "type": "scattergl"
           }
          ],
          "scattermap": [
           {
            "marker": {
             "colorbar": {
              "outlinewidth": 0,
              "ticks": ""
             }
            },
            "type": "scattermap"
           }
          ],
          "scattermapbox": [
           {
            "marker": {
             "colorbar": {
              "outlinewidth": 0,
              "ticks": ""
             }
            },
            "type": "scattermapbox"
           }
          ],
          "scatterpolar": [
           {
            "marker": {
             "colorbar": {
              "outlinewidth": 0,
              "ticks": ""
             }
            },
            "type": "scatterpolar"
           }
          ],
          "scatterpolargl": [
           {
            "marker": {
             "colorbar": {
              "outlinewidth": 0,
              "ticks": ""
             }
            },
            "type": "scatterpolargl"
           }
          ],
          "scatterternary": [
           {
            "marker": {
             "colorbar": {
              "outlinewidth": 0,
              "ticks": ""
             }
            },
            "type": "scatterternary"
           }
          ],
          "surface": [
           {
            "colorbar": {
             "outlinewidth": 0,
             "ticks": ""
            },
            "colorscale": [
             [
              0,
              "#0d0887"
             ],
             [
              0.1111111111111111,
              "#46039f"
             ],
             [
              0.2222222222222222,
              "#7201a8"
             ],
             [
              0.3333333333333333,
              "#9c179e"
             ],
             [
              0.4444444444444444,
              "#bd3786"
             ],
             [
              0.5555555555555556,
              "#d8576b"
             ],
             [
              0.6666666666666666,
              "#ed7953"
             ],
             [
              0.7777777777777778,
              "#fb9f3a"
             ],
             [
              0.8888888888888888,
              "#fdca26"
             ],
             [
              1,
              "#f0f921"
             ]
            ],
            "type": "surface"
           }
          ],
          "table": [
           {
            "cells": {
             "fill": {
              "color": "#EBF0F8"
             },
             "line": {
              "color": "white"
             }
            },
            "header": {
             "fill": {
              "color": "#C8D4E3"
             },
             "line": {
              "color": "white"
             }
            },
            "type": "table"
           }
          ]
         },
         "layout": {
          "annotationdefaults": {
           "arrowcolor": "#2a3f5f",
           "arrowhead": 0,
           "arrowwidth": 1
          },
          "autotypenumbers": "strict",
          "coloraxis": {
           "colorbar": {
            "outlinewidth": 0,
            "ticks": ""
           }
          },
          "colorscale": {
           "diverging": [
            [
             0,
             "#8e0152"
            ],
            [
             0.1,
             "#c51b7d"
            ],
            [
             0.2,
             "#de77ae"
            ],
            [
             0.3,
             "#f1b6da"
            ],
            [
             0.4,
             "#fde0ef"
            ],
            [
             0.5,
             "#f7f7f7"
            ],
            [
             0.6,
             "#e6f5d0"
            ],
            [
             0.7,
             "#b8e186"
            ],
            [
             0.8,
             "#7fbc41"
            ],
            [
             0.9,
             "#4d9221"
            ],
            [
             1,
             "#276419"
            ]
           ],
           "sequential": [
            [
             0,
             "#0d0887"
            ],
            [
             0.1111111111111111,
             "#46039f"
            ],
            [
             0.2222222222222222,
             "#7201a8"
            ],
            [
             0.3333333333333333,
             "#9c179e"
            ],
            [
             0.4444444444444444,
             "#bd3786"
            ],
            [
             0.5555555555555556,
             "#d8576b"
            ],
            [
             0.6666666666666666,
             "#ed7953"
            ],
            [
             0.7777777777777778,
             "#fb9f3a"
            ],
            [
             0.8888888888888888,
             "#fdca26"
            ],
            [
             1,
             "#f0f921"
            ]
           ],
           "sequentialminus": [
            [
             0,
             "#0d0887"
            ],
            [
             0.1111111111111111,
             "#46039f"
            ],
            [
             0.2222222222222222,
             "#7201a8"
            ],
            [
             0.3333333333333333,
             "#9c179e"
            ],
            [
             0.4444444444444444,
             "#bd3786"
            ],
            [
             0.5555555555555556,
             "#d8576b"
            ],
            [
             0.6666666666666666,
             "#ed7953"
            ],
            [
             0.7777777777777778,
             "#fb9f3a"
            ],
            [
             0.8888888888888888,
             "#fdca26"
            ],
            [
             1,
             "#f0f921"
            ]
           ]
          },
          "colorway": [
           "#636efa",
           "#EF553B",
           "#00cc96",
           "#ab63fa",
           "#FFA15A",
           "#19d3f3",
           "#FF6692",
           "#B6E880",
           "#FF97FF",
           "#FECB52"
          ],
          "font": {
           "color": "#2a3f5f"
          },
          "geo": {
           "bgcolor": "white",
           "lakecolor": "white",
           "landcolor": "#E5ECF6",
           "showlakes": true,
           "showland": true,
           "subunitcolor": "white"
          },
          "hoverlabel": {
           "align": "left"
          },
          "hovermode": "closest",
          "mapbox": {
           "style": "light"
          },
          "paper_bgcolor": "white",
          "plot_bgcolor": "#E5ECF6",
          "polar": {
           "angularaxis": {
            "gridcolor": "white",
            "linecolor": "white",
            "ticks": ""
           },
           "bgcolor": "#E5ECF6",
           "radialaxis": {
            "gridcolor": "white",
            "linecolor": "white",
            "ticks": ""
           }
          },
          "scene": {
           "xaxis": {
            "backgroundcolor": "#E5ECF6",
            "gridcolor": "white",
            "gridwidth": 2,
            "linecolor": "white",
            "showbackground": true,
            "ticks": "",
            "zerolinecolor": "white"
           },
           "yaxis": {
            "backgroundcolor": "#E5ECF6",
            "gridcolor": "white",
            "gridwidth": 2,
            "linecolor": "white",
            "showbackground": true,
            "ticks": "",
            "zerolinecolor": "white"
           },
           "zaxis": {
            "backgroundcolor": "#E5ECF6",
            "gridcolor": "white",
            "gridwidth": 2,
            "linecolor": "white",
            "showbackground": true,
            "ticks": "",
            "zerolinecolor": "white"
           }
          },
          "shapedefaults": {
           "line": {
            "color": "#2a3f5f"
           }
          },
          "ternary": {
           "aaxis": {
            "gridcolor": "white",
            "linecolor": "white",
            "ticks": ""
           },
           "baxis": {
            "gridcolor": "white",
            "linecolor": "white",
            "ticks": ""
           },
           "bgcolor": "#E5ECF6",
           "caxis": {
            "gridcolor": "white",
            "linecolor": "white",
            "ticks": ""
           }
          },
          "title": {
           "x": 0.05
          },
          "xaxis": {
           "automargin": true,
           "gridcolor": "white",
           "linecolor": "white",
           "ticks": "",
           "title": {
            "standoff": 15
           },
           "zerolinecolor": "white",
           "zerolinewidth": 2
          },
          "yaxis": {
           "automargin": true,
           "gridcolor": "white",
           "linecolor": "white",
           "ticks": "",
           "title": {
            "standoff": 15
           },
           "zerolinecolor": "white",
           "zerolinewidth": 2
          }
         }
        },
        "title": {
         "text": "Répartition des jours par nombre de post à fort engagement"
        }
       }
      }
     },
     "metadata": {},
     "output_type": "display_data"
    }
   ],
   "source": [
    "fig = px.pie(\n",
    "    viral_timing.to_pandas(),\n",
    "    names=\"day_of_week\",\n",
    "    values=\"mean_engagement_total\",\n",
    "    title=\"Répartition des jours par nombre de post à fort engagement\"\n",
    ")\n",
    "\n",
    "fig.show()"
   ]
  },
  {
   "cell_type": "markdown",
   "id": "81e8266f",
   "metadata": {},
   "source": [
    "### 📊 Engagement Timing et Viral Timing (Récapitulatif)\n",
    "\n",
    "#### 🕒 Meilleurs moments pour poster\n",
    "\n",
    "| Jour de la semaine | Moment de la journée  | Engagement moyen 📈 | Partages moyens 🔄 | Thèmes principaux                         | Hashtags utiles                       |\n",
    "|:-------------------|:----------------------|:--------------------|:------------------|:-----------------------------------------|:-------------------------------------|\n",
    "| Mardi (2)           | Après-midi             | 243.5               | 25.5              | tutoriel, Technology                     | #DataWith{username}                         |\n",
    "| Mercredi (3)        | Après-midi             | 381.5               | 16.0              | tutoriel                                | #DataWith{username}                         |\n",
    "| Mercredi (3)        | Soir                   | 530.5               | 183.0             | WorkplaceCulture                         | #SocialMediaManager #Marketing       |\n",
    "| Jeudi (4)           | Après-midi             | 269.6               | 72.2              | WorkplaceCulture, tutoriel, Tech         | #WebDesign #Défi                     |\n",
    "| Jeudi (4)           | Milieu de matinée      | 277.7               | 70.3              | IA, WorkplaceCulture, DigitalTransfo    | #Deal #Finance                       |\n",
    "| Jeudi (4)           | Soir                   | 368.7               | 34.0              | WorkplaceCulture, IA, projet             | #NewDealTechnologique                |\n",
    "| Vendredi (5)        | Fin de journée         | 359.7               | 12.7              | Technology, finance                     |                                      |\n",
    "| Vendredi (5)        | Milieu de matinée      | 301.1               | 7.5               | education, projet, finance, Leadership   | #Bénin #FinanceClimatique            |\n",
    "| Vendredi (5)        | Tôt le matin           | 241.7               | 6.3               | finance, projet, IA                      | #kashmirattack #war                  |\n",
    "| Vendredi (5)        | Soir                   | 253.5               | 11.5              | projet, Technology, IA, finance          | #AI #LLM                             |\n",
    "| Samedi (7)          | Après-midi             | 321.0               | 21.0              | Leadership, tutoriel                     |                                      |\n",
    "\n",
    "---\n",
    "\n",
    "### 🚀 Moments où les posts deviennent viraux\n",
    "\n",
    "| Jour de la semaine | Moment de la journée  | Engagement moyen 📈 | Partages moyens 🔄 | Thèmes principaux                     | Hashtags efficaces                  |\n",
    "|:-------------------|:----------------------|:--------------------|:------------------|:--------------------------------------|:------------------------------------|\n",
    "| Vendredi (5)        | Fin de journée         | 759.0               | 33.0              | Technology                             |                                      |\n",
    "| Mercredi (3)        | Soir                   | 530.5               | 183.0             | WorkplaceCulture                      | #SocialMediaManager #Marketing      |\n",
    "| Vendredi (5)        | Milieu de matinée      | 487.0               | 37.0              | projet, Leadership                    | #JusticePourTous #ÉtatDeDroit        |\n",
    "| Vendredi (5)        | Après-midi             | 437.5               | 38.5              | IA, education                         | #phd #research                      |\n",
    "| Vendredi (5)        | Tôt le matin           | 411.7               | 24.7              | finance, projet                       | #Finance                            |\n",
    "| Mercredi (3)        | Après-midi             | 453.0               | 21.0              | tutoriel                               | #DataWithBen                         |\n",
    "\n",
    "---\n",
    "\n",
    "**Poster du contenu important :**\n",
    "- **Le mercredi soir** ou **vendredi en fin de journée** : 👉 **c’est là que l'engagement explose !**\n",
    "- **Utilise des hashtags populaires et liés à ton audience**, mais **n’en abuse pas** : 3 à 5 hashtags bien choisis sont souvent plus efficaces que 10 mal ciblés.\n",
    "- **Pense à recycler tes meilleurs posts** : republier légèrement modifié 2 à 3 semaines plus tard peut **doubler leur visibilité** !"
   ]
  },
  {
   "cell_type": "code",
   "execution_count": 285,
   "id": "4386c3cd",
   "metadata": {},
   "outputs": [],
   "source": [
    "import os\n",
    "for file in os.listdir(kpi_folder):\n",
    "    temp_df = pl.read_parquet(os.path.join(kpi_folder, file))\n",
    "    temp_df.write_csv(f\"Kpis_csv/{file.split(\".\")[0]}.csv\")"
   ]
  },
  {
   "cell_type": "markdown",
   "id": "79e925a4",
   "metadata": {},
   "source": [
    "# Segmentation"
   ]
  },
  {
   "cell_type": "code",
   "execution_count": 281,
   "id": "1e080adf",
   "metadata": {},
   "outputs": [],
   "source": [
    "df= df.with_columns(\n",
    "    pl.col(\"hour\").map_elements(categorize_time, return_dtype=pl.Utf8).alias(\"time_of_day\")\n",
    ")"
   ]
  },
  {
   "cell_type": "code",
   "execution_count": 283,
   "id": "39349398",
   "metadata": {},
   "outputs": [],
   "source": [
    "df_segmentation = df[[\"likes\", \"comments\", \"shares\", \"theme\", \"followers\", \"text_length\", \"day_of_week\", \"time_of_day\", \"nbr_hashtags\", \"is_viral\", \"engagement_category\"]]\n",
    "df_segmentation.write_parquet(\"data/df_segmentation.parquet\")"
   ]
  },
  {
   "cell_type": "code",
   "execution_count": 284,
   "id": "fc011d43",
   "metadata": {},
   "outputs": [
    {
     "data": {
      "text/html": [
       "<div><style>\n",
       ".dataframe > thead > tr,\n",
       ".dataframe > tbody > tr {\n",
       "  text-align: right;\n",
       "  white-space: pre-wrap;\n",
       "}\n",
       "</style>\n",
       "<small>shape: (5, 11)</small><table border=\"1\" class=\"dataframe\"><thead><tr><th>likes</th><th>comments</th><th>shares</th><th>theme</th><th>followers</th><th>text_length</th><th>day_of_week</th><th>time_of_day</th><th>nbr_hashtags</th><th>is_viral</th><th>engagement_category</th></tr><tr><td>i64</td><td>i64</td><td>i64</td><td>str</td><td>i64</td><td>u32</td><td>i8</td><td>str</td><td>i64</td><td>bool</td><td>str</td></tr></thead><tbody><tr><td>25</td><td>21</td><td>0</td><td>&quot;IA&quot;</td><td>15414</td><td>318</td><td>4</td><td>&quot;Fin de journée&quot;</td><td>2</td><td>false</td><td>&quot;Faible&quot;</td></tr><tr><td>5</td><td>0</td><td>0</td><td>&quot;IA&quot;</td><td>471</td><td>43</td><td>4</td><td>&quot;Soir&quot;</td><td>15</td><td>false</td><td>&quot;Faible&quot;</td></tr><tr><td>0</td><td>0</td><td>0</td><td>&quot;IA&quot;</td><td>0</td><td>6</td><td>5</td><td>&quot;Soir&quot;</td><td>5</td><td>false</td><td>&quot;Faible&quot;</td></tr><tr><td>0</td><td>0</td><td>0</td><td>&quot;IA&quot;</td><td>15929</td><td>1</td><td>5</td><td>&quot;Soir&quot;</td><td>0</td><td>false</td><td>&quot;Faible&quot;</td></tr><tr><td>0</td><td>0</td><td>0</td><td>&quot;IA&quot;</td><td>0</td><td>17</td><td>5</td><td>&quot;Tôt le matin&quot;</td><td>4</td><td>false</td><td>&quot;Faible&quot;</td></tr></tbody></table></div>"
      ],
      "text/plain": [
       "shape: (5, 11)\n",
       "┌───────┬──────────┬────────┬───────┬───┬────────────────┬──────────────┬──────────┬───────────────┐\n",
       "│ likes ┆ comments ┆ shares ┆ theme ┆ … ┆ time_of_day    ┆ nbr_hashtags ┆ is_viral ┆ engagement_ca │\n",
       "│ ---   ┆ ---      ┆ ---    ┆ ---   ┆   ┆ ---            ┆ ---          ┆ ---      ┆ tegory        │\n",
       "│ i64   ┆ i64      ┆ i64    ┆ str   ┆   ┆ str            ┆ i64          ┆ bool     ┆ ---           │\n",
       "│       ┆          ┆        ┆       ┆   ┆                ┆              ┆          ┆ str           │\n",
       "╞═══════╪══════════╪════════╪═══════╪═══╪════════════════╪══════════════╪══════════╪═══════════════╡\n",
       "│ 25    ┆ 21       ┆ 0      ┆ IA    ┆ … ┆ Fin de journée ┆ 2            ┆ false    ┆ Faible        │\n",
       "│ 5     ┆ 0        ┆ 0      ┆ IA    ┆ … ┆ Soir           ┆ 15           ┆ false    ┆ Faible        │\n",
       "│ 0     ┆ 0        ┆ 0      ┆ IA    ┆ … ┆ Soir           ┆ 5            ┆ false    ┆ Faible        │\n",
       "│ 0     ┆ 0        ┆ 0      ┆ IA    ┆ … ┆ Soir           ┆ 0            ┆ false    ┆ Faible        │\n",
       "│ 0     ┆ 0        ┆ 0      ┆ IA    ┆ … ┆ Tôt le matin   ┆ 4            ┆ false    ┆ Faible        │\n",
       "└───────┴──────────┴────────┴───────┴───┴────────────────┴──────────────┴──────────┴───────────────┘"
      ]
     },
     "execution_count": 284,
     "metadata": {},
     "output_type": "execute_result"
    }
   ],
   "source": [
    "df_segmentation.head()"
   ]
  }
 ],
 "metadata": {
  "kernelspec": {
   "display_name": "Python 3",
   "language": "python",
   "name": "python3"
  },
  "language_info": {
   "codemirror_mode": {
    "name": "ipython",
    "version": 3
   },
   "file_extension": ".py",
   "mimetype": "text/x-python",
   "name": "python",
   "nbconvert_exporter": "python",
   "pygments_lexer": "ipython3",
   "version": "3.12.5"
  }
 },
 "nbformat": 4,
 "nbformat_minor": 5
}
